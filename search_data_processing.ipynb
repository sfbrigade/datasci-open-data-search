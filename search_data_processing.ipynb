{
 "cells": [
  {
   "cell_type": "markdown",
   "metadata": {},
   "source": [
    "Search Data Processing\n",
    "=========================\n",
    "\n"
   ]
  },
  {
   "cell_type": "code",
   "execution_count": 20,
   "metadata": {
    "collapsed": true
   },
   "outputs": [],
   "source": [
    "import sys\n",
    "sys.path.insert(0, 'helper_modules/')"
   ]
  },
  {
   "cell_type": "code",
   "execution_count": 21,
   "metadata": {},
   "outputs": [],
   "source": [
    "import pandas as pd\n",
    "import re\n",
    "from search_terms import *\n",
    "from enchant.checker import SpellChecker\n",
    "import enchant\n",
    "from spell_corrector import *\n",
    "\n",
    "# for paralellization\n",
    "from functools import partial\n",
    "from rosetta.parallel.parallel_easy import map_easy\n",
    "\n",
    "import warnings\n",
    "warnings.filterwarnings('ignore')"
   ]
  },
  {
   "cell_type": "markdown",
   "metadata": {},
   "source": [
    "## Import Search Data"
   ]
  },
  {
   "cell_type": "code",
   "execution_count": 4,
   "metadata": {
    "collapsed": true
   },
   "outputs": [],
   "source": [
    "#search_data = pd.read_csv(\"./data/sample_openData_searchTerms_clean.csv\") # sample data only\n",
    "all_search_data_df = pd.read_csv(\"./data/all_queries.csv\")\n",
    "all_search_data_df = all_search_data_df.rename(columns={\"ga.searchKeyword\":\"search_term\"})\\\n",
    "                                       .rename(columns={\"ga.searchUniques\":\"num_unique_searches\"})"
   ]
  },
  {
   "cell_type": "code",
   "execution_count": 5,
   "metadata": {},
   "outputs": [
    {
     "data": {
      "text/plain": [
       "(116291, 9)"
      ]
     },
     "execution_count": 5,
     "metadata": {},
     "output_type": "execute_result"
    }
   ],
   "source": [
    "all_search_data_df.shape"
   ]
  },
  {
   "cell_type": "code",
   "execution_count": 6,
   "metadata": {},
   "outputs": [
    {
     "data": {
      "text/html": [
       "<div>\n",
       "<style>\n",
       "    .dataframe thead tr:only-child th {\n",
       "        text-align: right;\n",
       "    }\n",
       "\n",
       "    .dataframe thead th {\n",
       "        text-align: left;\n",
       "    }\n",
       "\n",
       "    .dataframe tbody tr th {\n",
       "        vertical-align: top;\n",
       "    }\n",
       "</style>\n",
       "<table border=\"1\" class=\"dataframe\">\n",
       "  <thead>\n",
       "    <tr style=\"text-align: right;\">\n",
       "      <th></th>\n",
       "      <th>search_term</th>\n",
       "      <th>ga.searchStartPage</th>\n",
       "      <th>ga.searchAfterDestinationPage</th>\n",
       "      <th>num_unique_searches</th>\n",
       "      <th>ga.avgSearchResultViews</th>\n",
       "      <th>ga.avgSearchDepth</th>\n",
       "      <th>ga.percentSearchRefinements</th>\n",
       "      <th>ga.searchDuration</th>\n",
       "      <th>ga.searchExitRate</th>\n",
       "    </tr>\n",
       "  </thead>\n",
       "  <tbody>\n",
       "    <tr>\n",
       "      <th>0</th>\n",
       "      <td>crime</td>\n",
       "      <td>'/</td>\n",
       "      <td>'/data?search=crime</td>\n",
       "      <td>451</td>\n",
       "      <td>1.066519</td>\n",
       "      <td>0.00</td>\n",
       "      <td>0.000000</td>\n",
       "      <td>62</td>\n",
       "      <td>0</td>\n",
       "    </tr>\n",
       "    <tr>\n",
       "      <th>1</th>\n",
       "      <td>business</td>\n",
       "      <td>'/</td>\n",
       "      <td>'/data?search=business</td>\n",
       "      <td>319</td>\n",
       "      <td>1.106583</td>\n",
       "      <td>0.00</td>\n",
       "      <td>0.000000</td>\n",
       "      <td>5</td>\n",
       "      <td>0</td>\n",
       "    </tr>\n",
       "    <tr>\n",
       "      <th>2</th>\n",
       "      <td>311</td>\n",
       "      <td>'/</td>\n",
       "      <td>'/data?search=311</td>\n",
       "      <td>221</td>\n",
       "      <td>1.135747</td>\n",
       "      <td>0.00</td>\n",
       "      <td>0.000000</td>\n",
       "      <td>7</td>\n",
       "      <td>0</td>\n",
       "    </tr>\n",
       "    <tr>\n",
       "      <th>3</th>\n",
       "      <td>crime</td>\n",
       "      <td>'/</td>\n",
       "      <td>'/browse/embed?Department-Metrics_Publishing-D...</td>\n",
       "      <td>200</td>\n",
       "      <td>1.070000</td>\n",
       "      <td>4.54</td>\n",
       "      <td>12.149533</td>\n",
       "      <td>48646</td>\n",
       "      <td>0</td>\n",
       "    </tr>\n",
       "    <tr>\n",
       "      <th>4</th>\n",
       "      <td>streets</td>\n",
       "      <td>'/</td>\n",
       "      <td>'/data?search=streets</td>\n",
       "      <td>169</td>\n",
       "      <td>1.047337</td>\n",
       "      <td>0.00</td>\n",
       "      <td>0.000000</td>\n",
       "      <td>3</td>\n",
       "      <td>0</td>\n",
       "    </tr>\n",
       "  </tbody>\n",
       "</table>\n",
       "</div>"
      ],
      "text/plain": [
       "  search_term ga.searchStartPage  \\\n",
       "0       crime                 '/   \n",
       "1    business                 '/   \n",
       "2         311                 '/   \n",
       "3       crime                 '/   \n",
       "4     streets                 '/   \n",
       "\n",
       "                       ga.searchAfterDestinationPage  num_unique_searches  \\\n",
       "0                                '/data?search=crime                  451   \n",
       "1                             '/data?search=business                  319   \n",
       "2                                  '/data?search=311                  221   \n",
       "3  '/browse/embed?Department-Metrics_Publishing-D...                  200   \n",
       "4                              '/data?search=streets                  169   \n",
       "\n",
       "   ga.avgSearchResultViews  ga.avgSearchDepth  ga.percentSearchRefinements  \\\n",
       "0                 1.066519               0.00                     0.000000   \n",
       "1                 1.106583               0.00                     0.000000   \n",
       "2                 1.135747               0.00                     0.000000   \n",
       "3                 1.070000               4.54                    12.149533   \n",
       "4                 1.047337               0.00                     0.000000   \n",
       "\n",
       "   ga.searchDuration  ga.searchExitRate  \n",
       "0                 62                  0  \n",
       "1                  5                  0  \n",
       "2                  7                  0  \n",
       "3              48646                  0  \n",
       "4                  3                  0  "
      ]
     },
     "execution_count": 6,
     "metadata": {},
     "output_type": "execute_result"
    }
   ],
   "source": [
    "all_search_data_df.head()"
   ]
  },
  {
   "cell_type": "code",
   "execution_count": 7,
   "metadata": {
    "collapsed": true
   },
   "outputs": [],
   "source": [
    "search_terms_df = all_search_data_df[['search_term','num_unique_searches']]\n",
    "search_terms_list = list(set(all_search_data_df['search_term']))"
   ]
  },
  {
   "cell_type": "code",
   "execution_count": 8,
   "metadata": {},
   "outputs": [
    {
     "data": {
      "text/html": [
       "<div>\n",
       "<style>\n",
       "    .dataframe thead tr:only-child th {\n",
       "        text-align: right;\n",
       "    }\n",
       "\n",
       "    .dataframe thead th {\n",
       "        text-align: left;\n",
       "    }\n",
       "\n",
       "    .dataframe tbody tr th {\n",
       "        vertical-align: top;\n",
       "    }\n",
       "</style>\n",
       "<table border=\"1\" class=\"dataframe\">\n",
       "  <thead>\n",
       "    <tr style=\"text-align: right;\">\n",
       "      <th></th>\n",
       "      <th>search_term</th>\n",
       "      <th>num_unique_searches</th>\n",
       "    </tr>\n",
       "  </thead>\n",
       "  <tbody>\n",
       "    <tr>\n",
       "      <th>0</th>\n",
       "      <td>crime</td>\n",
       "      <td>451</td>\n",
       "    </tr>\n",
       "    <tr>\n",
       "      <th>1</th>\n",
       "      <td>business</td>\n",
       "      <td>319</td>\n",
       "    </tr>\n",
       "    <tr>\n",
       "      <th>2</th>\n",
       "      <td>311</td>\n",
       "      <td>221</td>\n",
       "    </tr>\n",
       "    <tr>\n",
       "      <th>3</th>\n",
       "      <td>crime</td>\n",
       "      <td>200</td>\n",
       "    </tr>\n",
       "    <tr>\n",
       "      <th>4</th>\n",
       "      <td>streets</td>\n",
       "      <td>169</td>\n",
       "    </tr>\n",
       "  </tbody>\n",
       "</table>\n",
       "</div>"
      ],
      "text/plain": [
       "  search_term  num_unique_searches\n",
       "0       crime                  451\n",
       "1    business                  319\n",
       "2         311                  221\n",
       "3       crime                  200\n",
       "4     streets                  169"
      ]
     },
     "execution_count": 8,
     "metadata": {},
     "output_type": "execute_result"
    }
   ],
   "source": [
    "search_terms_df.head()"
   ]
  },
  {
   "cell_type": "code",
   "execution_count": 9,
   "metadata": {},
   "outputs": [
    {
     "name": "stdout",
     "output_type": "stream",
     "text": [
      "['sea temperature', '\"Basemap Street Centerlines', 'tree coverage', '631 folsom st', 'farmers market', 'vilations', 'active business locations', 'Lyft drivers', 'lot LINE', 'lot and block numbers', 'traffic calming', 'salla vaerma-jadlos', 'INCIDENTS', 'community based organizations', 'city-owned', 'technology staff', 'pdf parcel', 'energy performance', 'historical weather data', 'street tress', 'nature veature', 'car traffic', 'electricity', 'sexual assault', 'survey 2014', 'survey 2015', 'consulate', 'Casey', 'sffd', 'traffic control camera location', 'business San Francisco', 'massage establishments', 'muni stop', 'zipcar', 'Bike crime data', 'socrata', 'san francisco parking', 'Tank hill', 'San Francisco Bay region', 'Existing SF Commercial Wireless Facilities', 'lobbyist payments', 'lyft driver', 'illegal immigrant', 'same sex marriage', 'census block shapefile', 'solar panel cost', 'city council candidate', 'wind data', 'parking regulations', 'narcotic']\n"
     ]
    }
   ],
   "source": [
    "print search_terms_list[0:50]"
   ]
  },
  {
   "cell_type": "markdown",
   "metadata": {},
   "source": [
    "## Light Processing of Search Terms"
   ]
  },
  {
   "cell_type": "code",
   "execution_count": 10,
   "metadata": {
    "collapsed": true
   },
   "outputs": [],
   "source": [
    "search_terms_df['processed_search_term'] = search_terms_df.search_term\\\n",
    "                                    .apply(lambda text: str(text).lower().strip())\\\n",
    "                                    .apply(lambda text: text.decode('utf-8','ignore').encode(\"utf-8\"))\\\n",
    "                                    .apply(lambda text: re.sub(r'^\"|\"$', '', text))  # remove leading/trailing quotes\n",
    "                                        "
   ]
  },
  {
   "cell_type": "code",
   "execution_count": 11,
   "metadata": {},
   "outputs": [
    {
     "data": {
      "text/html": [
       "<div>\n",
       "<style>\n",
       "    .dataframe thead tr:only-child th {\n",
       "        text-align: right;\n",
       "    }\n",
       "\n",
       "    .dataframe thead th {\n",
       "        text-align: left;\n",
       "    }\n",
       "\n",
       "    .dataframe tbody tr th {\n",
       "        vertical-align: top;\n",
       "    }\n",
       "</style>\n",
       "<table border=\"1\" class=\"dataframe\">\n",
       "  <thead>\n",
       "    <tr style=\"text-align: right;\">\n",
       "      <th></th>\n",
       "      <th>search_term</th>\n",
       "      <th>num_unique_searches</th>\n",
       "      <th>processed_search_term</th>\n",
       "    </tr>\n",
       "  </thead>\n",
       "  <tbody>\n",
       "    <tr>\n",
       "      <th>0</th>\n",
       "      <td>crime</td>\n",
       "      <td>451</td>\n",
       "      <td>crime</td>\n",
       "    </tr>\n",
       "    <tr>\n",
       "      <th>1</th>\n",
       "      <td>business</td>\n",
       "      <td>319</td>\n",
       "      <td>business</td>\n",
       "    </tr>\n",
       "    <tr>\n",
       "      <th>2</th>\n",
       "      <td>311</td>\n",
       "      <td>221</td>\n",
       "      <td>311</td>\n",
       "    </tr>\n",
       "    <tr>\n",
       "      <th>3</th>\n",
       "      <td>crime</td>\n",
       "      <td>200</td>\n",
       "      <td>crime</td>\n",
       "    </tr>\n",
       "    <tr>\n",
       "      <th>4</th>\n",
       "      <td>streets</td>\n",
       "      <td>169</td>\n",
       "      <td>streets</td>\n",
       "    </tr>\n",
       "  </tbody>\n",
       "</table>\n",
       "</div>"
      ],
      "text/plain": [
       "  search_term  num_unique_searches processed_search_term\n",
       "0       crime                  451                 crime\n",
       "1    business                  319              business\n",
       "2         311                  221                   311\n",
       "3       crime                  200                 crime\n",
       "4     streets                  169               streets"
      ]
     },
     "execution_count": 11,
     "metadata": {},
     "output_type": "execute_result"
    }
   ],
   "source": [
    "search_terms_df.head()"
   ]
  },
  {
   "cell_type": "code",
   "execution_count": 12,
   "metadata": {
    "collapsed": true
   },
   "outputs": [],
   "source": [
    "search_terms_totals = search_terms_df.groupby(by = 'processed_search_term')[['num_unique_searches']]\\\n",
    "                                     .sum().sort_values('num_unique_searches', ascending = False).reset_index()"
   ]
  },
  {
   "cell_type": "code",
   "execution_count": 31,
   "metadata": {},
   "outputs": [
    {
     "data": {
      "text/plain": [
       "(18370, 3)"
      ]
     },
     "execution_count": 31,
     "metadata": {},
     "output_type": "execute_result"
    }
   ],
   "source": [
    "search_terms_totals.shape"
   ]
  },
  {
   "cell_type": "markdown",
   "metadata": {},
   "source": [
    "## Most popular search terms"
   ]
  },
  {
   "cell_type": "code",
   "execution_count": 13,
   "metadata": {},
   "outputs": [
    {
     "data": {
      "text/html": [
       "<div>\n",
       "<style>\n",
       "    .dataframe thead tr:only-child th {\n",
       "        text-align: right;\n",
       "    }\n",
       "\n",
       "    .dataframe thead th {\n",
       "        text-align: left;\n",
       "    }\n",
       "\n",
       "    .dataframe tbody tr th {\n",
       "        vertical-align: top;\n",
       "    }\n",
       "</style>\n",
       "<table border=\"1\" class=\"dataframe\">\n",
       "  <thead>\n",
       "    <tr style=\"text-align: right;\">\n",
       "      <th></th>\n",
       "      <th>processed_search_term</th>\n",
       "      <th>num_unique_searches</th>\n",
       "    </tr>\n",
       "  </thead>\n",
       "  <tbody>\n",
       "    <tr>\n",
       "      <th>0</th>\n",
       "      <td>crime</td>\n",
       "      <td>2031</td>\n",
       "    </tr>\n",
       "    <tr>\n",
       "      <th>1</th>\n",
       "      <td>parking</td>\n",
       "      <td>862</td>\n",
       "    </tr>\n",
       "    <tr>\n",
       "      <th>2</th>\n",
       "      <td>business</td>\n",
       "      <td>846</td>\n",
       "    </tr>\n",
       "    <tr>\n",
       "      <th>3</th>\n",
       "      <td>streets</td>\n",
       "      <td>780</td>\n",
       "    </tr>\n",
       "    <tr>\n",
       "      <th>4</th>\n",
       "      <td>311</td>\n",
       "      <td>677</td>\n",
       "    </tr>\n",
       "    <tr>\n",
       "      <th>5</th>\n",
       "      <td>parcel</td>\n",
       "      <td>461</td>\n",
       "    </tr>\n",
       "    <tr>\n",
       "      <th>6</th>\n",
       "      <td>shapefile</td>\n",
       "      <td>458</td>\n",
       "    </tr>\n",
       "    <tr>\n",
       "      <th>7</th>\n",
       "      <td>street</td>\n",
       "      <td>458</td>\n",
       "    </tr>\n",
       "    <tr>\n",
       "      <th>8</th>\n",
       "      <td>population</td>\n",
       "      <td>428</td>\n",
       "    </tr>\n",
       "    <tr>\n",
       "      <th>9</th>\n",
       "      <td>restaurants</td>\n",
       "      <td>428</td>\n",
       "    </tr>\n",
       "    <tr>\n",
       "      <th>10</th>\n",
       "      <td>water</td>\n",
       "      <td>420</td>\n",
       "    </tr>\n",
       "    <tr>\n",
       "      <th>11</th>\n",
       "      <td>traffic</td>\n",
       "      <td>400</td>\n",
       "    </tr>\n",
       "    <tr>\n",
       "      <th>12</th>\n",
       "      <td>parks</td>\n",
       "      <td>390</td>\n",
       "    </tr>\n",
       "    <tr>\n",
       "      <th>13</th>\n",
       "      <td>census</td>\n",
       "      <td>371</td>\n",
       "    </tr>\n",
       "    <tr>\n",
       "      <th>14</th>\n",
       "      <td>land use</td>\n",
       "      <td>358</td>\n",
       "    </tr>\n",
       "    <tr>\n",
       "      <th>15</th>\n",
       "      <td>income</td>\n",
       "      <td>351</td>\n",
       "    </tr>\n",
       "    <tr>\n",
       "      <th>16</th>\n",
       "      <td>neighborhood</td>\n",
       "      <td>337</td>\n",
       "    </tr>\n",
       "    <tr>\n",
       "      <th>17</th>\n",
       "      <td>restaurant</td>\n",
       "      <td>336</td>\n",
       "    </tr>\n",
       "    <tr>\n",
       "      <th>18</th>\n",
       "      <td>bike</td>\n",
       "      <td>336</td>\n",
       "    </tr>\n",
       "    <tr>\n",
       "      <th>19</th>\n",
       "      <td>muni</td>\n",
       "      <td>313</td>\n",
       "    </tr>\n",
       "  </tbody>\n",
       "</table>\n",
       "</div>"
      ],
      "text/plain": [
       "   processed_search_term  num_unique_searches\n",
       "0                  crime                 2031\n",
       "1                parking                  862\n",
       "2               business                  846\n",
       "3                streets                  780\n",
       "4                    311                  677\n",
       "5                 parcel                  461\n",
       "6              shapefile                  458\n",
       "7                 street                  458\n",
       "8             population                  428\n",
       "9            restaurants                  428\n",
       "10                 water                  420\n",
       "11               traffic                  400\n",
       "12                 parks                  390\n",
       "13                census                  371\n",
       "14              land use                  358\n",
       "15                income                  351\n",
       "16          neighborhood                  337\n",
       "17            restaurant                  336\n",
       "18                  bike                  336\n",
       "19                  muni                  313"
      ]
     },
     "execution_count": 13,
     "metadata": {},
     "output_type": "execute_result"
    }
   ],
   "source": [
    "search_terms_totals.head(20)"
   ]
  },
  {
   "cell_type": "code",
   "execution_count": 14,
   "metadata": {},
   "outputs": [
    {
     "data": {
      "text/html": [
       "<div>\n",
       "<style>\n",
       "    .dataframe thead tr:only-child th {\n",
       "        text-align: right;\n",
       "    }\n",
       "\n",
       "    .dataframe thead th {\n",
       "        text-align: left;\n",
       "    }\n",
       "\n",
       "    .dataframe tbody tr th {\n",
       "        vertical-align: top;\n",
       "    }\n",
       "</style>\n",
       "<table border=\"1\" class=\"dataframe\">\n",
       "  <thead>\n",
       "    <tr style=\"text-align: right;\">\n",
       "      <th></th>\n",
       "      <th>processed_search_term</th>\n",
       "      <th>num_unique_searches</th>\n",
       "    </tr>\n",
       "  </thead>\n",
       "  <tbody>\n",
       "    <tr>\n",
       "      <th>18360</th>\n",
       "      <td>fertility</td>\n",
       "      <td>1</td>\n",
       "    </tr>\n",
       "    <tr>\n",
       "      <th>18361</th>\n",
       "      <td>fertility rate</td>\n",
       "      <td>1</td>\n",
       "    </tr>\n",
       "    <tr>\n",
       "      <th>18362</th>\n",
       "      <td>festivals</td>\n",
       "      <td>1</td>\n",
       "    </tr>\n",
       "    <tr>\n",
       "      <th>18363</th>\n",
       "      <td>fetal</td>\n",
       "      <td>1</td>\n",
       "    </tr>\n",
       "    <tr>\n",
       "      <th>18364</th>\n",
       "      <td>fewer</td>\n",
       "      <td>1</td>\n",
       "    </tr>\n",
       "    <tr>\n",
       "      <th>18365</th>\n",
       "      <td>fiber optics</td>\n",
       "      <td>1</td>\n",
       "    </tr>\n",
       "    <tr>\n",
       "      <th>18366</th>\n",
       "      <td>fibre</td>\n",
       "      <td>1</td>\n",
       "    </tr>\n",
       "    <tr>\n",
       "      <th>18367</th>\n",
       "      <td>ficticious business name</td>\n",
       "      <td>1</td>\n",
       "    </tr>\n",
       "    <tr>\n",
       "      <th>18368</th>\n",
       "      <td>ficticious business names</td>\n",
       "      <td>1</td>\n",
       "    </tr>\n",
       "    <tr>\n",
       "      <th>18369</th>\n",
       "      <td>Ｓａｎ Ｆｒａｎｃｉｓｃｏ</td>\n",
       "      <td>1</td>\n",
       "    </tr>\n",
       "  </tbody>\n",
       "</table>\n",
       "</div>"
      ],
      "text/plain": [
       "           processed_search_term  num_unique_searches\n",
       "18360                  fertility                    1\n",
       "18361             fertility rate                    1\n",
       "18362                  festivals                    1\n",
       "18363                      fetal                    1\n",
       "18364                      fewer                    1\n",
       "18365               fiber optics                    1\n",
       "18366                      fibre                    1\n",
       "18367   ficticious business name                    1\n",
       "18368  ficticious business names                    1\n",
       "18369              Ｓａｎ Ｆｒａｎｃｉｓｃｏ                    1"
      ]
     },
     "execution_count": 14,
     "metadata": {},
     "output_type": "execute_result"
    }
   ],
   "source": [
    "search_terms_totals.tail(10)"
   ]
  },
  {
   "cell_type": "markdown",
   "metadata": {},
   "source": [
    "## Each search term needs to be tagged in categories of quality\n",
    "\n",
    "Many search terms indicate that users are not informed on what the purpose of the website is or how to properly use search.\n",
    "### Search Tags\n",
    "* #### Good Quality Search\n",
    "    * complete words or phrases\n",
    "    * minor typos\n",
    "* #### Bad Quality\n",
    "    * Addresses\n",
    "    * Dates\n",
    "    * Zipcodes or just a string of numbers\n",
    "    * General nonsenses eg. ('></script><script>alert(1)</script>', '///', '16exc-3031') "
   ]
  },
  {
   "cell_type": "markdown",
   "metadata": {},
   "source": [
    "## Implementing Spell Checker"
   ]
  },
  {
   "cell_type": "code",
   "execution_count": 22,
   "metadata": {},
   "outputs": [],
   "source": [
    "# Load Spellchecker objects\n",
    "d = enchant.Dict('en_US')\n",
    "chkr = SpellChecker('en_US')\n",
    "\n",
    "#from NER_people_location import *\n",
    "from NER_spacy import *\n",
    "\n",
    "def check_phrase(phrase):\n",
    "    '''\n",
    "    Uses enchant spellchecker to count the number of mispelled words in the phrase\n",
    "    returns the number of errors found\n",
    "    '''\n",
    "    phrase = str(phrase)\n",
    "    errors = 0\n",
    "    chkr.set_text(phrase)\n",
    "    for err in chkr:\n",
    "        errors += 1\n",
    "        \n",
    "    return errors\n",
    "\n",
    "def check_phrase2(phrase):\n",
    "    phrase = phrase.strip()\n",
    "    print phrase\n",
    "    errors = 0\n",
    "    word_list = phrase.split(\" \")\n",
    "    for word in word_list:\n",
    "        try:\n",
    "            if d.check(word) == False:\n",
    "                errors+=1\n",
    "            else:\n",
    "                pass\n",
    "        except:\n",
    "            return \"error\"\n",
    "    return errors"
   ]
  },
  {
   "cell_type": "code",
   "execution_count": 23,
   "metadata": {},
   "outputs": [
    {
     "name": "stdout",
     "output_type": "stream",
     "text": [
      "home business\n"
     ]
    }
   ],
   "source": [
    "print correction_phrase(\"home busienss\")"
   ]
  },
  {
   "cell_type": "code",
   "execution_count": 24,
   "metadata": {},
   "outputs": [
    {
     "data": {
      "text/plain": [
       "2"
      ]
     },
     "execution_count": 24,
     "metadata": {},
     "output_type": "execute_result"
    }
   ],
   "source": [
    "check_phrase(\"feminrrist technolrogy collective \")"
   ]
  },
  {
   "cell_type": "code",
   "execution_count": 32,
   "metadata": {
    "collapsed": true
   },
   "outputs": [],
   "source": [
    "search_terms_totals['spelling_errors'] = search_terms_totals.processed_search_term\\\n",
    "                                            .apply(lambda x: check_phrase(x))"
   ]
  },
  {
   "cell_type": "code",
   "execution_count": 26,
   "metadata": {},
   "outputs": [
    {
     "data": {
      "text/html": [
       "<div>\n",
       "<style>\n",
       "    .dataframe thead tr:only-child th {\n",
       "        text-align: right;\n",
       "    }\n",
       "\n",
       "    .dataframe thead th {\n",
       "        text-align: left;\n",
       "    }\n",
       "\n",
       "    .dataframe tbody tr th {\n",
       "        vertical-align: top;\n",
       "    }\n",
       "</style>\n",
       "<table border=\"1\" class=\"dataframe\">\n",
       "  <thead>\n",
       "    <tr style=\"text-align: right;\">\n",
       "      <th></th>\n",
       "      <th>processed_search_term</th>\n",
       "      <th>num_unique_searches</th>\n",
       "      <th>spelling_errors</th>\n",
       "    </tr>\n",
       "  </thead>\n",
       "  <tbody>\n",
       "    <tr>\n",
       "      <th>0</th>\n",
       "      <td>crime</td>\n",
       "      <td>2031</td>\n",
       "      <td>0</td>\n",
       "    </tr>\n",
       "    <tr>\n",
       "      <th>1</th>\n",
       "      <td>parking</td>\n",
       "      <td>862</td>\n",
       "      <td>0</td>\n",
       "    </tr>\n",
       "    <tr>\n",
       "      <th>2</th>\n",
       "      <td>business</td>\n",
       "      <td>846</td>\n",
       "      <td>0</td>\n",
       "    </tr>\n",
       "    <tr>\n",
       "      <th>3</th>\n",
       "      <td>streets</td>\n",
       "      <td>780</td>\n",
       "      <td>0</td>\n",
       "    </tr>\n",
       "    <tr>\n",
       "      <th>4</th>\n",
       "      <td>311</td>\n",
       "      <td>677</td>\n",
       "      <td>0</td>\n",
       "    </tr>\n",
       "  </tbody>\n",
       "</table>\n",
       "</div>"
      ],
      "text/plain": [
       "  processed_search_term  num_unique_searches  spelling_errors\n",
       "0                 crime                 2031                0\n",
       "1               parking                  862                0\n",
       "2              business                  846                0\n",
       "3               streets                  780                0\n",
       "4                   311                  677                0"
      ]
     },
     "execution_count": 26,
     "metadata": {},
     "output_type": "execute_result"
    }
   ],
   "source": [
    "search_terms_totals.head()"
   ]
  },
  {
   "cell_type": "code",
   "execution_count": 33,
   "metadata": {
    "collapsed": true
   },
   "outputs": [],
   "source": [
    "search_spelling_errors = search_terms_totals.ix[search_terms_totals.spelling_errors > 0]\n",
    "non_spelling_errors = search_terms_totals.ix[search_terms_totals.spelling_errors == 0]\n",
    "\n",
    "# Create sample\n",
    "search_spelling_errors = search_spelling_errors[0:100]"
   ]
  },
  {
   "cell_type": "code",
   "execution_count": 34,
   "metadata": {},
   "outputs": [
    {
     "data": {
      "text/html": [
       "<div>\n",
       "<style>\n",
       "    .dataframe thead tr:only-child th {\n",
       "        text-align: right;\n",
       "    }\n",
       "\n",
       "    .dataframe thead th {\n",
       "        text-align: left;\n",
       "    }\n",
       "\n",
       "    .dataframe tbody tr th {\n",
       "        vertical-align: top;\n",
       "    }\n",
       "</style>\n",
       "<table border=\"1\" class=\"dataframe\">\n",
       "  <thead>\n",
       "    <tr style=\"text-align: right;\">\n",
       "      <th></th>\n",
       "      <th>processed_search_term</th>\n",
       "      <th>num_unique_searches</th>\n",
       "      <th>spelling_errors</th>\n",
       "    </tr>\n",
       "  </thead>\n",
       "  <tbody>\n",
       "    <tr>\n",
       "      <th>18353</th>\n",
       "      <td>fern st</td>\n",
       "      <td>1</td>\n",
       "      <td>0</td>\n",
       "    </tr>\n",
       "    <tr>\n",
       "      <th>18354</th>\n",
       "      <td>ferry map</td>\n",
       "      <td>1</td>\n",
       "      <td>0</td>\n",
       "    </tr>\n",
       "    <tr>\n",
       "      <th>18355</th>\n",
       "      <td>ferry routes</td>\n",
       "      <td>1</td>\n",
       "      <td>0</td>\n",
       "    </tr>\n",
       "    <tr>\n",
       "      <th>18358</th>\n",
       "      <td>ferry treasure island</td>\n",
       "      <td>1</td>\n",
       "      <td>0</td>\n",
       "    </tr>\n",
       "    <tr>\n",
       "      <th>18360</th>\n",
       "      <td>fertility</td>\n",
       "      <td>1</td>\n",
       "      <td>0</td>\n",
       "    </tr>\n",
       "    <tr>\n",
       "      <th>18361</th>\n",
       "      <td>fertility rate</td>\n",
       "      <td>1</td>\n",
       "      <td>0</td>\n",
       "    </tr>\n",
       "    <tr>\n",
       "      <th>18362</th>\n",
       "      <td>festivals</td>\n",
       "      <td>1</td>\n",
       "      <td>0</td>\n",
       "    </tr>\n",
       "    <tr>\n",
       "      <th>18363</th>\n",
       "      <td>fetal</td>\n",
       "      <td>1</td>\n",
       "      <td>0</td>\n",
       "    </tr>\n",
       "    <tr>\n",
       "      <th>18364</th>\n",
       "      <td>fewer</td>\n",
       "      <td>1</td>\n",
       "      <td>0</td>\n",
       "    </tr>\n",
       "    <tr>\n",
       "      <th>18365</th>\n",
       "      <td>fiber optics</td>\n",
       "      <td>1</td>\n",
       "      <td>0</td>\n",
       "    </tr>\n",
       "  </tbody>\n",
       "</table>\n",
       "</div>"
      ],
      "text/plain": [
       "       processed_search_term  num_unique_searches  spelling_errors\n",
       "18353                fern st                    1                0\n",
       "18354              ferry map                    1                0\n",
       "18355           ferry routes                    1                0\n",
       "18358  ferry treasure island                    1                0\n",
       "18360              fertility                    1                0\n",
       "18361         fertility rate                    1                0\n",
       "18362              festivals                    1                0\n",
       "18363                  fetal                    1                0\n",
       "18364                  fewer                    1                0\n",
       "18365           fiber optics                    1                0"
      ]
     },
     "execution_count": 34,
     "metadata": {},
     "output_type": "execute_result"
    }
   ],
   "source": [
    "non_spelling_errors.tail(10)"
   ]
  },
  {
   "cell_type": "code",
   "execution_count": 29,
   "metadata": {},
   "outputs": [
    {
     "data": {
      "text/html": [
       "<div>\n",
       "<style>\n",
       "    .dataframe thead tr:only-child th {\n",
       "        text-align: right;\n",
       "    }\n",
       "\n",
       "    .dataframe thead th {\n",
       "        text-align: left;\n",
       "    }\n",
       "\n",
       "    .dataframe tbody tr th {\n",
       "        vertical-align: top;\n",
       "    }\n",
       "</style>\n",
       "<table border=\"1\" class=\"dataframe\">\n",
       "  <thead>\n",
       "    <tr style=\"text-align: right;\">\n",
       "      <th></th>\n",
       "      <th>processed_search_term</th>\n",
       "      <th>num_unique_searches</th>\n",
       "      <th>spelling_errors</th>\n",
       "    </tr>\n",
       "  </thead>\n",
       "  <tbody>\n",
       "    <tr>\n",
       "      <th>6</th>\n",
       "      <td>shapefile</td>\n",
       "      <td>458</td>\n",
       "      <td>1</td>\n",
       "    </tr>\n",
       "    <tr>\n",
       "      <th>19</th>\n",
       "      <td>muni</td>\n",
       "      <td>313</td>\n",
       "      <td>1</td>\n",
       "    </tr>\n",
       "    <tr>\n",
       "      <th>42</th>\n",
       "      <td>bart</td>\n",
       "      <td>189</td>\n",
       "      <td>1</td>\n",
       "    </tr>\n",
       "    <tr>\n",
       "      <th>43</th>\n",
       "      <td>gis</td>\n",
       "      <td>186</td>\n",
       "      <td>1</td>\n",
       "    </tr>\n",
       "    <tr>\n",
       "      <th>51</th>\n",
       "      <td>san francisco</td>\n",
       "      <td>154</td>\n",
       "      <td>2</td>\n",
       "    </tr>\n",
       "    <tr>\n",
       "      <th>54</th>\n",
       "      <td>sfpd</td>\n",
       "      <td>146</td>\n",
       "      <td>1</td>\n",
       "    </tr>\n",
       "    <tr>\n",
       "      <th>55</th>\n",
       "      <td>shapefiles</td>\n",
       "      <td>146</td>\n",
       "      <td>1</td>\n",
       "    </tr>\n",
       "    <tr>\n",
       "      <th>64</th>\n",
       "      <td>sfmta</td>\n",
       "      <td>125</td>\n",
       "      <td>1</td>\n",
       "    </tr>\n",
       "    <tr>\n",
       "      <th>85</th>\n",
       "      <td>inclusionary</td>\n",
       "      <td>100</td>\n",
       "      <td>1</td>\n",
       "    </tr>\n",
       "    <tr>\n",
       "      <th>111</th>\n",
       "      <td>sfo</td>\n",
       "      <td>75</td>\n",
       "      <td>1</td>\n",
       "    </tr>\n",
       "  </tbody>\n",
       "</table>\n",
       "</div>"
      ],
      "text/plain": [
       "    processed_search_term  num_unique_searches  spelling_errors\n",
       "6               shapefile                  458                1\n",
       "19                   muni                  313                1\n",
       "42                   bart                  189                1\n",
       "43                    gis                  186                1\n",
       "51          san francisco                  154                2\n",
       "54                   sfpd                  146                1\n",
       "55             shapefiles                  146                1\n",
       "64                  sfmta                  125                1\n",
       "85           inclusionary                  100                1\n",
       "111                   sfo                   75                1"
      ]
     },
     "execution_count": 29,
     "metadata": {},
     "output_type": "execute_result"
    }
   ],
   "source": [
    "search_spelling_errors.head(10)"
   ]
  },
  {
   "cell_type": "code",
   "execution_count": 30,
   "metadata": {},
   "outputs": [
    {
     "name": "stdout",
     "output_type": "stream",
     "text": [
      "100\n",
      "11223\n"
     ]
    }
   ],
   "source": [
    "print len(search_spelling_errors)\n",
    "print len(non_spelling_errors)"
   ]
  },
  {
   "cell_type": "code",
   "execution_count": null,
   "metadata": {
    "collapsed": true
   },
   "outputs": [],
   "source": []
  },
  {
   "cell_type": "code",
   "execution_count": 35,
   "metadata": {
    "collapsed": true
   },
   "outputs": [],
   "source": [
    "search_spelling_errors['correction'] = search_spelling_errors['processed_search_term'].apply(lambda x: correction(x))"
   ]
  },
  {
   "cell_type": "code",
   "execution_count": 36,
   "metadata": {},
   "outputs": [
    {
     "data": {
      "text/html": [
       "<div>\n",
       "<style>\n",
       "    .dataframe thead tr:only-child th {\n",
       "        text-align: right;\n",
       "    }\n",
       "\n",
       "    .dataframe thead th {\n",
       "        text-align: left;\n",
       "    }\n",
       "\n",
       "    .dataframe tbody tr th {\n",
       "        vertical-align: top;\n",
       "    }\n",
       "</style>\n",
       "<table border=\"1\" class=\"dataframe\">\n",
       "  <thead>\n",
       "    <tr style=\"text-align: right;\">\n",
       "      <th></th>\n",
       "      <th>processed_search_term</th>\n",
       "      <th>num_unique_searches</th>\n",
       "      <th>spelling_errors</th>\n",
       "      <th>correction</th>\n",
       "    </tr>\n",
       "  </thead>\n",
       "  <tbody>\n",
       "    <tr>\n",
       "      <th>6</th>\n",
       "      <td>shapefile</td>\n",
       "      <td>458</td>\n",
       "      <td>1</td>\n",
       "      <td>shapefile</td>\n",
       "    </tr>\n",
       "    <tr>\n",
       "      <th>19</th>\n",
       "      <td>muni</td>\n",
       "      <td>313</td>\n",
       "      <td>1</td>\n",
       "      <td>muni</td>\n",
       "    </tr>\n",
       "    <tr>\n",
       "      <th>42</th>\n",
       "      <td>bart</td>\n",
       "      <td>189</td>\n",
       "      <td>1</td>\n",
       "      <td>bart</td>\n",
       "    </tr>\n",
       "    <tr>\n",
       "      <th>43</th>\n",
       "      <td>gis</td>\n",
       "      <td>186</td>\n",
       "      <td>1</td>\n",
       "      <td>gis</td>\n",
       "    </tr>\n",
       "    <tr>\n",
       "      <th>51</th>\n",
       "      <td>san francisco</td>\n",
       "      <td>154</td>\n",
       "      <td>2</td>\n",
       "      <td>san francisco</td>\n",
       "    </tr>\n",
       "    <tr>\n",
       "      <th>54</th>\n",
       "      <td>sfpd</td>\n",
       "      <td>146</td>\n",
       "      <td>1</td>\n",
       "      <td>spy</td>\n",
       "    </tr>\n",
       "    <tr>\n",
       "      <th>55</th>\n",
       "      <td>shapefiles</td>\n",
       "      <td>146</td>\n",
       "      <td>1</td>\n",
       "      <td>shapefile</td>\n",
       "    </tr>\n",
       "    <tr>\n",
       "      <th>64</th>\n",
       "      <td>sfmta</td>\n",
       "      <td>125</td>\n",
       "      <td>1</td>\n",
       "      <td>soma</td>\n",
       "    </tr>\n",
       "    <tr>\n",
       "      <th>85</th>\n",
       "      <td>inclusionary</td>\n",
       "      <td>100</td>\n",
       "      <td>1</td>\n",
       "      <td>inclusionary</td>\n",
       "    </tr>\n",
       "    <tr>\n",
       "      <th>111</th>\n",
       "      <td>sfo</td>\n",
       "      <td>75</td>\n",
       "      <td>1</td>\n",
       "      <td>seo</td>\n",
       "    </tr>\n",
       "  </tbody>\n",
       "</table>\n",
       "</div>"
      ],
      "text/plain": [
       "    processed_search_term  num_unique_searches  spelling_errors     correction\n",
       "6               shapefile                  458                1      shapefile\n",
       "19                   muni                  313                1           muni\n",
       "42                   bart                  189                1           bart\n",
       "43                    gis                  186                1            gis\n",
       "51          san francisco                  154                2  san francisco\n",
       "54                   sfpd                  146                1            spy\n",
       "55             shapefiles                  146                1      shapefile\n",
       "64                  sfmta                  125                1           soma\n",
       "85           inclusionary                  100                1   inclusionary\n",
       "111                   sfo                   75                1            seo"
      ]
     },
     "execution_count": 36,
     "metadata": {},
     "output_type": "execute_result"
    }
   ],
   "source": [
    "search_spelling_errors.head(10)"
   ]
  },
  {
   "cell_type": "code",
   "execution_count": 36,
   "metadata": {
    "collapsed": true,
    "scrolled": true
   },
   "outputs": [],
   "source": [
    "#likely_spelling_errors = search_spelling_errors.ix[search_spelling_errors.num_unique_searches < 2].tail(100)"
   ]
  },
  {
   "cell_type": "code",
   "execution_count": 37,
   "metadata": {
    "collapsed": true
   },
   "outputs": [],
   "source": [
    "spelling_error_list = search_spelling_errors['processed_search_term'].tolist()\n",
    "\n",
    "#spelling_error_list = spelling_error_list[0:100]"
   ]
  },
  {
   "cell_type": "code",
   "execution_count": 38,
   "metadata": {},
   "outputs": [
    {
     "name": "stdout",
     "output_type": "stream",
     "text": [
      "['shapefile', 'muni', 'bart', 'gis', 'san francisco', 'sfpd', 'shapefiles', 'sfmta', 'inclusionary', 'sfo', 'streets of san francisco', 'topo', 'dem', 'json', 'landuse', 'sfpd incidents', 'basemap', 'census shapefile', 'csv', 'citylots', 'envista', 'orthophoto', 'sfmta bikeway network', 'lidar', 'cnn', 'popos', 'ortho', 'water bodies in san francisco', 'sffind neighborhoods', 'shoreline shapefile', 'shp', 'zipcode', 'inclusionary housing', 'hiv', 'uber', 'gps', 'wifi', 'geojson', 'mta', 'san francisco crime', 'sanfrancisco.gdb', 'lyft', 'airbnb', 'sffd', 'maher', 'eas', 'sfpark', 'pbc', 'bikeway', 'kml', 'stclines', 'sfopenbook', 'sfshore', 'sro', 'caltrain', 'taz', 'address locator', 'internet', 'dui', 'stormwater', 'basemap street centerlines', 'sanfrancisco', 'chinatown', 'presidio', 'dpw', 'api', 'realtor_neighborhoods', 'fte', 'oakland', 'zipcodes', 'sfusd', 'sfpd incident', 'open busienss', 'street of san francisco', 'dbi', 'berkeley', 'healthcare', 'gdp', 'apn', 'lgbt', '.shp', 'parklet', 'san francisco boundary', 'avl', 'basemap street centerlines shapefile', 'street shapefile', 'streets shapefile', 'sfpuc', 'bikeway network', 'muni routes', 'pci', 'cbd', 'san francisco map', 'san francisco crime classification', 'muni stops', 'foodtruck', 'realtor', 'muni lines', 'new york', 'ellis']\n"
     ]
    }
   ],
   "source": [
    "print spelling_error_list"
   ]
  },
  {
   "cell_type": "code",
   "execution_count": 39,
   "metadata": {
    "collapsed": true
   },
   "outputs": [],
   "source": [
    "# %time search_spelling_errors_prob['google_results'] = search_spelling_errors_prob.processed_search_term.apply(lambda x: spell_check(x))"
   ]
  },
  {
   "cell_type": "code",
   "execution_count": 45,
   "metadata": {},
   "outputs": [
    {
     "name": "stdout",
     "output_type": "stream",
     "text": [
      "CPU times: user 8.93 ms, sys: 18.3 ms, total: 27.2 ms\n",
      "Wall time: 2.59 s\n"
     ]
    }
   ],
   "source": [
    "%time spelling_corrections = map_easy(correction_phrase, spelling_error_list, -1)"
   ]
  },
  {
   "cell_type": "code",
   "execution_count": 46,
   "metadata": {
    "collapsed": true
   },
   "outputs": [],
   "source": [
    "search_spelling_errors['spelling_corrections'] = spelling_corrections"
   ]
  },
  {
   "cell_type": "code",
   "execution_count": 47,
   "metadata": {
    "collapsed": true
   },
   "outputs": [],
   "source": [
    "#search_spelling_errors.to_csv('corrected_spellng_errors.csv', index =False)"
   ]
  },
  {
   "cell_type": "code",
   "execution_count": 48,
   "metadata": {
    "collapsed": true
   },
   "outputs": [],
   "source": [
    "#search_spelling_errors.ix[search_spelling_errors.google_corrections == 'traffic']"
   ]
  },
  {
   "cell_type": "code",
   "execution_count": 49,
   "metadata": {
    "scrolled": true
   },
   "outputs": [
    {
     "data": {
      "text/html": [
       "<div>\n",
       "<table border=\"1\" class=\"dataframe\">\n",
       "  <thead>\n",
       "    <tr style=\"text-align: right;\">\n",
       "      <th></th>\n",
       "      <th>processed_search_term</th>\n",
       "      <th>num_unique_searches</th>\n",
       "      <th>spelling_errors</th>\n",
       "      <th>spelling_corrections</th>\n",
       "    </tr>\n",
       "  </thead>\n",
       "  <tbody>\n",
       "    <tr>\n",
       "      <th>376</th>\n",
       "      <td>stclines</td>\n",
       "      <td>26</td>\n",
       "      <td>1</td>\n",
       "      <td>stclines</td>\n",
       "    </tr>\n",
       "    <tr>\n",
       "      <th>378</th>\n",
       "      <td>sfopenbook</td>\n",
       "      <td>25</td>\n",
       "      <td>1</td>\n",
       "      <td>sfopenbook</td>\n",
       "    </tr>\n",
       "    <tr>\n",
       "      <th>380</th>\n",
       "      <td>sfshore</td>\n",
       "      <td>25</td>\n",
       "      <td>1</td>\n",
       "      <td>shore</td>\n",
       "    </tr>\n",
       "    <tr>\n",
       "      <th>387</th>\n",
       "      <td>sro</td>\n",
       "      <td>25</td>\n",
       "      <td>1</td>\n",
       "      <td>src</td>\n",
       "    </tr>\n",
       "    <tr>\n",
       "      <th>389</th>\n",
       "      <td>caltrain</td>\n",
       "      <td>25</td>\n",
       "      <td>1</td>\n",
       "      <td>captain</td>\n",
       "    </tr>\n",
       "    <tr>\n",
       "      <th>391</th>\n",
       "      <td>taz</td>\n",
       "      <td>25</td>\n",
       "      <td>1</td>\n",
       "      <td>tap</td>\n",
       "    </tr>\n",
       "    <tr>\n",
       "      <th>404</th>\n",
       "      <td>address locator</td>\n",
       "      <td>24</td>\n",
       "      <td>1</td>\n",
       "      <td>address locator</td>\n",
       "    </tr>\n",
       "    <tr>\n",
       "      <th>415</th>\n",
       "      <td>internet</td>\n",
       "      <td>23</td>\n",
       "      <td>1</td>\n",
       "      <td>internet</td>\n",
       "    </tr>\n",
       "    <tr>\n",
       "      <th>417</th>\n",
       "      <td>dui</td>\n",
       "      <td>23</td>\n",
       "      <td>1</td>\n",
       "      <td>dui</td>\n",
       "    </tr>\n",
       "    <tr>\n",
       "      <th>418</th>\n",
       "      <td>stormwater</td>\n",
       "      <td>23</td>\n",
       "      <td>1</td>\n",
       "      <td>stormwater</td>\n",
       "    </tr>\n",
       "    <tr>\n",
       "      <th>420</th>\n",
       "      <td>basemap street centerlines</td>\n",
       "      <td>23</td>\n",
       "      <td>1</td>\n",
       "      <td>basemap street centerlines</td>\n",
       "    </tr>\n",
       "    <tr>\n",
       "      <th>422</th>\n",
       "      <td>sanfrancisco</td>\n",
       "      <td>23</td>\n",
       "      <td>1</td>\n",
       "      <td>sanfrancisco</td>\n",
       "    </tr>\n",
       "    <tr>\n",
       "      <th>436</th>\n",
       "      <td>chinatown</td>\n",
       "      <td>22</td>\n",
       "      <td>1</td>\n",
       "      <td>chinatown</td>\n",
       "    </tr>\n",
       "    <tr>\n",
       "      <th>444</th>\n",
       "      <td>presidio</td>\n",
       "      <td>22</td>\n",
       "      <td>1</td>\n",
       "      <td>presidio</td>\n",
       "    </tr>\n",
       "    <tr>\n",
       "      <th>458</th>\n",
       "      <td>dpw</td>\n",
       "      <td>21</td>\n",
       "      <td>1</td>\n",
       "      <td>dpi</td>\n",
       "    </tr>\n",
       "    <tr>\n",
       "      <th>466</th>\n",
       "      <td>api</td>\n",
       "      <td>21</td>\n",
       "      <td>1</td>\n",
       "      <td>api</td>\n",
       "    </tr>\n",
       "    <tr>\n",
       "      <th>467</th>\n",
       "      <td>realtor_neighborhoods</td>\n",
       "      <td>21</td>\n",
       "      <td>1</td>\n",
       "      <td>realtor_neighborhoods</td>\n",
       "    </tr>\n",
       "    <tr>\n",
       "      <th>473</th>\n",
       "      <td>fte</td>\n",
       "      <td>20</td>\n",
       "      <td>1</td>\n",
       "      <td>ste</td>\n",
       "    </tr>\n",
       "    <tr>\n",
       "      <th>486</th>\n",
       "      <td>oakland</td>\n",
       "      <td>20</td>\n",
       "      <td>1</td>\n",
       "      <td>oakland</td>\n",
       "    </tr>\n",
       "    <tr>\n",
       "      <th>488</th>\n",
       "      <td>zipcodes</td>\n",
       "      <td>20</td>\n",
       "      <td>1</td>\n",
       "      <td>zipcodes</td>\n",
       "    </tr>\n",
       "    <tr>\n",
       "      <th>502</th>\n",
       "      <td>sfusd</td>\n",
       "      <td>19</td>\n",
       "      <td>1</td>\n",
       "      <td>sound</td>\n",
       "    </tr>\n",
       "    <tr>\n",
       "      <th>507</th>\n",
       "      <td>sfpd incident</td>\n",
       "      <td>19</td>\n",
       "      <td>1</td>\n",
       "      <td>spy incident</td>\n",
       "    </tr>\n",
       "    <tr>\n",
       "      <th>509</th>\n",
       "      <td>open busienss</td>\n",
       "      <td>18</td>\n",
       "      <td>1</td>\n",
       "      <td>open business</td>\n",
       "    </tr>\n",
       "    <tr>\n",
       "      <th>510</th>\n",
       "      <td>street of san francisco</td>\n",
       "      <td>18</td>\n",
       "      <td>2</td>\n",
       "      <td>street of san francisco</td>\n",
       "    </tr>\n",
       "    <tr>\n",
       "      <th>511</th>\n",
       "      <td>dbi</td>\n",
       "      <td>18</td>\n",
       "      <td>1</td>\n",
       "      <td>dui</td>\n",
       "    </tr>\n",
       "    <tr>\n",
       "      <th>513</th>\n",
       "      <td>berkeley</td>\n",
       "      <td>18</td>\n",
       "      <td>1</td>\n",
       "      <td>berkeley</td>\n",
       "    </tr>\n",
       "    <tr>\n",
       "      <th>515</th>\n",
       "      <td>healthcare</td>\n",
       "      <td>18</td>\n",
       "      <td>1</td>\n",
       "      <td>healthcare</td>\n",
       "    </tr>\n",
       "    <tr>\n",
       "      <th>517</th>\n",
       "      <td>gdp</td>\n",
       "      <td>18</td>\n",
       "      <td>1</td>\n",
       "      <td>gdp</td>\n",
       "    </tr>\n",
       "    <tr>\n",
       "      <th>523</th>\n",
       "      <td>apn</td>\n",
       "      <td>18</td>\n",
       "      <td>1</td>\n",
       "      <td>ann</td>\n",
       "    </tr>\n",
       "    <tr>\n",
       "      <th>527</th>\n",
       "      <td>lgbt</td>\n",
       "      <td>18</td>\n",
       "      <td>1</td>\n",
       "      <td>lbs</td>\n",
       "    </tr>\n",
       "    <tr>\n",
       "      <th>533</th>\n",
       "      <td>.shp</td>\n",
       "      <td>17</td>\n",
       "      <td>1</td>\n",
       "      <td>shop</td>\n",
       "    </tr>\n",
       "    <tr>\n",
       "      <th>535</th>\n",
       "      <td>parklet</td>\n",
       "      <td>17</td>\n",
       "      <td>1</td>\n",
       "      <td>parker</td>\n",
       "    </tr>\n",
       "    <tr>\n",
       "      <th>539</th>\n",
       "      <td>san francisco boundary</td>\n",
       "      <td>17</td>\n",
       "      <td>2</td>\n",
       "      <td>san francisco boundary</td>\n",
       "    </tr>\n",
       "    <tr>\n",
       "      <th>543</th>\n",
       "      <td>avl</td>\n",
       "      <td>17</td>\n",
       "      <td>1</td>\n",
       "      <td>all</td>\n",
       "    </tr>\n",
       "    <tr>\n",
       "      <th>547</th>\n",
       "      <td>basemap street centerlines shapefile</td>\n",
       "      <td>17</td>\n",
       "      <td>2</td>\n",
       "      <td>basemap street centerlines shapefile</td>\n",
       "    </tr>\n",
       "    <tr>\n",
       "      <th>559</th>\n",
       "      <td>street shapefile</td>\n",
       "      <td>17</td>\n",
       "      <td>1</td>\n",
       "      <td>street shapefile</td>\n",
       "    </tr>\n",
       "    <tr>\n",
       "      <th>570</th>\n",
       "      <td>streets shapefile</td>\n",
       "      <td>16</td>\n",
       "      <td>1</td>\n",
       "      <td>streets shapefile</td>\n",
       "    </tr>\n",
       "    <tr>\n",
       "      <th>585</th>\n",
       "      <td>sfpuc</td>\n",
       "      <td>16</td>\n",
       "      <td>1</td>\n",
       "      <td>spec</td>\n",
       "    </tr>\n",
       "    <tr>\n",
       "      <th>600</th>\n",
       "      <td>bikeway network</td>\n",
       "      <td>15</td>\n",
       "      <td>1</td>\n",
       "      <td>bikeway network</td>\n",
       "    </tr>\n",
       "    <tr>\n",
       "      <th>603</th>\n",
       "      <td>muni routes</td>\n",
       "      <td>15</td>\n",
       "      <td>1</td>\n",
       "      <td>muni routes</td>\n",
       "    </tr>\n",
       "    <tr>\n",
       "      <th>613</th>\n",
       "      <td>pci</td>\n",
       "      <td>15</td>\n",
       "      <td>1</td>\n",
       "      <td>pci</td>\n",
       "    </tr>\n",
       "    <tr>\n",
       "      <th>624</th>\n",
       "      <td>cbd</td>\n",
       "      <td>14</td>\n",
       "      <td>1</td>\n",
       "      <td>bd</td>\n",
       "    </tr>\n",
       "    <tr>\n",
       "      <th>632</th>\n",
       "      <td>san francisco map</td>\n",
       "      <td>14</td>\n",
       "      <td>2</td>\n",
       "      <td>san francisco map</td>\n",
       "    </tr>\n",
       "    <tr>\n",
       "      <th>634</th>\n",
       "      <td>san francisco crime classification</td>\n",
       "      <td>14</td>\n",
       "      <td>2</td>\n",
       "      <td>san francisco crime classification</td>\n",
       "    </tr>\n",
       "    <tr>\n",
       "      <th>635</th>\n",
       "      <td>muni stops</td>\n",
       "      <td>14</td>\n",
       "      <td>1</td>\n",
       "      <td>muni stops</td>\n",
       "    </tr>\n",
       "    <tr>\n",
       "      <th>646</th>\n",
       "      <td>foodtruck</td>\n",
       "      <td>14</td>\n",
       "      <td>1</td>\n",
       "      <td>foodtruck</td>\n",
       "    </tr>\n",
       "    <tr>\n",
       "      <th>654</th>\n",
       "      <td>realtor</td>\n",
       "      <td>14</td>\n",
       "      <td>1</td>\n",
       "      <td>realtor</td>\n",
       "    </tr>\n",
       "    <tr>\n",
       "      <th>661</th>\n",
       "      <td>muni lines</td>\n",
       "      <td>13</td>\n",
       "      <td>1</td>\n",
       "      <td>muni lines</td>\n",
       "    </tr>\n",
       "    <tr>\n",
       "      <th>664</th>\n",
       "      <td>new york</td>\n",
       "      <td>13</td>\n",
       "      <td>1</td>\n",
       "      <td>new york</td>\n",
       "    </tr>\n",
       "    <tr>\n",
       "      <th>669</th>\n",
       "      <td>ellis</td>\n",
       "      <td>13</td>\n",
       "      <td>1</td>\n",
       "      <td>ellis</td>\n",
       "    </tr>\n",
       "  </tbody>\n",
       "</table>\n",
       "</div>"
      ],
      "text/plain": [
       "                    processed_search_term  num_unique_searches  \\\n",
       "376                              stclines                   26   \n",
       "378                            sfopenbook                   25   \n",
       "380                               sfshore                   25   \n",
       "387                                   sro                   25   \n",
       "389                              caltrain                   25   \n",
       "391                                   taz                   25   \n",
       "404                       address locator                   24   \n",
       "415                              internet                   23   \n",
       "417                                   dui                   23   \n",
       "418                            stormwater                   23   \n",
       "420            basemap street centerlines                   23   \n",
       "422                          sanfrancisco                   23   \n",
       "436                             chinatown                   22   \n",
       "444                              presidio                   22   \n",
       "458                                   dpw                   21   \n",
       "466                                   api                   21   \n",
       "467                 realtor_neighborhoods                   21   \n",
       "473                                   fte                   20   \n",
       "486                               oakland                   20   \n",
       "488                              zipcodes                   20   \n",
       "502                                 sfusd                   19   \n",
       "507                         sfpd incident                   19   \n",
       "509                         open busienss                   18   \n",
       "510               street of san francisco                   18   \n",
       "511                                   dbi                   18   \n",
       "513                              berkeley                   18   \n",
       "515                            healthcare                   18   \n",
       "517                                   gdp                   18   \n",
       "523                                   apn                   18   \n",
       "527                                  lgbt                   18   \n",
       "533                                  .shp                   17   \n",
       "535                               parklet                   17   \n",
       "539                san francisco boundary                   17   \n",
       "543                                   avl                   17   \n",
       "547  basemap street centerlines shapefile                   17   \n",
       "559                      street shapefile                   17   \n",
       "570                     streets shapefile                   16   \n",
       "585                                 sfpuc                   16   \n",
       "600                       bikeway network                   15   \n",
       "603                           muni routes                   15   \n",
       "613                                   pci                   15   \n",
       "624                                   cbd                   14   \n",
       "632                     san francisco map                   14   \n",
       "634    san francisco crime classification                   14   \n",
       "635                            muni stops                   14   \n",
       "646                             foodtruck                   14   \n",
       "654                               realtor                   14   \n",
       "661                            muni lines                   13   \n",
       "664                              new york                   13   \n",
       "669                                 ellis                   13   \n",
       "\n",
       "     spelling_errors                  spelling_corrections  \n",
       "376                1                              stclines  \n",
       "378                1                            sfopenbook  \n",
       "380                1                                 shore  \n",
       "387                1                                   src  \n",
       "389                1                               captain  \n",
       "391                1                                   tap  \n",
       "404                1                       address locator  \n",
       "415                1                              internet  \n",
       "417                1                                   dui  \n",
       "418                1                            stormwater  \n",
       "420                1            basemap street centerlines  \n",
       "422                1                          sanfrancisco  \n",
       "436                1                             chinatown  \n",
       "444                1                              presidio  \n",
       "458                1                                   dpi  \n",
       "466                1                                   api  \n",
       "467                1                 realtor_neighborhoods  \n",
       "473                1                                   ste  \n",
       "486                1                               oakland  \n",
       "488                1                              zipcodes  \n",
       "502                1                                 sound  \n",
       "507                1                          spy incident  \n",
       "509                1                         open business  \n",
       "510                2               street of san francisco  \n",
       "511                1                                   dui  \n",
       "513                1                              berkeley  \n",
       "515                1                            healthcare  \n",
       "517                1                                   gdp  \n",
       "523                1                                   ann  \n",
       "527                1                                   lbs  \n",
       "533                1                                  shop  \n",
       "535                1                                parker  \n",
       "539                2                san francisco boundary  \n",
       "543                1                                   all  \n",
       "547                2  basemap street centerlines shapefile  \n",
       "559                1                      street shapefile  \n",
       "570                1                     streets shapefile  \n",
       "585                1                                  spec  \n",
       "600                1                       bikeway network  \n",
       "603                1                           muni routes  \n",
       "613                1                                   pci  \n",
       "624                1                                    bd  \n",
       "632                2                     san francisco map  \n",
       "634                2    san francisco crime classification  \n",
       "635                1                            muni stops  \n",
       "646                1                             foodtruck  \n",
       "654                1                               realtor  \n",
       "661                1                            muni lines  \n",
       "664                1                              new york  \n",
       "669                1                                 ellis  "
      ]
     },
     "execution_count": 49,
     "metadata": {},
     "output_type": "execute_result"
    }
   ],
   "source": [
    "search_spelling_errors.tail(50)"
   ]
  },
  {
   "cell_type": "code",
   "execution_count": null,
   "metadata": {
    "collapsed": true
   },
   "outputs": [],
   "source": [
    "# search_terms_counts_df = pd.DataFrame(search_terms_df.groupby(['processed_search_term','spelling_errors']).size())\n",
    "\n",
    "# search_spelling_errors_count = search_spelling_errors_count.reset_index()\n",
    "# search_spelling_errors_count.columns = ['processed_search_term','spelling_errors', 'count']\n",
    "# search_spelling_errors_count = search_spelling_errors_count.sort('count', ascending=False)"
   ]
  },
  {
   "cell_type": "code",
   "execution_count": 50,
   "metadata": {},
   "outputs": [
    {
     "ename": "NameError",
     "evalue": "name 'search_spelling_errors_count' is not defined",
     "output_type": "error",
     "traceback": [
      "\u001b[0;31m---------------------------------------------------------------------------\u001b[0m",
      "\u001b[0;31mNameError\u001b[0m                                 Traceback (most recent call last)",
      "\u001b[0;32m<ipython-input-50-126f5fa35cfa>\u001b[0m in \u001b[0;36m<module>\u001b[0;34m()\u001b[0m\n\u001b[0;32m----> 1\u001b[0;31m \u001b[0mlen\u001b[0m\u001b[0;34m(\u001b[0m\u001b[0msearch_spelling_errors_count\u001b[0m\u001b[0;34m)\u001b[0m\u001b[0;34m\u001b[0m\u001b[0m\n\u001b[0m",
      "\u001b[0;31mNameError\u001b[0m: name 'search_spelling_errors_count' is not defined"
     ]
    }
   ],
   "source": [
    "len(search_spelling_errors_count)"
   ]
  },
  {
   "cell_type": "code",
   "execution_count": null,
   "metadata": {
    "collapsed": true
   },
   "outputs": [],
   "source": [
    "search_spelling_errors_count.head(30)"
   ]
  },
  {
   "cell_type": "code",
   "execution_count": null,
   "metadata": {
    "collapsed": true
   },
   "outputs": [],
   "source": [
    "search_spelling_errors_count.tail(30)"
   ]
  },
  {
   "cell_type": "code",
   "execution_count": null,
   "metadata": {
    "collapsed": true
   },
   "outputs": [],
   "source": [
    "search_spelling_errors_count.ix[search_spelling_errors_count['count'] < 5]"
   ]
  },
  {
   "cell_type": "code",
   "execution_count": null,
   "metadata": {
    "collapsed": true
   },
   "outputs": [],
   "source": []
  },
  {
   "cell_type": "code",
   "execution_count": null,
   "metadata": {
    "collapsed": true
   },
   "outputs": [],
   "source": [
    "d.suggest('GIS')"
   ]
  },
  {
   "cell_type": "markdown",
   "metadata": {},
   "source": [
    "#### For Testing of Regex"
   ]
  },
  {
   "cell_type": "code",
   "execution_count": 21,
   "metadata": {
    "collapsed": true
   },
   "outputs": [],
   "source": [
    "import re\n",
    "dates_r = re.compile('[0-9]*[0-9]/[0-9]*[0-9]/[0-9]*[0-9]')\n",
    "numbers_r = re.compile('^[0-9][0-9]*[0-9]$')\n",
    "html_r = re.compile('^<.*>$')\n",
    "address_r = re.compile('[0-9].*[0-9] [a-z].*[a-z]')"
   ]
  },
  {
   "cell_type": "code",
   "execution_count": 22,
   "metadata": {},
   "outputs": [
    {
     "data": {
      "text/plain": [
       "<_sre.SRE_Match at 0x1090dcac0>"
      ]
     },
     "execution_count": 22,
     "metadata": {},
     "output_type": "execute_result"
    }
   ],
   "source": [
    "address_r.match(\"1190 mission stree\")"
   ]
  },
  {
   "cell_type": "code",
   "execution_count": null,
   "metadata": {
    "collapsed": true
   },
   "outputs": [],
   "source": [
    "processed_search_terms_list = list(search_terms_df['processed_search_term'])"
   ]
  },
  {
   "cell_type": "code",
   "execution_count": null,
   "metadata": {
    "collapsed": true
   },
   "outputs": [],
   "source": [
    "print processed_search_terms_list[100:150]"
   ]
  },
  {
   "cell_type": "code",
   "execution_count": null,
   "metadata": {
    "collapsed": true
   },
   "outputs": [],
   "source": [
    "search_terms_df['search_tag'] = search_terms_df.search_term.apply(lambda x: search_term_type(x))"
   ]
  },
  {
   "cell_type": "code",
   "execution_count": null,
   "metadata": {
    "collapsed": true
   },
   "outputs": [],
   "source": [
    "search_terms_tagged = pd.read_csv(\"./processed_search_term_data/tagged_search_terms.csv\")"
   ]
  },
  {
   "cell_type": "code",
   "execution_count": null,
   "metadata": {
    "collapsed": true
   },
   "outputs": [],
   "source": [
    "search_terms_tagged.tail()"
   ]
  },
  {
   "cell_type": "code",
   "execution_count": null,
   "metadata": {
    "collapsed": true
   },
   "outputs": [],
   "source": [
    "%time tokenized_queries_corrections = map_easy(search_term_type, processed_search_terms_list, -1 )"
   ]
  },
  {
   "cell_type": "code",
   "execution_count": null,
   "metadata": {
    "collapsed": true
   },
   "outputs": [],
   "source": [
    "numbers = search_terms_tagged.ix[search_terms_tagged.search_tag == \"Number\"]"
   ]
  },
  {
   "cell_type": "code",
   "execution_count": null,
   "metadata": {
    "collapsed": true
   },
   "outputs": [],
   "source": [
    "numbers.head()"
   ]
  },
  {
   "cell_type": "code",
   "execution_count": null,
   "metadata": {
    "collapsed": true
   },
   "outputs": [],
   "source": [
    "#pd.DataFrame(numbers['processed_search_term'].value_counts()).head()"
   ]
  },
  {
   "cell_type": "code",
   "execution_count": null,
   "metadata": {
    "collapsed": true
   },
   "outputs": [],
   "source": [
    "dates = search_terms_tagged.ix[search_terms_tagged.search_tag == \"Date\"]"
   ]
  },
  {
   "cell_type": "code",
   "execution_count": null,
   "metadata": {
    "collapsed": true
   },
   "outputs": [],
   "source": [
    "print list(set(dates['search_term']))"
   ]
  },
  {
   "cell_type": "code",
   "execution_count": null,
   "metadata": {
    "collapsed": true
   },
   "outputs": [],
   "source": [
    "links = search_terms_df.ix[search_terms_df.search_tag == 'Link']"
   ]
  },
  {
   "cell_type": "code",
   "execution_count": null,
   "metadata": {
    "collapsed": true
   },
   "outputs": [],
   "source": [
    "print list(set(links['search_term']))"
   ]
  },
  {
   "cell_type": "code",
   "execution_count": null,
   "metadata": {
    "collapsed": true
   },
   "outputs": [],
   "source": [
    "addresses = search_terms_df.ix[search_terms_df.search_tag == 'Address']"
   ]
  },
  {
   "cell_type": "code",
   "execution_count": null,
   "metadata": {
    "collapsed": true
   },
   "outputs": [],
   "source": [
    "print list(set(addresses['search_term']))"
   ]
  },
  {
   "cell_type": "code",
   "execution_count": null,
   "metadata": {
    "collapsed": true
   },
   "outputs": [],
   "source": [
    "search_terms = search_terms_df.ix[search_terms_df.search_tag == 'Search Term']"
   ]
  },
  {
   "cell_type": "code",
   "execution_count": null,
   "metadata": {
    "collapsed": true
   },
   "outputs": [],
   "source": [
    "print list(set(search_terms['search_term']))"
   ]
  },
  {
   "cell_type": "code",
   "execution_count": null,
   "metadata": {
    "collapsed": true
   },
   "outputs": [],
   "source": [
    "search_terms.to_csv(\"tagged_search_terms.csv\", index=False)"
   ]
  },
  {
   "cell_type": "code",
   "execution_count": null,
   "metadata": {
    "collapsed": true
   },
   "outputs": [],
   "source": [
    "search_terms = pd.read_csv('tagged_search_terms.csv')\n",
    "search_terms['processed_search_term'] = search_terms['processed_search_term'].apply(lambda x: removePunctuation(x))"
   ]
  },
  {
   "cell_type": "code",
   "execution_count": null,
   "metadata": {
    "collapsed": true
   },
   "outputs": [],
   "source": [
    "search_terms.head()"
   ]
  },
  {
   "cell_type": "code",
   "execution_count": null,
   "metadata": {
    "collapsed": true
   },
   "outputs": [],
   "source": [
    "search_count = pd.DataFrame(search_terms.groupby(['processed_search_term'])['processed_search_term'].count())\n",
    "#search_count.reset_index()\n",
    "search_count.columns = [ 'count']\n",
    "#search_count.shape"
   ]
  },
  {
   "cell_type": "code",
   "execution_count": null,
   "metadata": {
    "collapsed": true
   },
   "outputs": [],
   "source": [
    "search_count = search_count.reset_index()\n",
    "search_count = search_count.sort('count', ascending=False)"
   ]
  },
  {
   "cell_type": "code",
   "execution_count": null,
   "metadata": {
    "collapsed": true
   },
   "outputs": [],
   "source": [
    "search_count.head()"
   ]
  },
  {
   "cell_type": "code",
   "execution_count": null,
   "metadata": {
    "collapsed": true
   },
   "outputs": [],
   "source": [
    "common_searches = search_count.ix[search_count['count'] > 10]\n",
    "common_searches.to_csv('common_searches.csv', index=False)"
   ]
  },
  {
   "cell_type": "code",
   "execution_count": null,
   "metadata": {
    "collapsed": true
   },
   "outputs": [],
   "source": [
    "common_searches.head()"
   ]
  },
  {
   "cell_type": "code",
   "execution_count": null,
   "metadata": {
    "collapsed": true
   },
   "outputs": [],
   "source": [
    "common_searches.shape"
   ]
  },
  {
   "cell_type": "code",
   "execution_count": null,
   "metadata": {
    "collapsed": true
   },
   "outputs": [],
   "source": [
    "common_search_list = list(common_searches['processed_search_term'])"
   ]
  },
  {
   "cell_type": "code",
   "execution_count": null,
   "metadata": {
    "collapsed": true
   },
   "outputs": [],
   "source": []
  }
 ],
 "metadata": {
  "kernelspec": {
   "display_name": "open-data-search",
   "language": "python",
   "name": "open-data-search"
  },
  "language_info": {
   "codemirror_mode": {
    "name": "ipython",
    "version": 2
   },
   "file_extension": ".py",
   "mimetype": "text/x-python",
   "name": "python",
   "nbconvert_exporter": "python",
   "pygments_lexer": "ipython2",
   "version": "2.7.13"
  }
 },
 "nbformat": 4,
 "nbformat_minor": 1
}
