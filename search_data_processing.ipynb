{
 "cells": [
  {
   "cell_type": "markdown",
   "metadata": {},
   "source": [
    "Search Data Processing\n",
    "=========================\n",
    "\n"
   ]
  },
  {
   "cell_type": "code",
   "execution_count": 10,
   "metadata": {
    "collapsed": false
   },
   "outputs": [],
   "source": [
    "import pandas as pd\n",
    "import re\n",
    "from search_terms import *\n",
    "from enchant.checker import SpellChecker\n",
    "import enchant\n",
    "\n",
    "# for paralellization\n",
    "from functools import partial\n",
    "from rosetta.parallel.parallel_easy import map_easy"
   ]
  },
  {
   "cell_type": "code",
   "execution_count": 114,
   "metadata": {
    "collapsed": true
   },
   "outputs": [],
   "source": [
    "import warnings\n",
    "warnings.filterwarnings('ignore')"
   ]
  },
  {
   "cell_type": "code",
   "execution_count": null,
   "metadata": {
    "collapsed": true
   },
   "outputs": [],
   "source": []
  },
  {
   "cell_type": "code",
   "execution_count": 2,
   "metadata": {
    "collapsed": false
   },
   "outputs": [],
   "source": [
    "#search_data = pd.read_csv(\"./data/sample_openData_searchTerms_clean.csv\") # sample data only\n",
    "all_search_data_df = pd.read_csv(\"./data/all_queries.csv\")\n",
    "all_search_data_df = all_search_data_df.rename(columns={\"ga.searchKeyword\": \"search_term\"})"
   ]
  },
  {
   "cell_type": "code",
   "execution_count": 3,
   "metadata": {
    "collapsed": false
   },
   "outputs": [
    {
     "data": {
      "text/plain": [
       "(116291, 9)"
      ]
     },
     "execution_count": 3,
     "metadata": {},
     "output_type": "execute_result"
    }
   ],
   "source": [
    "all_search_data_df.shape"
   ]
  },
  {
   "cell_type": "code",
   "execution_count": 4,
   "metadata": {
    "collapsed": false
   },
   "outputs": [
    {
     "data": {
      "text/html": [
       "<div>\n",
       "<table border=\"1\" class=\"dataframe\">\n",
       "  <thead>\n",
       "    <tr style=\"text-align: right;\">\n",
       "      <th></th>\n",
       "      <th>search_term</th>\n",
       "      <th>ga.searchStartPage</th>\n",
       "      <th>ga.searchAfterDestinationPage</th>\n",
       "      <th>ga.searchUniques</th>\n",
       "      <th>ga.avgSearchResultViews</th>\n",
       "      <th>ga.avgSearchDepth</th>\n",
       "      <th>ga.percentSearchRefinements</th>\n",
       "      <th>ga.searchDuration</th>\n",
       "      <th>ga.searchExitRate</th>\n",
       "    </tr>\n",
       "  </thead>\n",
       "  <tbody>\n",
       "    <tr>\n",
       "      <th>0</th>\n",
       "      <td>crime</td>\n",
       "      <td>'/</td>\n",
       "      <td>'/data?search=crime</td>\n",
       "      <td>451</td>\n",
       "      <td>1.066519</td>\n",
       "      <td>0.00</td>\n",
       "      <td>0.000000</td>\n",
       "      <td>62</td>\n",
       "      <td>0</td>\n",
       "    </tr>\n",
       "    <tr>\n",
       "      <th>1</th>\n",
       "      <td>business</td>\n",
       "      <td>'/</td>\n",
       "      <td>'/data?search=business</td>\n",
       "      <td>319</td>\n",
       "      <td>1.106583</td>\n",
       "      <td>0.00</td>\n",
       "      <td>0.000000</td>\n",
       "      <td>5</td>\n",
       "      <td>0</td>\n",
       "    </tr>\n",
       "    <tr>\n",
       "      <th>2</th>\n",
       "      <td>311</td>\n",
       "      <td>'/</td>\n",
       "      <td>'/data?search=311</td>\n",
       "      <td>221</td>\n",
       "      <td>1.135747</td>\n",
       "      <td>0.00</td>\n",
       "      <td>0.000000</td>\n",
       "      <td>7</td>\n",
       "      <td>0</td>\n",
       "    </tr>\n",
       "    <tr>\n",
       "      <th>3</th>\n",
       "      <td>crime</td>\n",
       "      <td>'/</td>\n",
       "      <td>'/browse/embed?Department-Metrics_Publishing-D...</td>\n",
       "      <td>200</td>\n",
       "      <td>1.070000</td>\n",
       "      <td>4.54</td>\n",
       "      <td>12.149533</td>\n",
       "      <td>48646</td>\n",
       "      <td>0</td>\n",
       "    </tr>\n",
       "    <tr>\n",
       "      <th>4</th>\n",
       "      <td>streets</td>\n",
       "      <td>'/</td>\n",
       "      <td>'/data?search=streets</td>\n",
       "      <td>169</td>\n",
       "      <td>1.047337</td>\n",
       "      <td>0.00</td>\n",
       "      <td>0.000000</td>\n",
       "      <td>3</td>\n",
       "      <td>0</td>\n",
       "    </tr>\n",
       "  </tbody>\n",
       "</table>\n",
       "</div>"
      ],
      "text/plain": [
       "  search_term ga.searchStartPage  \\\n",
       "0       crime                 '/   \n",
       "1    business                 '/   \n",
       "2         311                 '/   \n",
       "3       crime                 '/   \n",
       "4     streets                 '/   \n",
       "\n",
       "                       ga.searchAfterDestinationPage  ga.searchUniques  \\\n",
       "0                                '/data?search=crime               451   \n",
       "1                             '/data?search=business               319   \n",
       "2                                  '/data?search=311               221   \n",
       "3  '/browse/embed?Department-Metrics_Publishing-D...               200   \n",
       "4                              '/data?search=streets               169   \n",
       "\n",
       "   ga.avgSearchResultViews  ga.avgSearchDepth  ga.percentSearchRefinements  \\\n",
       "0                 1.066519               0.00                     0.000000   \n",
       "1                 1.106583               0.00                     0.000000   \n",
       "2                 1.135747               0.00                     0.000000   \n",
       "3                 1.070000               4.54                    12.149533   \n",
       "4                 1.047337               0.00                     0.000000   \n",
       "\n",
       "   ga.searchDuration  ga.searchExitRate  \n",
       "0                 62                  0  \n",
       "1                  5                  0  \n",
       "2                  7                  0  \n",
       "3              48646                  0  \n",
       "4                  3                  0  "
      ]
     },
     "execution_count": 4,
     "metadata": {},
     "output_type": "execute_result"
    }
   ],
   "source": [
    "all_search_data_df.head()"
   ]
  },
  {
   "cell_type": "code",
   "execution_count": 5,
   "metadata": {
    "collapsed": false
   },
   "outputs": [],
   "source": [
    "search_terms_df = all_search_data_df[['search_term']]\n",
    "search_terms_list = list(set(all_search_data_df['search_term']))"
   ]
  },
  {
   "cell_type": "code",
   "execution_count": 6,
   "metadata": {
    "collapsed": false
   },
   "outputs": [
    {
     "data": {
      "text/html": [
       "<div>\n",
       "<table border=\"1\" class=\"dataframe\">\n",
       "  <thead>\n",
       "    <tr style=\"text-align: right;\">\n",
       "      <th></th>\n",
       "      <th>search_term</th>\n",
       "    </tr>\n",
       "  </thead>\n",
       "  <tbody>\n",
       "    <tr>\n",
       "      <th>0</th>\n",
       "      <td>crime</td>\n",
       "    </tr>\n",
       "    <tr>\n",
       "      <th>1</th>\n",
       "      <td>business</td>\n",
       "    </tr>\n",
       "    <tr>\n",
       "      <th>2</th>\n",
       "      <td>311</td>\n",
       "    </tr>\n",
       "    <tr>\n",
       "      <th>3</th>\n",
       "      <td>crime</td>\n",
       "    </tr>\n",
       "    <tr>\n",
       "      <th>4</th>\n",
       "      <td>streets</td>\n",
       "    </tr>\n",
       "  </tbody>\n",
       "</table>\n",
       "</div>"
      ],
      "text/plain": [
       "  search_term\n",
       "0       crime\n",
       "1    business\n",
       "2         311\n",
       "3       crime\n",
       "4     streets"
      ]
     },
     "execution_count": 6,
     "metadata": {},
     "output_type": "execute_result"
    }
   ],
   "source": [
    "search_terms_df.head()"
   ]
  },
  {
   "cell_type": "code",
   "execution_count": 7,
   "metadata": {
    "collapsed": false
   },
   "outputs": [
    {
     "name": "stdout",
     "output_type": "stream",
     "text": [
      "['sea temperature', '\"Basemap Street Centerlines', 'tree coverage', '631 folsom st', 'farmers market', 'vilations', 'active business locations', 'Lyft drivers', 'lot LINE', 'lot and block numbers', 'traffic calming', 'salla vaerma-jadlos', 'INCIDENTS', 'community based organizations', 'city-owned', 'technology staff', 'pdf parcel', 'energy performance', 'historical weather data', 'street tress', 'nature veature', 'car traffic', 'electricity', 'sexual assault', 'survey 2014', 'survey 2015', 'consulate', 'Casey', 'sffd', 'traffic control camera location', 'business San Francisco', 'massage establishments', 'muni stop', 'zipcar', 'Bike crime data', 'socrata', 'san francisco parking', 'Tank hill', 'San Francisco Bay region', 'Existing SF Commercial Wireless Facilities', 'lobbyist payments', 'lyft driver', 'illegal immigrant', 'same sex marriage', 'census block shapefile', 'solar panel cost', 'city council candidate', 'wind data', 'parking regulations', 'narcotic', '0309953', 'elevations', 'advanced genetic systems', 'senior population by district', 'Food truck spending', 'Food truck spendinf', 'food sustainability', 'yearly median income', 'wooden', 'bicycle volume', 'unemployment rate', 'hr', 'travel contributions', 'Nasdaq', 'published dataset', 'dog liccense', 'public official', 'succession', 'street widths', 'job market', 'consumer complain', 'san francisco freeway', 'asian', 'Golden Gate Indian Cuisine', 'charter', 'curb data', 'California County', 'Alvarez Marsal', 'car-shyare', 'Capital Improvement Passthrough Petitions', 'neighbourhood group maps - boundaries based on neighbourhood', '25282', 'LC on Public Safety', 'histor', 'Trappfoto', 'emergency shelter', '272', 'urves', 'walking travel times', 'Aaron Peskin', 'compliance', 'generator', 'gcpk', 'residential water', 'employee financial disclosure', '301 baltimore way', 'historic zoning', 'restaurant permits', 'frontage', 'fire code']\n"
     ]
    }
   ],
   "source": [
    "print search_terms_list[0:100]"
   ]
  },
  {
   "cell_type": "code",
   "execution_count": 115,
   "metadata": {
    "collapsed": false
   },
   "outputs": [],
   "source": [
    "search_terms_df['processed_search_term'] = search_terms_df.search_term\\\n",
    "                                    .apply(lambda text: str(text).lower())\\\n",
    "                                    .apply(lambda text: text.decode('utf-8','ignore').encode(\"utf-8\"))\\\n",
    "                                        "
   ]
  },
  {
   "cell_type": "code",
   "execution_count": 116,
   "metadata": {
    "collapsed": false
   },
   "outputs": [
    {
     "data": {
      "text/html": [
       "<div>\n",
       "<table border=\"1\" class=\"dataframe\">\n",
       "  <thead>\n",
       "    <tr style=\"text-align: right;\">\n",
       "      <th></th>\n",
       "      <th>search_term</th>\n",
       "      <th>processed_search_term</th>\n",
       "      <th>spelling_errors</th>\n",
       "    </tr>\n",
       "  </thead>\n",
       "  <tbody>\n",
       "    <tr>\n",
       "      <th>0</th>\n",
       "      <td>crime</td>\n",
       "      <td>crime</td>\n",
       "      <td>0</td>\n",
       "    </tr>\n",
       "    <tr>\n",
       "      <th>1</th>\n",
       "      <td>business</td>\n",
       "      <td>business</td>\n",
       "      <td>0</td>\n",
       "    </tr>\n",
       "    <tr>\n",
       "      <th>2</th>\n",
       "      <td>311</td>\n",
       "      <td>311</td>\n",
       "      <td>0</td>\n",
       "    </tr>\n",
       "    <tr>\n",
       "      <th>3</th>\n",
       "      <td>crime</td>\n",
       "      <td>crime</td>\n",
       "      <td>0</td>\n",
       "    </tr>\n",
       "    <tr>\n",
       "      <th>4</th>\n",
       "      <td>streets</td>\n",
       "      <td>streets</td>\n",
       "      <td>0</td>\n",
       "    </tr>\n",
       "  </tbody>\n",
       "</table>\n",
       "</div>"
      ],
      "text/plain": [
       "  search_term processed_search_term  spelling_errors\n",
       "0       crime                 crime                0\n",
       "1    business              business                0\n",
       "2         311                   311                0\n",
       "3       crime                 crime                0\n",
       "4     streets               streets                0"
      ]
     },
     "execution_count": 116,
     "metadata": {},
     "output_type": "execute_result"
    }
   ],
   "source": [
    "search_terms_df.head()"
   ]
  },
  {
   "cell_type": "markdown",
   "metadata": {},
   "source": [
    "## Each search term needs to be tagged in categories of quality\n",
    "\n",
    "Many search terms indicate that users are not informed on what the purpose of the website is or how to properly use search.\n",
    "### Search Tags\n",
    "* #### Good Quality Search\n",
    "    * complete words or phrases\n",
    "    * minor typos\n",
    "* #### Bad Quality\n",
    "    * Addresses\n",
    "    * Dates\n",
    "    * Zipcodes or just a string of numbers\n",
    "    * General nonsenses eg. ('></script><script>alert(1)</script>', '///', '16exc-3031') "
   ]
  },
  {
   "cell_type": "markdown",
   "metadata": {},
   "source": [
    "## Implementing Spell Checker"
   ]
  },
  {
   "cell_type": "code",
   "execution_count": 117,
   "metadata": {
    "collapsed": false
   },
   "outputs": [],
   "source": [
    "# Load Spellchecker objects\n",
    "d = enchant.Dict('en_US')\n",
    "chkr = SpellChecker('en_US')\n",
    "\n",
    "def check_phrase(phrase):\n",
    "    '''\n",
    "    Uses enchant spellchecker to count the number of mispelled words in the phrase\n",
    "    returns the number of errors found\n",
    "    '''\n",
    "    errors = 0\n",
    "    chkr.set_text(phrase)\n",
    "    for err in chkr:\n",
    "        errors += 1\n",
    "        \n",
    "    return errors"
   ]
  },
  {
   "cell_type": "code",
   "execution_count": 118,
   "metadata": {
    "collapsed": false
   },
   "outputs": [],
   "source": [
    "search_terms_df['spelling_errors'] = search_terms_df.processed_search_term.apply(lambda x : check_phrase(x))"
   ]
  },
  {
   "cell_type": "code",
   "execution_count": 119,
   "metadata": {
    "collapsed": false
   },
   "outputs": [],
   "source": [
    "search_spelling_errors = search_terms_df.ix[search_terms_df.spelling_errors >0]"
   ]
  },
  {
   "cell_type": "code",
   "execution_count": 108,
   "metadata": {
    "collapsed": false
   },
   "outputs": [
    {
     "data": {
      "text/html": [
       "<div>\n",
       "<table border=\"1\" class=\"dataframe\">\n",
       "  <thead>\n",
       "    <tr style=\"text-align: right;\">\n",
       "      <th></th>\n",
       "      <th>index</th>\n",
       "      <th>search_term</th>\n",
       "      <th>processed_search_term</th>\n",
       "      <th>spelling_errors</th>\n",
       "    </tr>\n",
       "  </thead>\n",
       "  <tbody>\n",
       "    <tr>\n",
       "      <th>0</th>\n",
       "      <td>16</td>\n",
       "      <td>shapefile</td>\n",
       "      <td>shapefile</td>\n",
       "      <td>1</td>\n",
       "    </tr>\n",
       "    <tr>\n",
       "      <th>1</th>\n",
       "      <td>38</td>\n",
       "      <td>inclusionary</td>\n",
       "      <td>inclusionary</td>\n",
       "      <td>1</td>\n",
       "    </tr>\n",
       "    <tr>\n",
       "      <th>2</th>\n",
       "      <td>64</td>\n",
       "      <td>shapefiles</td>\n",
       "      <td>shapefiles</td>\n",
       "      <td>1</td>\n",
       "    </tr>\n",
       "    <tr>\n",
       "      <th>3</th>\n",
       "      <td>67</td>\n",
       "      <td>gis</td>\n",
       "      <td>gis</td>\n",
       "      <td>1</td>\n",
       "    </tr>\n",
       "    <tr>\n",
       "      <th>4</th>\n",
       "      <td>84</td>\n",
       "      <td>sfpd</td>\n",
       "      <td>sfpd</td>\n",
       "      <td>1</td>\n",
       "    </tr>\n",
       "  </tbody>\n",
       "</table>\n",
       "</div>"
      ],
      "text/plain": [
       "   index   search_term processed_search_term  spelling_errors\n",
       "0     16     shapefile             shapefile                1\n",
       "1     38  inclusionary          inclusionary                1\n",
       "2     64    shapefiles            shapefiles                1\n",
       "3     67           gis                   gis                1\n",
       "4     84          sfpd                  sfpd                1"
      ]
     },
     "execution_count": 108,
     "metadata": {},
     "output_type": "execute_result"
    }
   ],
   "source": [
    "search_spelling_errors.head()"
   ]
  },
  {
   "cell_type": "code",
   "execution_count": 113,
   "metadata": {
    "collapsed": false
   },
   "outputs": [
    {
     "ename": "ValueError",
     "evalue": "Length mismatch: Expected axis has 3 elements, new values have 2 elements",
     "output_type": "error",
     "traceback": [
      "\u001b[0;31m---------------------------------------------------------------------------\u001b[0m",
      "\u001b[0;31mValueError\u001b[0m                                Traceback (most recent call last)",
      "\u001b[0;32m<ipython-input-113-aeccf55d124c>\u001b[0m in \u001b[0;36m<module>\u001b[0;34m()\u001b[0m\n\u001b[1;32m      2\u001b[0m \u001b[0;34m\u001b[0m\u001b[0m\n\u001b[1;32m      3\u001b[0m \u001b[0msearch_spelling_errors_count\u001b[0m \u001b[0;34m=\u001b[0m \u001b[0msearch_spelling_errors_count\u001b[0m\u001b[0;34m.\u001b[0m\u001b[0mreset_index\u001b[0m\u001b[0;34m(\u001b[0m\u001b[0;34m)\u001b[0m\u001b[0;34m\u001b[0m\u001b[0m\n\u001b[0;32m----> 4\u001b[0;31m \u001b[0msearch_spelling_errors_count\u001b[0m\u001b[0;34m.\u001b[0m\u001b[0mcolumns\u001b[0m \u001b[0;34m=\u001b[0m \u001b[0;34m[\u001b[0m\u001b[0;34m'processed_search_term'\u001b[0m\u001b[0;34m,\u001b[0m\u001b[0;34m'spelling_errors'\u001b[0m \u001b[0;34m'count'\u001b[0m\u001b[0;34m]\u001b[0m\u001b[0;34m\u001b[0m\u001b[0m\n\u001b[0m\u001b[1;32m      5\u001b[0m \u001b[0msearch_spelling_errors_count\u001b[0m \u001b[0;34m=\u001b[0m \u001b[0msearch_spelling_errors_count\u001b[0m\u001b[0;34m.\u001b[0m\u001b[0msort\u001b[0m\u001b[0;34m(\u001b[0m\u001b[0;34m'count'\u001b[0m\u001b[0;34m,\u001b[0m \u001b[0mascending\u001b[0m\u001b[0;34m=\u001b[0m\u001b[0mFalse\u001b[0m\u001b[0;34m)\u001b[0m\u001b[0;34m\u001b[0m\u001b[0m\n",
      "\u001b[0;32m/Library/Python/2.7/site-packages/pandas/core/generic.pyc\u001b[0m in \u001b[0;36m__setattr__\u001b[0;34m(self, name, value)\u001b[0m\n\u001b[1;32m   2683\u001b[0m         \u001b[0;32mtry\u001b[0m\u001b[0;34m:\u001b[0m\u001b[0;34m\u001b[0m\u001b[0m\n\u001b[1;32m   2684\u001b[0m             \u001b[0mobject\u001b[0m\u001b[0;34m.\u001b[0m\u001b[0m__getattribute__\u001b[0m\u001b[0;34m(\u001b[0m\u001b[0mself\u001b[0m\u001b[0;34m,\u001b[0m \u001b[0mname\u001b[0m\u001b[0;34m)\u001b[0m\u001b[0;34m\u001b[0m\u001b[0m\n\u001b[0;32m-> 2685\u001b[0;31m             \u001b[0;32mreturn\u001b[0m \u001b[0mobject\u001b[0m\u001b[0;34m.\u001b[0m\u001b[0m__setattr__\u001b[0m\u001b[0;34m(\u001b[0m\u001b[0mself\u001b[0m\u001b[0;34m,\u001b[0m \u001b[0mname\u001b[0m\u001b[0;34m,\u001b[0m \u001b[0mvalue\u001b[0m\u001b[0;34m)\u001b[0m\u001b[0;34m\u001b[0m\u001b[0m\n\u001b[0m\u001b[1;32m   2686\u001b[0m         \u001b[0;32mexcept\u001b[0m \u001b[0mAttributeError\u001b[0m\u001b[0;34m:\u001b[0m\u001b[0;34m\u001b[0m\u001b[0m\n\u001b[1;32m   2687\u001b[0m             \u001b[0;32mpass\u001b[0m\u001b[0;34m\u001b[0m\u001b[0m\n",
      "\u001b[0;32mpandas/src/properties.pyx\u001b[0m in \u001b[0;36mpandas.lib.AxisProperty.__set__ (pandas/lib.c:44748)\u001b[0;34m()\u001b[0m\n",
      "\u001b[0;32m/Library/Python/2.7/site-packages/pandas/core/generic.pyc\u001b[0m in \u001b[0;36m_set_axis\u001b[0;34m(self, axis, labels)\u001b[0m\n\u001b[1;32m    426\u001b[0m \u001b[0;34m\u001b[0m\u001b[0m\n\u001b[1;32m    427\u001b[0m     \u001b[0;32mdef\u001b[0m \u001b[0m_set_axis\u001b[0m\u001b[0;34m(\u001b[0m\u001b[0mself\u001b[0m\u001b[0;34m,\u001b[0m \u001b[0maxis\u001b[0m\u001b[0;34m,\u001b[0m \u001b[0mlabels\u001b[0m\u001b[0;34m)\u001b[0m\u001b[0;34m:\u001b[0m\u001b[0;34m\u001b[0m\u001b[0m\n\u001b[0;32m--> 428\u001b[0;31m         \u001b[0mself\u001b[0m\u001b[0;34m.\u001b[0m\u001b[0m_data\u001b[0m\u001b[0;34m.\u001b[0m\u001b[0mset_axis\u001b[0m\u001b[0;34m(\u001b[0m\u001b[0maxis\u001b[0m\u001b[0;34m,\u001b[0m \u001b[0mlabels\u001b[0m\u001b[0;34m)\u001b[0m\u001b[0;34m\u001b[0m\u001b[0m\n\u001b[0m\u001b[1;32m    429\u001b[0m         \u001b[0mself\u001b[0m\u001b[0;34m.\u001b[0m\u001b[0m_clear_item_cache\u001b[0m\u001b[0;34m(\u001b[0m\u001b[0;34m)\u001b[0m\u001b[0;34m\u001b[0m\u001b[0m\n\u001b[1;32m    430\u001b[0m \u001b[0;34m\u001b[0m\u001b[0m\n",
      "\u001b[0;32m/Library/Python/2.7/site-packages/pandas/core/internals.pyc\u001b[0m in \u001b[0;36mset_axis\u001b[0;34m(self, axis, new_labels)\u001b[0m\n\u001b[1;32m   2633\u001b[0m             raise ValueError('Length mismatch: Expected axis has %d elements, '\n\u001b[1;32m   2634\u001b[0m                              \u001b[0;34m'new values have %d elements'\u001b[0m \u001b[0;34m%\u001b[0m\u001b[0;34m\u001b[0m\u001b[0m\n\u001b[0;32m-> 2635\u001b[0;31m                              (old_len, new_len))\n\u001b[0m\u001b[1;32m   2636\u001b[0m \u001b[0;34m\u001b[0m\u001b[0m\n\u001b[1;32m   2637\u001b[0m         \u001b[0mself\u001b[0m\u001b[0;34m.\u001b[0m\u001b[0maxes\u001b[0m\u001b[0;34m[\u001b[0m\u001b[0maxis\u001b[0m\u001b[0;34m]\u001b[0m \u001b[0;34m=\u001b[0m \u001b[0mnew_labels\u001b[0m\u001b[0;34m\u001b[0m\u001b[0m\n",
      "\u001b[0;31mValueError\u001b[0m: Length mismatch: Expected axis has 3 elements, new values have 2 elements"
     ]
    }
   ],
   "source": [
    "search_spelling_errors_count = pd.DataFrame(search_spelling_errors.groupby(['processed_search_term','spelling_errors']).size())\n",
    "\n",
    "search_spelling_errors_count = search_spelling_errors_count.reset_index()\n",
    "search_spelling_errors_count.columns = ['processed_search_term','spelling_errors' 'count']\n",
    "search_spelling_errors_count = search_spelling_errors_count.sort('count', ascending=False)"
   ]
  },
  {
   "cell_type": "code",
   "execution_count": 112,
   "metadata": {
    "collapsed": false
   },
   "outputs": [
    {
     "data": {
      "text/html": [
       "<div>\n",
       "<table border=\"1\" class=\"dataframe\">\n",
       "  <thead>\n",
       "    <tr style=\"text-align: right;\">\n",
       "      <th></th>\n",
       "      <th>processed_search_term</th>\n",
       "      <th>spelling_errors</th>\n",
       "      <th>0</th>\n",
       "    </tr>\n",
       "  </thead>\n",
       "  <tbody>\n",
       "    <tr>\n",
       "      <th>0</th>\n",
       "      <td>! cannot open c:\\users\\cafethai\\appdata\\local\\...</td>\n",
       "      <td>12</td>\n",
       "      <td>2</td>\n",
       "    </tr>\n",
       "    <tr>\n",
       "      <th>1</th>\n",
       "      <td>!dfsd</td>\n",
       "      <td>1</td>\n",
       "      <td>2</td>\n",
       "    </tr>\n",
       "    <tr>\n",
       "      <th>2</th>\n",
       "      <td>\" ami\" 1990</td>\n",
       "      <td>1</td>\n",
       "      <td>2</td>\n",
       "    </tr>\n",
       "    <tr>\n",
       "      <th>3</th>\n",
       "      <td>\"326 santiago\"</td>\n",
       "      <td>1</td>\n",
       "      <td>1</td>\n",
       "    </tr>\n",
       "    <tr>\n",
       "      <th>4</th>\n",
       "      <td>\"960 howard\"</td>\n",
       "      <td>1</td>\n",
       "      <td>1</td>\n",
       "    </tr>\n",
       "  </tbody>\n",
       "</table>\n",
       "</div>"
      ],
      "text/plain": [
       "                               processed_search_term  spelling_errors  0\n",
       "0  ! cannot open c:\\users\\cafethai\\appdata\\local\\...               12  2\n",
       "1                                              !dfsd                1  2\n",
       "2                                        \" ami\" 1990                1  2\n",
       "3                                     \"326 santiago\"                1  1\n",
       "4                                       \"960 howard\"                1  1"
      ]
     },
     "execution_count": 112,
     "metadata": {},
     "output_type": "execute_result"
    }
   ],
   "source": [
    "search_spelling_errors_count.head()"
   ]
  },
  {
   "cell_type": "code",
   "execution_count": 107,
   "metadata": {
    "collapsed": false
   },
   "outputs": [
    {
     "data": {
      "text/html": [
       "<div>\n",
       "<table border=\"1\" class=\"dataframe\">\n",
       "  <thead>\n",
       "    <tr style=\"text-align: right;\">\n",
       "      <th></th>\n",
       "      <th>processed_search_term</th>\n",
       "      <th>count</th>\n",
       "    </tr>\n",
       "  </thead>\n",
       "  <tbody>\n",
       "    <tr>\n",
       "      <th>56</th>\n",
       "      <td>.drg</td>\n",
       "      <td>4</td>\n",
       "    </tr>\n",
       "    <tr>\n",
       "      <th>3115</th>\n",
       "      <td>holland</td>\n",
       "      <td>4</td>\n",
       "    </tr>\n",
       "    <tr>\n",
       "      <th>1419</th>\n",
       "      <td>bus stop shapefile</td>\n",
       "      <td>4</td>\n",
       "    </tr>\n",
       "    <tr>\n",
       "      <th>1418</th>\n",
       "      <td>bus shapefile</td>\n",
       "      <td>4</td>\n",
       "    </tr>\n",
       "    <tr>\n",
       "      <th>4297</th>\n",
       "      <td>northrop</td>\n",
       "      <td>4</td>\n",
       "    </tr>\n",
       "    <tr>\n",
       "      <th>4298</th>\n",
       "      <td>nosie</td>\n",
       "      <td>4</td>\n",
       "    </tr>\n",
       "    <tr>\n",
       "      <th>3771</th>\n",
       "      <td>lung canser</td>\n",
       "      <td>4</td>\n",
       "    </tr>\n",
       "    <tr>\n",
       "      <th>5113</th>\n",
       "      <td>richard chiriboga</td>\n",
       "      <td>4</td>\n",
       "    </tr>\n",
       "    <tr>\n",
       "      <th>5316</th>\n",
       "      <td>san francisco city boundary</td>\n",
       "      <td>4</td>\n",
       "    </tr>\n",
       "    <tr>\n",
       "      <th>3110</th>\n",
       "      <td>hiv planning council</td>\n",
       "      <td>4</td>\n",
       "    </tr>\n",
       "    <tr>\n",
       "      <th>5115</th>\n",
       "      <td>richard lane</td>\n",
       "      <td>4</td>\n",
       "    </tr>\n",
       "    <tr>\n",
       "      <th>5295</th>\n",
       "      <td>san francisco building height</td>\n",
       "      <td>4</td>\n",
       "    </tr>\n",
       "    <tr>\n",
       "      <th>6679</th>\n",
       "      <td>torist attraction</td>\n",
       "      <td>4</td>\n",
       "    </tr>\n",
       "    <tr>\n",
       "      <th>5300</th>\n",
       "      <td>san francisco business license for disability ...</td>\n",
       "      <td>4</td>\n",
       "    </tr>\n",
       "    <tr>\n",
       "      <th>5947</th>\n",
       "      <td>sfparking</td>\n",
       "      <td>4</td>\n",
       "    </tr>\n",
       "    <tr>\n",
       "      <th>6994</th>\n",
       "      <td>wawona st</td>\n",
       "      <td>4</td>\n",
       "    </tr>\n",
       "    <tr>\n",
       "      <th>5315</th>\n",
       "      <td>san francisco city block</td>\n",
       "      <td>4</td>\n",
       "    </tr>\n",
       "    <tr>\n",
       "      <th>2378</th>\n",
       "      <td>eas addresses</td>\n",
       "      <td>4</td>\n",
       "    </tr>\n",
       "    <tr>\n",
       "      <th>5948</th>\n",
       "      <td>sfparkingmeters</td>\n",
       "      <td>4</td>\n",
       "    </tr>\n",
       "    <tr>\n",
       "      <th>5309</th>\n",
       "      <td>san francisco census tract</td>\n",
       "      <td>4</td>\n",
       "    </tr>\n",
       "    <tr>\n",
       "      <th>3106</th>\n",
       "      <td>hiv aids</td>\n",
       "      <td>4</td>\n",
       "    </tr>\n",
       "    <tr>\n",
       "      <th>5303</th>\n",
       "      <td>san francisco cad</td>\n",
       "      <td>4</td>\n",
       "    </tr>\n",
       "    <tr>\n",
       "      <th>3005</th>\n",
       "      <td>harbour</td>\n",
       "      <td>4</td>\n",
       "    </tr>\n",
       "    <tr>\n",
       "      <th>4296</th>\n",
       "      <td>northbeach market</td>\n",
       "      <td>4</td>\n",
       "    </tr>\n",
       "    <tr>\n",
       "      <th>3850</th>\n",
       "      <td>marrige licence</td>\n",
       "      <td>4</td>\n",
       "    </tr>\n",
       "    <tr>\n",
       "      <th>3849</th>\n",
       "      <td>marriage license joanne minsky</td>\n",
       "      <td>4</td>\n",
       "    </tr>\n",
       "    <tr>\n",
       "      <th>173</th>\n",
       "      <td>141 milton street san francisco, ca 94112</td>\n",
       "      <td>4</td>\n",
       "    </tr>\n",
       "    <tr>\n",
       "      <th>2137</th>\n",
       "      <td>data ok</td>\n",
       "      <td>4</td>\n",
       "    </tr>\n",
       "    <tr>\n",
       "      <th>3138</th>\n",
       "      <td>homodice</td>\n",
       "      <td>4</td>\n",
       "    </tr>\n",
       "    <tr>\n",
       "      <th>4270</th>\n",
       "      <td>nlcd</td>\n",
       "      <td>4</td>\n",
       "    </tr>\n",
       "    <tr>\n",
       "      <th>...</th>\n",
       "      <td>...</td>\n",
       "      <td>...</td>\n",
       "    </tr>\n",
       "    <tr>\n",
       "      <th>3295</th>\n",
       "      <td>indo</td>\n",
       "      <td>1</td>\n",
       "    </tr>\n",
       "    <tr>\n",
       "      <th>3297</th>\n",
       "      <td>industryt</td>\n",
       "      <td>1</td>\n",
       "    </tr>\n",
       "    <tr>\n",
       "      <th>5433</th>\n",
       "      <td>san francisco municipal transportation agency</td>\n",
       "      <td>1</td>\n",
       "    </tr>\n",
       "    <tr>\n",
       "      <th>2035</th>\n",
       "      <td>crimes in san francisco</td>\n",
       "      <td>1</td>\n",
       "    </tr>\n",
       "    <tr>\n",
       "      <th>5464</th>\n",
       "      <td>san francisco property assessment rol</td>\n",
       "      <td>1</td>\n",
       "    </tr>\n",
       "    <tr>\n",
       "      <th>3298</th>\n",
       "      <td>infastructure</td>\n",
       "      <td>1</td>\n",
       "    </tr>\n",
       "    <tr>\n",
       "      <th>4078</th>\n",
       "      <td>muni boarding</td>\n",
       "      <td>1</td>\n",
       "    </tr>\n",
       "    <tr>\n",
       "      <th>2032</th>\n",
       "      <td>crimen</td>\n",
       "      <td>1</td>\n",
       "    </tr>\n",
       "    <tr>\n",
       "      <th>4077</th>\n",
       "      <td>muni arrival times</td>\n",
       "      <td>1</td>\n",
       "    </tr>\n",
       "    <tr>\n",
       "      <th>5469</th>\n",
       "      <td>san francisco property assessment roll 2015</td>\n",
       "      <td>1</td>\n",
       "    </tr>\n",
       "    <tr>\n",
       "      <th>3291</th>\n",
       "      <td>india basin</td>\n",
       "      <td>1</td>\n",
       "    </tr>\n",
       "    <tr>\n",
       "      <th>3289</th>\n",
       "      <td>indeni</td>\n",
       "      <td>1</td>\n",
       "    </tr>\n",
       "    <tr>\n",
       "      <th>2049</th>\n",
       "      <td>crocker amazon latinos</td>\n",
       "      <td>1</td>\n",
       "    </tr>\n",
       "    <tr>\n",
       "      <th>3288</th>\n",
       "      <td>indego bike share stations</td>\n",
       "      <td>1</td>\n",
       "    </tr>\n",
       "    <tr>\n",
       "      <th>2072</th>\n",
       "      <td>culture-and-recreation/library-usage/ftku-7xgj</td>\n",
       "      <td>1</td>\n",
       "    </tr>\n",
       "    <tr>\n",
       "      <th>2071</th>\n",
       "      <td>culatural</td>\n",
       "      <td>1</td>\n",
       "    </tr>\n",
       "    <tr>\n",
       "      <th>3284</th>\n",
       "      <td>incom</td>\n",
       "      <td>1</td>\n",
       "    </tr>\n",
       "    <tr>\n",
       "      <th>5438</th>\n",
       "      <td>san francisco neighborhoods socio-economic pro...</td>\n",
       "      <td>1</td>\n",
       "    </tr>\n",
       "    <tr>\n",
       "      <th>4092</th>\n",
       "      <td>muni crime</td>\n",
       "      <td>1</td>\n",
       "    </tr>\n",
       "    <tr>\n",
       "      <th>2064</th>\n",
       "      <td>cryptosporidiosis</td>\n",
       "      <td>1</td>\n",
       "    </tr>\n",
       "    <tr>\n",
       "      <th>4091</th>\n",
       "      <td>muni complaints</td>\n",
       "      <td>1</td>\n",
       "    </tr>\n",
       "    <tr>\n",
       "      <th>4090</th>\n",
       "      <td>muni complaint</td>\n",
       "      <td>1</td>\n",
       "    </tr>\n",
       "    <tr>\n",
       "      <th>5443</th>\n",
       "      <td>san francisco open street</td>\n",
       "      <td>1</td>\n",
       "    </tr>\n",
       "    <tr>\n",
       "      <th>2058</th>\n",
       "      <td>crrime</td>\n",
       "      <td>1</td>\n",
       "    </tr>\n",
       "    <tr>\n",
       "      <th>4089</th>\n",
       "      <td>muni complains</td>\n",
       "      <td>1</td>\n",
       "    </tr>\n",
       "    <tr>\n",
       "      <th>3286</th>\n",
       "      <td>income san francisco</td>\n",
       "      <td>1</td>\n",
       "    </tr>\n",
       "    <tr>\n",
       "      <th>2054</th>\n",
       "      <td>crowdfunding</td>\n",
       "      <td>1</td>\n",
       "    </tr>\n",
       "    <tr>\n",
       "      <th>4087</th>\n",
       "      <td>muni busschedule</td>\n",
       "      <td>1</td>\n",
       "    </tr>\n",
       "    <tr>\n",
       "      <th>5449</th>\n",
       "      <td>san francisco parking inc</td>\n",
       "      <td>1</td>\n",
       "    </tr>\n",
       "    <tr>\n",
       "      <th>2089</th>\n",
       "      <td>currie capital</td>\n",
       "      <td>1</td>\n",
       "    </tr>\n",
       "  </tbody>\n",
       "</table>\n",
       "<p>6197 rows × 2 columns</p>\n",
       "</div>"
      ],
      "text/plain": [
       "                                  processed_search_term  count\n",
       "56                                                 .drg      4\n",
       "3115                                            holland      4\n",
       "1419                                 bus stop shapefile      4\n",
       "1418                                      bus shapefile      4\n",
       "4297                                           northrop      4\n",
       "4298                                              nosie      4\n",
       "3771                                        lung canser      4\n",
       "5113                                  richard chiriboga      4\n",
       "5316                        san francisco city boundary      4\n",
       "3110                               hiv planning council      4\n",
       "5115                                       richard lane      4\n",
       "5295                      san francisco building height      4\n",
       "6679                                  torist attraction      4\n",
       "5300  san francisco business license for disability ...      4\n",
       "5947                                          sfparking      4\n",
       "6994                                          wawona st      4\n",
       "5315                           san francisco city block      4\n",
       "2378                                      eas addresses      4\n",
       "5948                                    sfparkingmeters      4\n",
       "5309                         san francisco census tract      4\n",
       "3106                                           hiv aids      4\n",
       "5303                                  san francisco cad      4\n",
       "3005                                            harbour      4\n",
       "4296                                  northbeach market      4\n",
       "3850                                    marrige licence      4\n",
       "3849                     marriage license joanne minsky      4\n",
       "173           141 milton street san francisco, ca 94112      4\n",
       "2137                                            data ok      4\n",
       "3138                                           homodice      4\n",
       "4270                                               nlcd      4\n",
       "...                                                 ...    ...\n",
       "3295                                               indo      1\n",
       "3297                                          industryt      1\n",
       "5433      san francisco municipal transportation agency      1\n",
       "2035                            crimes in san francisco      1\n",
       "5464              san francisco property assessment rol      1\n",
       "3298                                      infastructure      1\n",
       "4078                                      muni boarding      1\n",
       "2032                                             crimen      1\n",
       "4077                                 muni arrival times      1\n",
       "5469        san francisco property assessment roll 2015      1\n",
       "3291                                        india basin      1\n",
       "3289                                             indeni      1\n",
       "2049                             crocker amazon latinos      1\n",
       "3288                         indego bike share stations      1\n",
       "2072     culture-and-recreation/library-usage/ftku-7xgj      1\n",
       "2071                                          culatural      1\n",
       "3284                                              incom      1\n",
       "5438  san francisco neighborhoods socio-economic pro...      1\n",
       "4092                                         muni crime      1\n",
       "2064                                  cryptosporidiosis      1\n",
       "4091                                    muni complaints      1\n",
       "4090                                     muni complaint      1\n",
       "5443                          san francisco open street      1\n",
       "2058                                             crrime      1\n",
       "4089                                     muni complains      1\n",
       "3286                               income san francisco      1\n",
       "2054                                       crowdfunding      1\n",
       "4087                                   muni busschedule      1\n",
       "5449                          san francisco parking inc      1\n",
       "2089                                     currie capital      1\n",
       "\n",
       "[6197 rows x 2 columns]"
      ]
     },
     "execution_count": 107,
     "metadata": {},
     "output_type": "execute_result"
    }
   ],
   "source": [
    "search_spelling_errors_count.ix[search_spelling_errors_count['count'] < 5]"
   ]
  },
  {
   "cell_type": "code",
   "execution_count": null,
   "metadata": {
    "collapsed": true
   },
   "outputs": [],
   "source": []
  },
  {
   "cell_type": "code",
   "execution_count": 25,
   "metadata": {
    "collapsed": false
   },
   "outputs": [
    {
     "data": {
      "text/plain": [
       "['GUYS',\n",
       " 'GEES',\n",
       " 'IS',\n",
       " 'GS',\n",
       " 'GINS',\n",
       " 'GIGS',\n",
       " 'GIST',\n",
       " 'SIS',\n",
       " 'TIS',\n",
       " 'DIS',\n",
       " 'MIS',\n",
       " 'PIS',\n",
       " 'HIS',\n",
       " 'BIS',\n",
       " 'VIS']"
      ]
     },
     "execution_count": 25,
     "metadata": {},
     "output_type": "execute_result"
    }
   ],
   "source": [
    "d.suggest('GIS')"
   ]
  },
  {
   "cell_type": "markdown",
   "metadata": {},
   "source": [
    "#### For Testing of Regex"
   ]
  },
  {
   "cell_type": "code",
   "execution_count": 10,
   "metadata": {
    "collapsed": false
   },
   "outputs": [],
   "source": [
    "import re\n",
    "dates_r = re.compile('[0-9]*[0-9]/[0-9]*[0-9]/[0-9]*[0-9]')\n",
    "numbers_r = re.compile('^[0-9][0-9]*[0-9]$')\n",
    "html_r = re.compile('^<.*>$')\n",
    "address_r = re.compile('[0-9].*[0-9] [a-z].*[a-z]')"
   ]
  },
  {
   "cell_type": "code",
   "execution_count": 11,
   "metadata": {
    "collapsed": false
   },
   "outputs": [
    {
     "data": {
      "text/plain": [
       "True"
      ]
     },
     "execution_count": 11,
     "metadata": {},
     "output_type": "execute_result"
    }
   ],
   "source": [
    "bool(address_r.match(\"1190 mission stree\"))"
   ]
  },
  {
   "cell_type": "code",
   "execution_count": 12,
   "metadata": {
    "collapsed": false
   },
   "outputs": [],
   "source": [
    "processed_search_terms_list = list(search_terms_df['processed_search_term'])"
   ]
  },
  {
   "cell_type": "code",
   "execution_count": 13,
   "metadata": {
    "collapsed": false
   },
   "outputs": [
    {
     "name": "stdout",
     "output_type": "stream",
     "text": [
      "['operate business', 'pipeline', 'trees', 'building footprint', 'fire incidents', 'land use', 'shapefile', 'shapefile', 'shapefiles', 'zoning districts', 'address', 'addresses', 'assessor', 'business', 'inventory', 'shapefile', 'street cleaning', 'trees', 'business license', 'census', 'demographics', 'inventory', 'lobbyist', 'neighborhood', 'parking', 'roads', 'school', 'zoning', 'building permits', 'citylots', 'contours', 'open business', 'parking', 'parks', 'permit', 'traffic', 'transit', 'water', '311', 'eviction', 'graffiti', 'human waste', 'meter', 'parcel', 'parking meter', 'restaurant', 'topography', 'weather', '497', 'crime']\n"
     ]
    }
   ],
   "source": [
    "print processed_search_terms_list[100:150]"
   ]
  },
  {
   "cell_type": "code",
   "execution_count": 26,
   "metadata": {
    "collapsed": false
   },
   "outputs": [],
   "source": [
    "search_terms_df['search_tag'] = search_terms_df.search_term.apply(lambda x: search_term_type(x))"
   ]
  },
  {
   "cell_type": "code",
   "execution_count": 59,
   "metadata": {
    "collapsed": false
   },
   "outputs": [],
   "source": [
    "search_terms_tagged = pd.read_csv(\"./processed_search_term_data/tagged_search_terms.csv\")"
   ]
  },
  {
   "cell_type": "code",
   "execution_count": 65,
   "metadata": {
    "collapsed": false
   },
   "outputs": [
    {
     "data": {
      "text/html": [
       "<div>\n",
       "<table border=\"1\" class=\"dataframe\">\n",
       "  <thead>\n",
       "    <tr style=\"text-align: right;\">\n",
       "      <th></th>\n",
       "      <th>search_term</th>\n",
       "      <th>processed_search_term</th>\n",
       "      <th>search_tag</th>\n",
       "    </tr>\n",
       "  </thead>\n",
       "  <tbody>\n",
       "    <tr>\n",
       "      <th>114092</th>\n",
       "      <td>incidents</td>\n",
       "      <td>incidents</td>\n",
       "      <td>Search Term</td>\n",
       "    </tr>\n",
       "    <tr>\n",
       "      <th>114093</th>\n",
       "      <td>incidents</td>\n",
       "      <td>incidents</td>\n",
       "      <td>Search Term</td>\n",
       "    </tr>\n",
       "    <tr>\n",
       "      <th>114094</th>\n",
       "      <td>incidents</td>\n",
       "      <td>incidents</td>\n",
       "      <td>Search Term</td>\n",
       "    </tr>\n",
       "    <tr>\n",
       "      <th>114095</th>\n",
       "      <td>incidents</td>\n",
       "      <td>incidents</td>\n",
       "      <td>Search Term</td>\n",
       "    </tr>\n",
       "    <tr>\n",
       "      <th>114096</th>\n",
       "      <td>incidents</td>\n",
       "      <td>incidents</td>\n",
       "      <td>Search Term</td>\n",
       "    </tr>\n",
       "  </tbody>\n",
       "</table>\n",
       "</div>"
      ],
      "text/plain": [
       "       search_term processed_search_term   search_tag\n",
       "114092   incidents             incidents  Search Term\n",
       "114093   incidents             incidents  Search Term\n",
       "114094   incidents             incidents  Search Term\n",
       "114095   incidents             incidents  Search Term\n",
       "114096   incidents             incidents  Search Term"
      ]
     },
     "execution_count": 65,
     "metadata": {},
     "output_type": "execute_result"
    }
   ],
   "source": [
    "search_terms_tagged.tail()"
   ]
  },
  {
   "cell_type": "code",
   "execution_count": 60,
   "metadata": {
    "collapsed": false
   },
   "outputs": [],
   "source": [
    "#%time tokenized_queries_corrections = map_easy(search_term_type, processed_search_terms_list, -1 )"
   ]
  },
  {
   "cell_type": "code",
   "execution_count": 63,
   "metadata": {
    "collapsed": false
   },
   "outputs": [],
   "source": [
    "numbers = search_terms_tagged.ix[search_terms_tagged.search_tag == \"Number\"]"
   ]
  },
  {
   "cell_type": "code",
   "execution_count": 62,
   "metadata": {
    "collapsed": false
   },
   "outputs": [
    {
     "data": {
      "text/html": [
       "<div>\n",
       "<table border=\"1\" class=\"dataframe\">\n",
       "  <thead>\n",
       "    <tr style=\"text-align: right;\">\n",
       "      <th></th>\n",
       "      <th>search_term</th>\n",
       "      <th>processed_search_term</th>\n",
       "      <th>search_tag</th>\n",
       "    </tr>\n",
       "  </thead>\n",
       "  <tbody>\n",
       "  </tbody>\n",
       "</table>\n",
       "</div>"
      ],
      "text/plain": [
       "Empty DataFrame\n",
       "Columns: [search_term, processed_search_term, search_tag]\n",
       "Index: []"
      ]
     },
     "execution_count": 62,
     "metadata": {},
     "output_type": "execute_result"
    }
   ],
   "source": [
    "numbers.head()"
   ]
  },
  {
   "cell_type": "code",
   "execution_count": 37,
   "metadata": {
    "collapsed": false
   },
   "outputs": [],
   "source": [
    "#pd.DataFrame(numbers['processed_search_term'].value_counts()).head()"
   ]
  },
  {
   "cell_type": "code",
   "execution_count": 55,
   "metadata": {
    "collapsed": false
   },
   "outputs": [],
   "source": [
    "dates = search_terms_tagged.ix[search_terms_tagged.search_tag == \"Date\"]"
   ]
  },
  {
   "cell_type": "code",
   "execution_count": 56,
   "metadata": {
    "collapsed": false
   },
   "outputs": [
    {
     "name": "stdout",
     "output_type": "stream",
     "text": [
      "[]\n"
     ]
    }
   ],
   "source": [
    "print list(set(dates['search_term']))"
   ]
  },
  {
   "cell_type": "code",
   "execution_count": 40,
   "metadata": {
    "collapsed": true
   },
   "outputs": [],
   "source": [
    "links = search_terms_df.ix[search_terms_df.search_tag == 'Link']"
   ]
  },
  {
   "cell_type": "code",
   "execution_count": 41,
   "metadata": {
    "collapsed": false
   },
   "outputs": [
    {
     "name": "stdout",
     "output_type": "stream",
     "text": [
      "['https://data.sfgov.org/Economy-and-Community/Off-Sale-Alcohol-Outlets-San-Francisco-CA/fIy-9zhp', 'https://10.183.241.201/rgcertprintv2default.aspx', 'https://www.fiverr.com/kawsarhossain', 'Scores https://data.sfgov.org/Public-Health/Restaurant-Scores/stya-26eb', 'https', 'https://data.sfgov.org/Economy-and-Community/Registered-Business-Locations-San-Francisco/g8m3-pdis?', 'https://data.sfgov.org/data?category=', 'https://data.sfgov.org/d/ejmn-jyk6', 'httplinks', 'https://data.sfgov.org/Economy-and-Community/Registered-Business-Locations-San-Francisco/g8m3-pdis', 'https://www.kaggle.com/c/sf-crime', 'http://www.bsis.ca.gov/forms_pubs/fire_fact.shtml', 'https://data.sfgov.org/data?category=Transportation', 'http://www.datasf.org/story.php?title=street-sweeper-schedule-and-route-', ': https://data.sfgov.org/Public-Health/Excessive-Rent-Burden-San-Francisco-CA/9wty-qwgq', 'http://googlewebmastercentral.blogspot.com/2014/11/helping-users-find-mobile-friendly-pages.html', 'https://extxfer.sfdph.org/food/']\n"
     ]
    }
   ],
   "source": [
    "print list(set(links['search_term']))"
   ]
  },
  {
   "cell_type": "code",
   "execution_count": 45,
   "metadata": {
    "collapsed": true
   },
   "outputs": [],
   "source": [
    "addresses = search_terms_df.ix[search_terms_df.search_tag == 'Address']"
   ]
  },
  {
   "cell_type": "code",
   "execution_count": 46,
   "metadata": {
    "collapsed": false
   },
   "outputs": [
    {
     "name": "stdout",
     "output_type": "stream",
     "text": [
      "['501 beale', '555 california', '1480 larkin st', '56 moss st', '631 folsom st', '619 union street', '20 jones st', '425 market street energy', '1416 polk street', '311 cases by channe;', '2315 clement', '988 filbert', '944 treat av', '445 anderson', '1454 shafter', '2660 diamond', '407 jackson st', '450 golden gate', '199 new Montgomery st', '800 detroit', '311 cases by channel', '3143 folsom st', '33 allston way', '560 davis st san francisco', '2649 polk s', '63 woodland', '711 clayton st.', '1385 carroll ave', '60 agua way', '1235 bay', '111 powell street', '337 spurce st san francisco ca', '420 grove', '409 illinois', '1023 vallejo street', '1485 bayshore', '301 baltimore way', '855 folsom', '94 stratford drive', '560 brannan', '162 landers st', '100 year storm flood plain', '311 cases', '1798 grove street', '208 caselli ave', '1359 sacramento st', '3 rudden avenue sf ca', '2385 bush street', '62 linden avenue, san bruno, ca', '106 grand view', '1363 alabama street', '3247 reserve ct, san jose, ca', '4610 mission street', '3 buena vista ave east, sf', '1773 chestnut st', '111 minna', '323 cumberland st', '1817 jackson', '5252 mission street', '83 mc allister st, san francisco, ca', '159 sadowa', '360 post', '135 margaret', '559 miramar', '838 grant ave', '1100 divisadero', '735 fell street', '766 vallejo street', '1834 grant', '720 lake', '1038 jackson', '2210 jackson', '2282 market street', '425 market energy', '2919 folsom', '766 vallejo', '100 byxbee', '53 mission', '1010 fitzgerald ave, san francisco, ca', '2466 francisco', '35 brosnan', '519 capp street san francisco', '829 york street', '606 post street', '415 myra way', '970 key ave', '1390 market street', '754 moultrie group', '2 casa way', '2529 ocean', '1100 divisadero st', '800 university avenue, palo alto, california', '584 filbert street', '140 new Montgomery st', '100 church', '2133 stockton', '225 granville', '530 brannan street', '456 montgomery street suite 2200 san francisco ca 94101', '3184 mission', '301 king st', '2282 market st', '140 mason street', '155 arbor st', '5 chilton', '701 battery', '576 natoma st, san francisco, ca', '223 missouri', '38 sadowa', '469 eddy street', '2945 baker st apt 5', '820 jones street', '1514 alemany blvd', '300 seacliff', '677 page st', '700 steiner', '2008 vallejo', '929 oak st., sf, ca 94117', '2012 campaign finance', '405 howard st.', '136 arlington street', '1051 grant ave, sf', '1230 market st', '542 brannan', '444 de haro st', '1480 larkin', '317 leavenworth', '530 brannan street business lincenses', '340 mason street', '101 utah street', '732 brannan', '4689 mission st', '177 stillman', '601 van ness ave', '690 long bridge street', '1355 market street san francisco', '101 post', '1051 de haro', '959 noe street', '3230 folsom', '1 south vanness', '311 beach', '260 church st', '43 ruth street, san francisco', '1 scott street', '321 marietta', '2 hour street parking 2999 California Street', '237 laussat', '956 madrid', '114 powell street, san francisco, ca 94102', '1188 mission', '1 stockton', '311 service requests', '487 dolores st', '136 rivoli street', '810 clay street, san francisco, ca', '74 granada avenue san francisco', '944 treat', '141 eddy street', '311 case data', '340 mason street investors', '460 post street business search', '157 albion', '3401 clement st', '445 kirkham', '665 pine st', '331 jersey st', '600 fell st.', '345 spear st', '311 case', '311 street and sidewalk service orders', '269 joost ave', '1952 larkin', '1000 howard st', '40 jessie street', '2923 lawton st', '1070 capitol', '126 fillmore street', '50 quint street', '453 masonic st', '1207 cole', '110 sylvan drive, san francisco,ca', '4130 mission street', '390 diamond street', '555 minnesota street', '221 san carlos', '311 service request', '929 oak st.', '425 market', '444 townsend', '944 treat avenue', '1432 grove street san francisco ca', '311 service orders', '39 glover', '608 haight', '2096 castro street', '2385 bush st.', '600 san bruno ave', '3139 mission street', '1700 california st', '709 geary st', '1041 alabama', '278 states street', '146 galewood circle', '280 circular ave', '545 sutter street, san francisco', '501 columbus Ave.', '1244 larkin', '1000 brannan street', '27 isis', '186 valley street', '705 vallejo street 94133', '2310 mason street', '430 lake st', '71 ford st', '126 fillmore stret', '41 genebern way, sf', '2200 market', '24 shotwell', '679 san jose san Francisco', '9 geneva ave', '311 constituent service request data', '1033 polk street', '1415 scott street', '387 ellis street', '960 howard street', '2021 baker st.', '1895 sacramento st', '199 new montgomery', '177 stillman st., san francisco, ca', '1423 golden gate', '235 pine', '350 post', '1523 guerrero st', '1952 larkin street', '999 brannan', '601 laguna street 94102', '2275 sutter st', '944 treat ave', '292 douglass', '177 stillman st. sf', '460 post street', '338 fillmore', '141 eddy street sf ca 93102', '334 harriet st', '4431 mission st', '1155 folsom st', '1453 mission st', '224 ordway st', '939 jackson st', '2160 stockton', '127 san jose ave', '610 page street', '324 arkansas', '135 seacliff ave', '5400 mission san francisco', '129 randall st', '1 rincon', '1155 folsom at', '3024 mission st', '49 south park st', '2211 stockton st', '360 somerset street', '1445 lombard', '2951 bush', '49 paloma', '1941 ocean avenue San Francisco California', '663 haight street', '521 clement street', '425 market street', '112 yukon', '459 geary LLC', '18 latona st', '960 howard', '153 arkansas', '444 townsend st', '15 arguello', '7220 beachmont', '77 beale street buildings', '1450 green st', '1449 mission', '62 washburn st', '500 jefferson', '83 mc allister st 513, san francisco, ca', '450 sutter', '375 bush street', '1 post st', '83 mcallister st, san francisco', '360 somerset st', '424 octavia st', '544 castro', '333 lake street', '933 treat', '440 potrero', '201 connecticut', '516 ellis', '200 mississippi street', '2030 alemany blvd', '573 andover street', '655 natoma', '560 mission street', '2500 bryant st, san francisco ca', '700 pennsylvania ave', '10 glendale street', '199 new Montgomery', '933 treat ave', '1801 silliman st', '925 harrison', '21 homestead', '916 pine street', '208 girard', '1100 ocean', '333 market street', '407 delano', '554 irving street, san francisco', '823 lake street', '917 florida', '405 valencia', '122 farallones st', '100 delano ave', '631 cole st', '690 folsom street', '139 baden', '350 mission street', '1453 mission street', '1 post', '442 holloway ave., SF', '78 virgil', '428 chicago way', '336 moraga ave 94122', '324 arkansas st', '1951 oak st', '340 warren drive san francisco, ca', '239 carl street', '331 jersey st parcel map', '68 cervantes blvd', '2014 energy benchmark 285 geary', '370 ellis', '1951 oak', '1428 jackson st', '2828 sloat', '855 folsom st, san francisco', '2922 sacramento street', '1158 noe street', '32 richland avenue steven holland', '1880 filbert', '795 folsom', '26 eagle street', '640 polk', '407 sanchez street', '19 rausch street', '108 ellsworth', '282 harbor rd san francsico, ca 94124', '251 frederick st', '1015 geary', '755 union st owner name', '555 market street', '1412 hudson ave', '838 detroit street', '100 year flood plain', '581 market', '208 caselli', '601 brannan', '20 jones', '2200 market permit', '2135 mission street', '311 service ordes', '1227 guerrero', '5 thomas mellon circle', '821 fillmore', '1444 market st', '17 russell', '1051 market st.', '2919 mission street', '1560 howard stret', '1297 palou', '1899 mission', '2014 south', '321 marietta drive', '350 laurel st san francisco', '2919 folsom st', '2901 sacramento st', '855 sansome', '1230 markert st', '543 columbus Ave.', '340 church st', '100 church street', '285 geary st energy audit', '149 julian', '77 san juan ave', '329 bryant street san francisco, ca', '119 taraval', '470 lake st.', '637 powell', '1040 howard st', '200 market', '347 precita Ave San Francisco CA', '478 utah st', '1560 howard street', '2713 diamond', '49 mile scenic drive', '40 genebern way, sf', '1381 quesada avenue', '350 mission', '601 california', '1 south van ness ave', '1755 clay st.', '333 market street energy', '487 dolores street', '198 waterville street, san francisco', '285 geary st', '815 laguna honda', '510 folsom', '158 maynard', '1 market', '460 dwight street', '469 union st', '163 russ st.', '155 park st san francsico ca', '44 samoset st', '1612 fulton', '376 ellis street', '311 constituent service request', '495 geary street', '200 hazelwood ave', '83 leo street', '153 college ave', '72 hour parking restriction', '387 ellis street, san francisco, ca', '2650 green, Sf', '755 union st', '42 jules avenue', '12 hillview court', '317 oak park dr', '132 corbett ave']\n"
     ]
    }
   ],
   "source": [
    "print list(set(addresses['search_term']))"
   ]
  },
  {
   "cell_type": "code",
   "execution_count": 42,
   "metadata": {
    "collapsed": true
   },
   "outputs": [],
   "source": [
    "search_terms = search_terms_df.ix[search_terms_df.search_tag == 'Search Term']"
   ]
  },
  {
   "cell_type": "code",
   "execution_count": 15,
   "metadata": {
    "collapsed": false
   },
   "outputs": [
    {
     "ename": "NameError",
     "evalue": "name 'search_terms' is not defined",
     "output_type": "error",
     "traceback": [
      "\u001b[0;31m---------------------------------------------------------------------------\u001b[0m",
      "\u001b[0;31mNameError\u001b[0m                                 Traceback (most recent call last)",
      "\u001b[0;32m<ipython-input-15-ac4ec668a5b0>\u001b[0m in \u001b[0;36m<module>\u001b[0;34m()\u001b[0m\n\u001b[0;32m----> 1\u001b[0;31m \u001b[0;32mprint\u001b[0m \u001b[0mlist\u001b[0m\u001b[0;34m(\u001b[0m\u001b[0mset\u001b[0m\u001b[0;34m(\u001b[0m\u001b[0msearch_terms\u001b[0m\u001b[0;34m[\u001b[0m\u001b[0;34m'search_term'\u001b[0m\u001b[0;34m]\u001b[0m\u001b[0;34m)\u001b[0m\u001b[0;34m)\u001b[0m\u001b[0;34m\u001b[0m\u001b[0m\n\u001b[0m",
      "\u001b[0;31mNameError\u001b[0m: name 'search_terms' is not defined"
     ]
    }
   ],
   "source": [
    "print list(set(search_terms['search_term']))"
   ]
  },
  {
   "cell_type": "code",
   "execution_count": 47,
   "metadata": {
    "collapsed": true
   },
   "outputs": [],
   "source": [
    "search_terms.to_csv(\"tagged_search_terms.csv\", index=False)"
   ]
  },
  {
   "cell_type": "code",
   "execution_count": 25,
   "metadata": {
    "collapsed": true
   },
   "outputs": [],
   "source": [
    "search_terms = pd.read_csv('tagged_search_terms.csv')\n",
    "search_terms['processed_search_term'] = search_terms['processed_search_term'].apply(lambda x: removePunctuation(x))"
   ]
  },
  {
   "cell_type": "code",
   "execution_count": 26,
   "metadata": {
    "collapsed": false
   },
   "outputs": [
    {
     "data": {
      "text/html": [
       "<div>\n",
       "<table border=\"1\" class=\"dataframe\">\n",
       "  <thead>\n",
       "    <tr style=\"text-align: right;\">\n",
       "      <th></th>\n",
       "      <th>search_term</th>\n",
       "      <th>processed_search_term</th>\n",
       "      <th>search_tag</th>\n",
       "    </tr>\n",
       "  </thead>\n",
       "  <tbody>\n",
       "    <tr>\n",
       "      <th>0</th>\n",
       "      <td>crime</td>\n",
       "      <td>crime</td>\n",
       "      <td>Search Term</td>\n",
       "    </tr>\n",
       "    <tr>\n",
       "      <th>1</th>\n",
       "      <td>business</td>\n",
       "      <td>business</td>\n",
       "      <td>Search Term</td>\n",
       "    </tr>\n",
       "    <tr>\n",
       "      <th>2</th>\n",
       "      <td>311</td>\n",
       "      <td>311</td>\n",
       "      <td>Search Term</td>\n",
       "    </tr>\n",
       "    <tr>\n",
       "      <th>3</th>\n",
       "      <td>crime</td>\n",
       "      <td>crime</td>\n",
       "      <td>Search Term</td>\n",
       "    </tr>\n",
       "    <tr>\n",
       "      <th>4</th>\n",
       "      <td>streets</td>\n",
       "      <td>streets</td>\n",
       "      <td>Search Term</td>\n",
       "    </tr>\n",
       "  </tbody>\n",
       "</table>\n",
       "</div>"
      ],
      "text/plain": [
       "  search_term processed_search_term   search_tag\n",
       "0       crime                 crime  Search Term\n",
       "1    business              business  Search Term\n",
       "2         311                   311  Search Term\n",
       "3       crime                 crime  Search Term\n",
       "4     streets               streets  Search Term"
      ]
     },
     "execution_count": 26,
     "metadata": {},
     "output_type": "execute_result"
    }
   ],
   "source": [
    "search_terms.head()"
   ]
  },
  {
   "cell_type": "code",
   "execution_count": 55,
   "metadata": {
    "collapsed": false
   },
   "outputs": [],
   "source": [
    "search_count = pd.DataFrame(search_terms.groupby(['processed_search_term'])['processed_search_term'].count())\n",
    "#search_count.reset_index()\n",
    "search_count.columns = [ 'count']\n",
    "#search_count.shape"
   ]
  },
  {
   "cell_type": "code",
   "execution_count": 56,
   "metadata": {
    "collapsed": false
   },
   "outputs": [
    {
     "name": "stderr",
     "output_type": "stream",
     "text": [
      "/Library/Python/2.7/site-packages/ipykernel/__main__.py:2: FutureWarning: sort(columns=....) is deprecated, use sort_values(by=.....)\n",
      "  from ipykernel import kernelapp as app\n"
     ]
    }
   ],
   "source": [
    "search_count = search_count.reset_index()\n",
    "search_count = search_count.sort('count', ascending=False)"
   ]
  },
  {
   "cell_type": "code",
   "execution_count": 57,
   "metadata": {
    "collapsed": false
   },
   "outputs": [
    {
     "data": {
      "text/html": [
       "<div>\n",
       "<table border=\"1\" class=\"dataframe\">\n",
       "  <thead>\n",
       "    <tr style=\"text-align: right;\">\n",
       "      <th></th>\n",
       "      <th>processed_search_term</th>\n",
       "      <th>count</th>\n",
       "    </tr>\n",
       "  </thead>\n",
       "  <tbody>\n",
       "    <tr>\n",
       "      <th>4436</th>\n",
       "      <td>crime</td>\n",
       "      <td>1118</td>\n",
       "    </tr>\n",
       "    <tr>\n",
       "      <th>15258</th>\n",
       "      <td>streets</td>\n",
       "      <td>851</td>\n",
       "    </tr>\n",
       "    <tr>\n",
       "      <th>14293</th>\n",
       "      <td>shapefile</td>\n",
       "      <td>744</td>\n",
       "    </tr>\n",
       "    <tr>\n",
       "      <th>15030</th>\n",
       "      <td>street</td>\n",
       "      <td>697</td>\n",
       "    </tr>\n",
       "    <tr>\n",
       "      <th>10750</th>\n",
       "      <td>parking</td>\n",
       "      <td>693</td>\n",
       "    </tr>\n",
       "  </tbody>\n",
       "</table>\n",
       "</div>"
      ],
      "text/plain": [
       "      processed_search_term  count\n",
       "4436                  crime   1118\n",
       "15258               streets    851\n",
       "14293             shapefile    744\n",
       "15030                street    697\n",
       "10750               parking    693"
      ]
     },
     "execution_count": 57,
     "metadata": {},
     "output_type": "execute_result"
    }
   ],
   "source": [
    "search_count.head()"
   ]
  },
  {
   "cell_type": "code",
   "execution_count": 72,
   "metadata": {
    "collapsed": false
   },
   "outputs": [],
   "source": [
    "common_searches = search_count.ix[search_count['count'] > 10]\n",
    "common_searches.to_csv('common_searches.csv', index=False)"
   ]
  },
  {
   "cell_type": "code",
   "execution_count": 68,
   "metadata": {
    "collapsed": false
   },
   "outputs": [
    {
     "data": {
      "text/html": [
       "<div>\n",
       "<table border=\"1\" class=\"dataframe\">\n",
       "  <thead>\n",
       "    <tr style=\"text-align: right;\">\n",
       "      <th></th>\n",
       "      <th>processed_search_term</th>\n",
       "      <th>count</th>\n",
       "    </tr>\n",
       "  </thead>\n",
       "  <tbody>\n",
       "    <tr>\n",
       "      <th>4436</th>\n",
       "      <td>crime</td>\n",
       "      <td>1118</td>\n",
       "    </tr>\n",
       "    <tr>\n",
       "      <th>15258</th>\n",
       "      <td>streets</td>\n",
       "      <td>851</td>\n",
       "    </tr>\n",
       "    <tr>\n",
       "      <th>14293</th>\n",
       "      <td>shapefile</td>\n",
       "      <td>744</td>\n",
       "    </tr>\n",
       "    <tr>\n",
       "      <th>15030</th>\n",
       "      <td>street</td>\n",
       "      <td>697</td>\n",
       "    </tr>\n",
       "    <tr>\n",
       "      <th>10750</th>\n",
       "      <td>parking</td>\n",
       "      <td>693</td>\n",
       "    </tr>\n",
       "  </tbody>\n",
       "</table>\n",
       "</div>"
      ],
      "text/plain": [
       "      processed_search_term  count\n",
       "4436                  crime   1118\n",
       "15258               streets    851\n",
       "14293             shapefile    744\n",
       "15030                street    697\n",
       "10750               parking    693"
      ]
     },
     "execution_count": 68,
     "metadata": {},
     "output_type": "execute_result"
    }
   ],
   "source": [
    "common_searches.head()"
   ]
  },
  {
   "cell_type": "code",
   "execution_count": 69,
   "metadata": {
    "collapsed": false
   },
   "outputs": [
    {
     "data": {
      "text/plain": [
       "(1681, 2)"
      ]
     },
     "execution_count": 69,
     "metadata": {},
     "output_type": "execute_result"
    }
   ],
   "source": [
    "common_searches.shape"
   ]
  },
  {
   "cell_type": "code",
   "execution_count": 71,
   "metadata": {
    "collapsed": false
   },
   "outputs": [
    {
     "name": "stdout",
     "output_type": "stream",
     "text": [
      "['crime', 'streets', 'shapefile', 'street', 'parking', 'census', 'bike', 'business', 'building', 'water', 'neighborhood', 'population', 'parks', '311', 'traffic', 'bicycle', 'muni', 'income', 'parcel', 'fire', 'housing', 'school', 'rent', 'bart', 'land use', 'zoning', 'bus', 'neighborhoods', 'gis', 'parcels', 'restaurant', 'homeless', 'food', 'elevation', 'buildings', 'san francisco', 'boundary', 'pipeline', 'roads', 'police', 'schools', 'park', 'address', 'transit', 'budget', 'assessor', 'tree', 'transportation', 'taxi', 'restaurants', 'sfmta', 'building footprints', 'property', 'city', 'trees', 'pedestrian', 'construction', 'health', 'businesses', 'shapefiles', 'bridge', 'education', 'block', 'business license', 'district', 'bay area', 'graffiti', 'street cleaning', 'building permits', 'building footprint', 'census tract', 'road', 'sfpd', 'permit', 'sewer', 'noise', 'blocks', 'car', 'map', 'hospital', 'districts', 'city boundary', 'airport', 'zip code', 'topography', 'business licenses', 'affordable housing', 'open space', 'contour', 'campaign finance', 'accidents', 'real estate', 'eviction', 'permits', 'basemap', 'parking meter', 'alcohol', 'sfo', 'aerial', 'salary', 'parking meters', 'demographics', 'shoreline', 'accident', 'flood', 'air', 'tax', 'shp', 'zip', 'demographic', 'assessment', 'energy', 'weather', 'contours', 'evictions', 'age', 'bus stops', 'centerline', 'art', 'employment', 'census shapefile', 'footprint', 'air quality', 'planning', 'streets of san francisco', 'addresses', 'housing inventory', 'bay', 'centerlines', 'open spaces', 'census tracts', 'sidewalk', 'cancer', 'landuse', 'bike lanes', 'hotel', 'csv', 'public schools', 'lobbyist', 'business registration', 'waste', 'development pipeline', 'coffee', 'library', 'city lots', 'zip codes', 'street sweeping', 'boundaries', 'bars', 'dem', 'census 2010', 'facilities', 'kml', 'cleaning', 'poverty', 'building permit', 'meter', 'hospitals', 'census 2000', 'census block', 'json', 'base map', 'uber', 'population density', 'density', 'bike parking', 'sidewalks', 'public transportation', 'cnn', 'wind', 'curb', 'topo', 'climate', 'bike network', 'business account number', 'vacant', 'bikeway', 'retail', 'highway', 'recreation', 'employee', 'property assessment', '911', 'crimes', 'tourism', 'parking tickets', 'cad', 'race', 'soil', 'children', 'police districts', 'city limits', 'bay area general', 'curbs', 'sales', 'building height', 'public', 'chinatown', 'zoning districts', 'street parking', 'tickets', 'intersections', 'community', 'citation', 'caltrain', 'shore', 'supervisor', 'food truck', 'height', 'address locator', 'bridges', 'tow', 'human waste', 'rental', 'college', 'job', 'light', 'registered business', 'commercial', 'earthquake', 'campaign', 'ban', 'vegetation', 'fire incidents', 'street names', 'rail', 'lots', 'hiv', 'survey', 'residential', 'shelter', 'footprints', 'crime data', 'poop', 'imagery', 'vehicle', 'trail', 'historic', 'complaints', 'base', 'tenderloin', 'slope', 'sfpd incidents', 'port', 'inventory', 'tract', 'liquor', 'film', 'homicide', 'water bodies in san francisco', 'open business', 'bicycle parking', 'food trucks', 'intersection', 'libraries', 'price', 'orthophoto', 'incidents', 'land', 'ethnicity', 'street light', 'vendor', 'inclusionary housing', 'mobile food', 'building heights', 'gps', 'garbage', 'bus stop', 'hotels', 'sf shoreline and islands', 'shape file', 'ortho', 'events', 'location', 'violations', 'bike lane', 'contracts', 'route', 'sffind neighborhoods', 'green', 'insurance', 'mission bay', 'violation', 'street centerlines', 'wifi', 'development', 'planning neighborhoods', 'rent control', 'street trees', 'bayview', '3d', 'community gardens', 'airbnb', 'bus routes', 'lidar', 'census blocks', 'childcare', 'speed', 'board of supervisors', 'fire stations', 'property tax', 'animal', 'census 2000 tracts no water', 'popos', 'cable', 'sfpark', 'registered businesses', 'calls for service', 'grocery', 'inclusionary', 'public space', 'block group', 'shoreline shapefile', 'asthma', 'traffic counts', 'freeway', 'ambulance', 'sfshore', 'public housing', 'sffd', 'median income', 'utilities', 'salaries', 'pollution', 'supervisor districts', 'house', 'sanfrancisco', 'ferry', 'trails', 'affordable', 'utility', 'green space', 'stclines', 'disabled', 'museum', 'presidio', 'street map', 'meters', 'collision', 'trash', 'solar', 'bikes', 'incident', 'treasure island', 'dpw', 'jobs', 'highways', 'water bodies', 'taz', 'compensation', 'license', 'bike share', 'census 2000 blocks no water', 'ocean', 'homelessness', 'citations', 'ticket', 'traffic density', 'colleges', 'coast', 'supervisor district', 'mta', 'tow zone', 'shape', 'spending', 'garden', 'network', 'bay area  general', 'business registration certificate', 'wireless', 'county', 'sfmta bikeway network', 'farmers market', 'temperature', 'inspection', 'internet', 'unemployment', 'public art', 'building age', 'sanfranciscogdb', 'real time', 'crime incidents', 'housing prices', 'topographic', 'zipcode', 'seismic', 'death', 'fire department', 'murder', 'medical', 'city survey', 'bicycle accidents', 'article 11', 'electricity', 'parcel data', 'property assessment roll', 'lyft', 'form 700', 'year built', 'traffic count', 'theft', 'stormwater', 'emergency', 'dptbikenetwork', 'traffic accidents', 'terrain', 'movie', 'household income', 'apn', 'city blocks', 'property value', 'electricity use', 'bernal lot size', 'citylots', 'rain', 'right of way', 'dbi', 'fire station', 'pbc', 'san francisco crime', 'child', 'berkeley', 'camera', 'parking citation', 'article 10', 'parking lots', 'crime rate', 'something', 'dui', 'benches', 'telegraph hill', 'sro', 'payroll', 'church', 'open', 'truck', 'job density', 'arrests', 'sf solar map', 'watershed', 'speed limit', 'injury', 'cafe', 'north beach', 'sweeping', 'farmers markets', 'image', 'apartment buildings', 'dog', 'employees', 'vendors', 'complaint', 'border', 'china', 'case', 'api', 'lgbt', 'car ownership', 'paving', 'street of san francisco', 'market', 'streets shapefile', 'obesity', 'oakland', 'hydrology', 'auto', 'train', 'zone', 'landmark', 'parking citations', 'vote', 'parking ticket', 'tech', 'nonprofit', 'bay trail', 'census 2000 tracts', 'film locations', 'sfusd', 'eas', 'station', 'child care', 'ada', 'air pollution', 'police district', 'food inspection', 'geology', 'envista', 'university', 'ethics', 'cable car', 'bicycle accident', 'ridership', 'election', 'contract', 'outline', 'hazard', 'airports', 'trimmers', 'drug', 'lobby', 'geojson', 'finance', 'feces', 'speeding', 'census 2000 blocks', 'photo', 'open spaces city planning', 'housing price', 'social', 'bar', 'bank', 'bird', 'revenue', 'marriage', 'precinct', 'fte', 'bus lines', 'police stations', 'cab', 'assessment roll', 'biz point', 'pipeline 2015', 'pipe', 'road map', 'center lines', 'dumping', 'vendor payments', 'recycling', 'flooding', 'san francisco streets', 'sf shore', 'wine', 'travel', 'coastal', 'open business locations', 'chicago', 'street network', 'services', 'stations', 'lot', 'movies', 'street centerline', 'union square', 'campaign consultant', 'liquefaction', 'bench', 'census2000', 'sweep', 'toilet', 'public transit', 'biking', 'sfpuc', 'bike theft', 'city features', 'lobbyists', 'planning districts', 'technology', 'arterial', 'tobacco', 'gis data', 'traffic accident', 'on street parking', 'streetlight', 'google', 'street shapefile', 'allergies', 'garage', 'universities', 'bathroom', 'advisories', 'dwg', 'bike shapefile', 'avenida epitacio pessoa ipanema rio de janeiro', 'transport', 'sea level rise', 'form 460', 'routes', 'bus accidents', 'storm', 'agriculture', 'crime map', 'data catalog', 'dataset inventory', 'general plan', 'transit stops', '2010 census', 'pole', 'latitude', 'museums', 'property owner', 'high injury', 'lobbyist activity', 'parcel map', 'chinese', 'illegal dumping', 'maher', 'collisions', 'use', 'bike route', 'twitter', 'cafe bakery', 'economic', 'inspections', 'business locations', 'water usage', 'health care', 'address points', 'active business', 'busines', 'realtime', 'elections', 'employee compensation', 'raster', 'health score', 'castro', 'wind monitoring', 'canopy', 'startup', 'cannabis', 'avl', 'business district', 'city limit', 'owner', 'restaurant inspection', 'rent board', 'sf development pipeline', 'landmarks', 'traffic volume', 'curb ramp', 'maps', 'speed limits', 'cities', 'public works', 'coastal zone', 'clean', 'san francisco shoreline', 'drainage', 'street center', 'brownfield', 'sf311', 'at', 'bus route', 'street lights', 'community center', 'fires', 'building outline', 'sfdph', 'affordability', 'schedule e', 'landslide', 'small business', 'gdp', 'new york', 'cbd', 'data', 'census 2000 block group', 'liquor store', 'pavement', 'security', 'muni routes', 'cost', 'bayview hunters point', 'beach', 'environment', 'home', 'eviction notices', 'restaurant inspections', 'lights', 'healthcare', 'performance', 'pipeline 2012', 'expenditures', 'workers', 'plant', 'cctv', 'tree canopy', 'building outlines', 'city boundaries', 'street tree', 'sanitation', 'baker places', 'economy', 'area', 'parking restrictions', 'youth', 'subway', 'center line', 'business location', 'street sweep', 'digital elevation model', 'road network', 'basil thai', 'traffic tickets', 'clinic', 'university of san francisco', 'tourist', 'prostitution', 'property values', 'vmt', 'point', 'mobile', 'public library', 'counties', 'precipitation', 'churches', '460 e', 'parklet', 'cases', 'san francisco boundary', 'commute', 'cell', 'shop', 'preservation', 'shooting', 'parklets', 'traffic lights', 'foodtruck', 'benchmark', 'recology', 'muni stops', 'low income', 'water quality', 'birth', 'car sharing', 'household', 'time', 'altitude', 'public health', 'street maps', 'maintenance', 'lobbying', 'bikeway network', 'ems', 'gentrification', 'tracts', 'pothole', 'facility', 'river', 'certified payroll', 'non profit', 'tax lots', 'gardens', 'vision zero', 'golden gate', 'restroom', 'adt', 'prices', 'names', 'appeals', 'cell phone', 'street sweeping schedule', 'condominium', 'precincts', 'coastline', 'test', 'railroad', 'bike accidents', 'buisness', 'ethnic', 'san francisco map', 'burglary', 'vacancy', 'building construction', 'aspect', 'fiber', 'pipeline 2013', 'commuting', 'motorcycle', 'aadt', 'sffacs', 'grocery stores', 'sf shoreline', 'animals', 'drain', 'dog patch', 'police station', 'criminal', 'sports', 'uncashed', 'crime statistics', 'creek', 'county boundary', 'injuries', 'realtor', 'suicide', 'sf streets', 'land cover', 'city outline', 'developer', 'sweeper', 'median rent', 'pci', 'bikeshare', 'building use', 'golden gate bridge', 'search datasf', 'registered business locations', 'sea level', 'below market rate', 'board', 'parcel owner', 'mortgage', 'food inspections', 'mission district', 'parking violations', 'parking signs', 'walk', 'bay outline', 'parking lot', 'metro', 'basemap street centerlines', 'city facilities', 'pbc code', 'rape', 'gay', 'base mao', 'pipeline 2014', 'habitat', 'basemap street centerlines shapefile', 'bicycle theft', 'mission', 'news', 'pier', 'marijuana', 'licenses', 'traffic light', 'cancer risk', 'entitlements', 'san francisco shapefile', 'appraisal roll', 'boundry', 'grocery store', 'tow away', 'gtfs', 'private schools', 'stop', 'bay area counties', 'fuel', 'zipcodes', 'mental health', 'bike routes', 'co2', 'sfopenbook', 'block groups', '6524032', 'waterfront', 'public parks', 'naics', 'sport', 'freeways', 'resturant', 'projects', 'cost of living', 'bay area zip codes', 'baytrail', 'san francisco county', 'sales tax', 'deaths', 'conference', 'industrial', 'home sales', 'companies', 'diabetes', 'fog', 'homeless shelter', '', 'catalog', 'grid', 'manhole', 'taxes', 'senior', 'census2000blknowater', 'entertainment', 'excavation', 'registered', 'event', 'city map', 'lottery', 'assess', 'ownership', 'cases by channel', 'heat', 'people', 'purchase', 'congestion', 'puc', 'taylor', 'shelters', 'deed', 'immigration', 'dogs', 'business registration certificate number', 'condo', 'checkbook', 'recreation and parks', 'sun', 'pdf parcel', 'shape files', 'recreation centers', 'sf boundary', '460 forms schedule a', 'service requests', 'candidate name', 'public school', 'house price', 'crime shapefile', 'sexual assault', 'housing code violations', 'national parks', 'concealed weapons permits', 'cars', 'abandoned', 'occupation', 'orthophotos', 'san francisco outline', 'police department', 'workforce', 'open spaces  city planning', 'resiliency', 'dpt bike network', 'fema', 'btod', 'bike route network', 'women', 'excelsior', 'schedule a', 'grafitti', 'potholes', 'grade', 'health facilities', 'land value', 'commute time', 'impervious', 'music', 'property records', 'block lot', 'meeting time', 'motorcycle parking', 'benchmarking', 'solar map', 'claims', 'supervisorial districts', 'business map', 'car theft', 'civic center', 'bart stations', 'neighborhood boundaries', 'toilets', 'murders', 'bcdc', 'street center lines', 'arrest', 'probation', 'central subway', 'bus line', 'buyouts', 'arcgis', 'planning cases', 'market street', 'business certificate', 'traffic signals', 'stops', 'incomes', 'bay area cities', 'towing', 'citywide performance measurement', 'street closures', 'homicides', 'school zones', 'floodplain', 'foreclosure', 'sf flower mart', 'disabled parking', 'public safety', 'films', 'gang', 'external datasets', 'enforcement', 'water use', 'heights', 'form 700 schedules', 'value', 'diana lerner', '3d building', 'recycle', 'sale', 'rent prices', 'ellis', 'urban tree', 'procurement', 'bay area shapefile', 'violent crime', 'juvenile', 'aviation', 'court', 'jail', 'parking permit', 'california census tracts', 'crash', 'date', 'city employees', 'no parking', 'sffind', 'litter', 'religion', 'climate and health', 'tickets parking', 'equity', 'offices', 'golden gate park', 'golf', 'classification', 'betterdoctor', 'historical', 'gas', 'plan', 'health scores', 'web', 'castro sf', 'toxic', 'affordable housing units', 'housing authority', 'electric', 'african american health', 'pedestrian injury', 'tunnel', 'wetlands', 'vacant lots', 'candidates', 'sf elevation', 'commercial zones', 'voting', 'offstreet parking', 'spending and revenue', 'campaign contributions', 'special use districts', 'stories', 'human trafficking', 'disaster', 'edge of pavement', 'stores', 'beer', 'street evaluation', 'filbert 1880', 'beauty', 'community centers', 'traffic noise', 'community garden', 'commercial building', 'san francisco street', 'street furniture', 'curb ramps', 'carshare', 'particulate', 'carbon', 'accessibility', 'ellis act', '135 post street', 'levis', 'water consumption', 'census 2000 block', 'work', 'fitness', 'bike thefts', 'pets', 'assessors', 'miss saigon', 'flight', 'flood zone', 'pdr', 'mode share', 'homeless population', 'analysis neighborhoods', 'san francisco public schools', 'bicycle lanes', 'historic district', 'loading zones', 'dog parks', 'diversion', 'area plans', 'muni lines', 'alcatraz', 'sfpd crime incident reporting system', 'sex', 'parking census', 'tide', 'sign', 'parking violation', 'crime rates', 'bart station', 'soma', 'excrement', 'units', '311 calls', 'crime classification', 'short term rental', 'bay area street', 'daycare', 'alameda', 'yerba buena gardens', 'satisfaction', 'bay bridge', 'culure and recreation', 'geocode', 'annexations', 'calworks', 'human resources', 'number of tickets opened', 'sf street sweeping schedule', 'wastewater', 'arson', 'historic preservation', 'streetlights', 'active business locations', 'voter', 'blocklot', 'california register', 'basketball', 'employment rate', 'attraction', 'exceptions', 'minority', 'lines', 'walking', 'architecture', 'chinese food', 'san francisco crime classification', 'bike path', 'street sweeper', 'children in poverty', 'rio de janeiro', 'city district shapefile', 'realtorneighborhoods', 'bicycle network', 'city college', 'property information map', 'business search', 'city property', 'treasurer and tax collector', 'sensor', 'businesses registered in san francisco', 'yelp', 'san francisco neighborhoods', 'min wage ord', 'education rate', 'tidal', 'unified school disctrict', 'telecom', 'car thifte', 'sfpd incident', 'single room occupancy', 'firms', 'disease', 'health inspection', 'collection', 'supervisorial', 'connectivity', 'street center line', 'washington street usps zip code 94118', 'neighborhood shapefile', 'building code violations', 'wetland', 'year', 'volume', 'property taxes', 'cycling', 'casale', 'accepted streets', 'comunity garden', 'fire station locations', 'natural', 'care not cash', 'boston', 'apartment', 'onstreet parking', 'building inspections', 'meter rate', 'building inspection', 'arts commission', 'senior center', 'response', 'crime 2014', 'weight', 'valle de ninos', 'email', 'campaign committees', 'crosswalk', 'bike racks', 'property information', 'superior court', 'renter', 'pet', 'santa clara', 'census data', 'operate business', 'data inventory', 'personnel', 'species', 'permit parking', 'sewer lines', 'sf neighborhoods', 'travel time', 'assessors roll', 'neighbourhood', 'block group 2010', 'soils', 'watersheds', 'pictometry', 'crime 2015', 'senior care services', 'bmi', 'calls', 'schedule', 'prevention', 'hayes valley', 'consumer', 'street corners', 'muni metro', 'code', 'italy', 'disability', 'bathymetry', 'business registration certificates', 'san francisco bay area', 'ramp', 'better streets plan', 'ozone', 'time series', 'homeownership', 'sfo customer', 'visitor', 'parks and open spaces', 'addresses with units', 'infrastructure', 'maritime', 'ingleside', 'india', 'alcohol outlet', 'power lines', 'safer grant', 'sfpd reported incidents', 'school districts', 'demography', 'history', 'san francisco state university', 'steven holland', 'fillmore', 'government', 'grafiti', 'amenities', 'city parcels', 'city owned', 'tax revenue', 'count', 'van ness', 'safety', 'citylot', 'parking permits', 'california', 'risk', 'satellite', 'existing commercial buildings', 'traffic calming', 'street signs', '4 persia avenue', 'street segment', 'transient occupancy tax', 'points', 'council', 'street permit', 'environmental', 'health inspections', 'california county', 'total housing units', 'employment rate san francisco', 'markets', 'film location', 'caltrans', 'boiler', 'business license lookup', 'marina', 'bulb', 'asian', 'seismic hazard', 'treatment', 'sewer mains', 'tax parcels', 'parks shapefile', 'map of san francisco', 'parcel numbers', 'pedestrian safety', 'smf', 'fire district', 'gun', 'rent price', 'building shapefile', 'sewer issues', 'school district', 'real estate sales', 'san fransisco', 'raw data', 'historic zoning', 'closed', 'published data', 'wildlife', 'class code', 'hydro', 'state employee', 'dogpatch', 'cityowned', 'public transport', 'playground', 'city owned property', 'hunters point', 'san francisco building', 'domestic violence', 'mortality', 'jurisdiction', 'moratorium', 'plaza', 'square footage', 'death certificates', 'alleys', 'revenue tax', 'defecation', 'construction list', 'demograph', 'storm water', 'homeless shelters', 'information security', 'muni shapefile', 'bayareabridges', 'average daily traffic', 'row', 'private', 'aircraft', 'resturants', 'community benefit district', 'community based organizations', 'commercial buildings', 'dispensary', 'port jurisdiction', 'bathrooms', 'san francisco basemap', 'muni stations', 'bicycles', 'datasets', 'lbe', 'ceqa', 'software', 'phone', 'fleet', 'hercules', 'banking', 'socio economic', 'summary', 'annual revenue', 'permit consultant', 'city council', 'miles', 'performance measure', 'cell tower', 'elevation contours', 'gender', 'elevations', 'birch', 'culture', 'resonance', 'daily', 'channel', 'flood plain', '2014 housing inventory', 'spend', 'crime incident', 'south sf', 'city and county of san francisco', 'planning areas', 'active', 'bike rentals', 'drinking water', 'planning applications', 'drugs', 'drunk driving', 'neighbourhoods', 'housing pipeline', 'pipeline 2011', 'awss', 'transit shapefile', 'vehicles', 'geographic', 'roll', 'neighborhood map', 'fault', 'gasoline', 'brigitte wilson', 'treasure island crime', 'groundwater', 'bid', 'bids contracts', 'vehicle ownership', 'bike accident', 'office space', 'bike network shapefile', 'bike paths', 'green roofs', 'green connections', 'block map', '729 shotwell st', 'san francisco facilities', 'bikeways', 'metadata', 'fire districts', 'open busienss', 'topology', 'occupancy', 'fppc', 'food safety', 'restrooms', 'tnc', 'bayview district', 'salon', 'zoning map', 'assesment', 'aupair', 'san francisco bay', 'mrsid', 'better streets', 'fire inspections', 'san francisco boundaries', 'bicycle count', 'body', 'residential parking', 'attractions', 'car accidents', 'dpw paving', 'life expectancy', 'polygon', 'doctor', 'street parking map', 'document', 'civic art collection', 'water main', 'sfmta bikeway', 'americas best value inn', 'americas cup', 'hillshade', 'city hall', 'street tree list', 'street use permits', 'high injury corridors', 'high crime rate shapefile', 'landfill', 'earthquakes', 'census tracks', 'pesticide', 'census block 2000', 'census 2000 shapefile', 'lease', '2010 census tracts', 'elevator', 'supervisors', 'redevelopment', 'car share', 'district map', 'jakarta', 'use code', 'ship', 'web analytics', 'public facilities', 'social media', 'aerial photo', 'housing units', 'public spaces', 'hydrant', 'starbucks', 'day care', 'ice cream', 'watering holes', 'stclinesstreets', 'contamination', 'rainfall', 'storefront political media', 'shapefile bike', 'compost', 'water supply', 'water shapefile', 'community benefit districts', 'street arcgis', 'power', 'potrero hill', 'internet connectivity', 'postal', 'code violation', 'car accident', 'rivers', 'parks and recreation', 'handicap', 'parking spot', 'cad files', 'parking fine', 'parking spaces', 'liquor license', 'business registry', 'scriptscriptalert1script', 'pbc codes', 'parking regulations', 'xem k trieu', 'business portal', 'parking zones', 'vehicle counts', 'excel', 'business certificates', 'secured property assessment', 'business major', 'yamadaya', 'light rail', 'fauna', 'bay area water', 'sharebetter sf', 'stop sign', 'freight', 'quality transmission', 'restuarant', 'commute times', 'rent burden', 'traffic violation', 'traffic transportation', 'hoa', 'community resiliency', 'consumption', 'sfpdincidents2013', 'community challenge', 'fed', 'committee name mapping', 'bedrooms', 'traffic stops', 'business certifcates', 'business license list', 'street grade', 'noise complaints', 'canarias', 'nob hill', 'property lines', 'dataset', 'the crew', 'bart shapefile', 'transit frequency', 'national register', 'data dictionary', 'house sales', 'farm', 'socrata', 'socioeconomic', 'transit routes', 'building floor area', 'parking availability', 'san mateo', 'transit stop', 'map of', 'credit', 'bryant street sewer repairs', 'thomas angelo', 'continental appliance', 'running', 'population growth', 'stock', 'gis shapefile', 'battery', 'contractors', 'contributions', 'buildings footprint', 'shopping', 'fatalities', 'sat', 'counts', 'property assessors roll', 'datum', 'prison', 'muni feedback', 'population by ethnicity', 'business liscense', 'energy benchmarking', 'language', 'census2010blknowater', 'edge', 'ed lee', 'striping', 'bike shape', 'changes', 'sf outline', 'liquor stores', 'grant', 'hetch hetchy', 'registered business location', 'physical', 'flood zones', 'recorder', 'health insurance', 'medical marijuana', 'case data', 'lighting', 'campaign finance  fppc', 'open spaces \\xe2\\x80\\x93 city planning', 'employ', 'green business', 'emissions', 'tower', 'senior centers', 'block search', 'sex offender', 'open space shapefile', 'cases and business', 'legal', 'catholic churches', 'outfall', 'high school', 'realtor neighborhoods', 'jane kim', 'street space', 'borehole', 'business registered', 'padmapper', 'job titles by classification', 'business permits', 'street name', 'traffic counts on van ness ave', 'business names', 'traffic injury', 'popular baby name', 'ramen yamadaya', 'service', 'cnn changes', 'poi', 'business tax', 'chinese immigrant women', 'city boundary data', 'labor', 'bussiness', 'mobile food truck', 'park and open space', 'planning neighborhood', 'higher education', 'moh', 'passenger', 'downtown', 'city feature', 'real', 'patient detail', 'street structure', 'business taxes', 'san jose', 'neighborhood groups map', 'airlines', '3d model', 'auto return platinum', '311abandoned', 'ap 201 california llc', 'aaron peskin', 'zone id', '355 bocana street', 'aids', '2013 housing inventory', 'water related', 'anti smoking', 'appraisal', 'transportation 2015 map', 'warrant', 'wind speed', 'wages', 'ucsf', 'truck routes', 'annual bicycle count', 'water pipe', 'assesor', 'twister donut', 'zoning district', 'alain gervais', 'aid', 'apps', 'unclaimed funds', 'turk']\n"
     ]
    }
   ],
   "source": [
    "common_search_list = list(common_searches['processed_search_term'])"
   ]
  },
  {
   "cell_type": "code",
   "execution_count": null,
   "metadata": {
    "collapsed": true
   },
   "outputs": [],
   "source": []
  }
 ],
 "metadata": {
  "kernelspec": {
   "display_name": "Python 2",
   "language": "python",
   "name": "python2"
  },
  "language_info": {
   "codemirror_mode": {
    "name": "ipython",
    "version": 2
   },
   "file_extension": ".py",
   "mimetype": "text/x-python",
   "name": "python",
   "nbconvert_exporter": "python",
   "pygments_lexer": "ipython2",
   "version": "2.7.10"
  }
 },
 "nbformat": 4,
 "nbformat_minor": 0
}
