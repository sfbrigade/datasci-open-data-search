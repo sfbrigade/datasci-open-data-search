{
 "cells": [
  {
   "cell_type": "markdown",
   "metadata": {},
   "source": [
    "Search Data Processing\n",
    "=========================\n",
    "\n"
   ]
  },
  {
   "cell_type": "code",
   "execution_count": 2,
   "metadata": {
    "collapsed": true
   },
   "outputs": [],
   "source": [
    "import pandas as pd\n",
    "import re\n",
    "import string"
   ]
  },
  {
   "cell_type": "code",
   "execution_count": 3,
   "metadata": {
    "collapsed": true
   },
   "outputs": [],
   "source": [
    "search_data = pd.read_csv(\"./data/sample_openData_searchTerms_clean.csv\")"
   ]
  },
  {
   "cell_type": "code",
   "execution_count": 4,
   "metadata": {
    "collapsed": false
   },
   "outputs": [
    {
     "data": {
      "text/plain": [
       "(5000, 8)"
      ]
     },
     "execution_count": 4,
     "metadata": {},
     "output_type": "execute_result"
    }
   ],
   "source": [
    "search_data.shape"
   ]
  },
  {
   "cell_type": "code",
   "execution_count": 5,
   "metadata": {
    "collapsed": false
   },
   "outputs": [
    {
     "data": {
      "text/html": [
       "<div>\n",
       "<table border=\"1\" class=\"dataframe\">\n",
       "  <thead>\n",
       "    <tr style=\"text-align: right;\">\n",
       "      <th></th>\n",
       "      <th>Search Term</th>\n",
       "      <th>Exit Page</th>\n",
       "      <th>Total Unique Searches</th>\n",
       "      <th>Results Pageviews / Search</th>\n",
       "      <th>% Search Exits</th>\n",
       "      <th>% Search Refinements</th>\n",
       "      <th>Time after Search</th>\n",
       "      <th>Average Search Depth</th>\n",
       "    </tr>\n",
       "  </thead>\n",
       "  <tbody>\n",
       "    <tr>\n",
       "      <th>4995</th>\n",
       "      <td>address range</td>\n",
       "      <td>/Geographic-Locations-and-Boundaries/Streets-o...</td>\n",
       "      <td>2</td>\n",
       "      <td>1.5</td>\n",
       "      <td>0.00%</td>\n",
       "      <td>0.00%</td>\n",
       "      <td>0:02:09</td>\n",
       "      <td>8.0</td>\n",
       "    </tr>\n",
       "    <tr>\n",
       "      <th>4996</th>\n",
       "      <td>address shapefile</td>\n",
       "      <td>/browse/embed?category=&amp;limit=20&amp;limitTo=&amp;q=ad...</td>\n",
       "      <td>2</td>\n",
       "      <td>1.5</td>\n",
       "      <td>0.00%</td>\n",
       "      <td>66.67%</td>\n",
       "      <td>0:00:18</td>\n",
       "      <td>3.0</td>\n",
       "    </tr>\n",
       "    <tr>\n",
       "      <th>4997</th>\n",
       "      <td>address to geographic location</td>\n",
       "      <td>/browse/embed?category=&amp;limit=20&amp;limitTo=&amp;q=ad...</td>\n",
       "      <td>2</td>\n",
       "      <td>1.0</td>\n",
       "      <td>0.00%</td>\n",
       "      <td>0.00%</td>\n",
       "      <td>0:00:03</td>\n",
       "      <td>1.5</td>\n",
       "    </tr>\n",
       "    <tr>\n",
       "      <th>4998</th>\n",
       "      <td>address with resident names</td>\n",
       "      <td>/browse/embed?category=&amp;limit=20&amp;limitTo=&amp;q=ad...</td>\n",
       "      <td>2</td>\n",
       "      <td>1.0</td>\n",
       "      <td>0.00%</td>\n",
       "      <td>0.00%</td>\n",
       "      <td>0:00:05</td>\n",
       "      <td>1.5</td>\n",
       "    </tr>\n",
       "    <tr>\n",
       "      <th>4999</th>\n",
       "      <td>addresse</td>\n",
       "      <td>/browse/embed?category=&amp;limit=20&amp;limitTo=&amp;q=po...</td>\n",
       "      <td>2</td>\n",
       "      <td>1.0</td>\n",
       "      <td>0.00%</td>\n",
       "      <td>100.00%</td>\n",
       "      <td>0:00:03</td>\n",
       "      <td>1.5</td>\n",
       "    </tr>\n",
       "  </tbody>\n",
       "</table>\n",
       "</div>"
      ],
      "text/plain": [
       "                         Search Term  \\\n",
       "4995                   address range   \n",
       "4996               address shapefile   \n",
       "4997  address to geographic location   \n",
       "4998     address with resident names   \n",
       "4999                        addresse   \n",
       "\n",
       "                                              Exit Page  \\\n",
       "4995  /Geographic-Locations-and-Boundaries/Streets-o...   \n",
       "4996  /browse/embed?category=&limit=20&limitTo=&q=ad...   \n",
       "4997  /browse/embed?category=&limit=20&limitTo=&q=ad...   \n",
       "4998  /browse/embed?category=&limit=20&limitTo=&q=ad...   \n",
       "4999  /browse/embed?category=&limit=20&limitTo=&q=po...   \n",
       "\n",
       "      Total Unique Searches  Results Pageviews / Search % Search Exits  \\\n",
       "4995                      2                         1.5          0.00%   \n",
       "4996                      2                         1.5          0.00%   \n",
       "4997                      2                         1.0          0.00%   \n",
       "4998                      2                         1.0          0.00%   \n",
       "4999                      2                         1.0          0.00%   \n",
       "\n",
       "     % Search Refinements Time after Search  Average Search Depth  \n",
       "4995                0.00%           0:02:09                   8.0  \n",
       "4996               66.67%           0:00:18                   3.0  \n",
       "4997                0.00%           0:00:03                   1.5  \n",
       "4998                0.00%           0:00:05                   1.5  \n",
       "4999              100.00%           0:00:03                   1.5  "
      ]
     },
     "execution_count": 5,
     "metadata": {},
     "output_type": "execute_result"
    }
   ],
   "source": [
    "search_data.tail()"
   ]
  },
  {
   "cell_type": "code",
   "execution_count": 6,
   "metadata": {
    "collapsed": false
   },
   "outputs": [],
   "source": [
    "#search_data[search_data['Total Unique Searches']<5]"
   ]
  },
  {
   "cell_type": "code",
   "execution_count": 8,
   "metadata": {
    "collapsed": false
   },
   "outputs": [],
   "source": [
    "search_terms = list(set(search_data['Search Term']))"
   ]
  },
  {
   "cell_type": "code",
   "execution_count": 9,
   "metadata": {
    "collapsed": false
   },
   "outputs": [
    {
     "data": {
      "text/plain": [
       "2451"
      ]
     },
     "execution_count": 9,
     "metadata": {},
     "output_type": "execute_result"
    }
   ],
   "source": [
    "len(search_terms)"
   ]
  },
  {
   "cell_type": "code",
   "execution_count": 10,
   "metadata": {
    "collapsed": false
   },
   "outputs": [],
   "source": [
    "#print search_terms"
   ]
  },
  {
   "cell_type": "code",
   "execution_count": 11,
   "metadata": {
    "collapsed": false
   },
   "outputs": [
    {
     "data": {
      "text/html": [
       "<div>\n",
       "<table border=\"1\" class=\"dataframe\">\n",
       "  <thead>\n",
       "    <tr style=\"text-align: right;\">\n",
       "      <th></th>\n",
       "      <th>Search Term</th>\n",
       "      <th>Exit Page</th>\n",
       "      <th>Total Unique Searches</th>\n",
       "      <th>Results Pageviews / Search</th>\n",
       "      <th>% Search Exits</th>\n",
       "      <th>% Search Refinements</th>\n",
       "      <th>Time after Search</th>\n",
       "      <th>Average Search Depth</th>\n",
       "    </tr>\n",
       "  </thead>\n",
       "  <tbody>\n",
       "    <tr>\n",
       "      <th>3519</th>\n",
       "      <td>194415</td>\n",
       "      <td>/Economy-and-Community/Registered-Business-Loc...</td>\n",
       "      <td>2</td>\n",
       "      <td>1</td>\n",
       "      <td>0.00%</td>\n",
       "      <td>0.00%</td>\n",
       "      <td>0:00:06</td>\n",
       "      <td>2.5</td>\n",
       "    </tr>\n",
       "  </tbody>\n",
       "</table>\n",
       "</div>"
      ],
      "text/plain": [
       "     Search Term                                          Exit Page  \\\n",
       "3519      194415  /Economy-and-Community/Registered-Business-Loc...   \n",
       "\n",
       "      Total Unique Searches  Results Pageviews / Search % Search Exits  \\\n",
       "3519                      2                           1          0.00%   \n",
       "\n",
       "     % Search Refinements Time after Search  Average Search Depth  \n",
       "3519                0.00%           0:00:06                   2.5  "
      ]
     },
     "execution_count": 11,
     "metadata": {},
     "output_type": "execute_result"
    }
   ],
   "source": [
    "search_data.ix[search_data[\"Search Term\"] == \"194415\"]"
   ]
  },
  {
   "cell_type": "code",
   "execution_count": 12,
   "metadata": {
    "collapsed": true
   },
   "outputs": [],
   "source": [
    "search_terms_data = search_data[[\"Search Term\"]]\n",
    "search_terms_data = search_terms_data.rename(columns={\"Search Term\": \"search_term\"})"
   ]
  },
  {
   "cell_type": "code",
   "execution_count": 13,
   "metadata": {
    "collapsed": false
   },
   "outputs": [
    {
     "data": {
      "text/html": [
       "<div>\n",
       "<table border=\"1\" class=\"dataframe\">\n",
       "  <thead>\n",
       "    <tr style=\"text-align: right;\">\n",
       "      <th></th>\n",
       "      <th>search_term</th>\n",
       "    </tr>\n",
       "  </thead>\n",
       "  <tbody>\n",
       "    <tr>\n",
       "      <th>0</th>\n",
       "      <td>business</td>\n",
       "    </tr>\n",
       "    <tr>\n",
       "      <th>1</th>\n",
       "      <td>crime</td>\n",
       "    </tr>\n",
       "    <tr>\n",
       "      <th>2</th>\n",
       "      <td>crime</td>\n",
       "    </tr>\n",
       "    <tr>\n",
       "      <th>3</th>\n",
       "      <td>311</td>\n",
       "    </tr>\n",
       "    <tr>\n",
       "      <th>4</th>\n",
       "      <td>streets</td>\n",
       "    </tr>\n",
       "  </tbody>\n",
       "</table>\n",
       "</div>"
      ],
      "text/plain": [
       "  search_term\n",
       "0    business\n",
       "1       crime\n",
       "2       crime\n",
       "3         311\n",
       "4     streets"
      ]
     },
     "execution_count": 13,
     "metadata": {},
     "output_type": "execute_result"
    }
   ],
   "source": [
    "search_terms_data.head()"
   ]
  },
  {
   "cell_type": "code",
   "execution_count": 14,
   "metadata": {
    "collapsed": false
   },
   "outputs": [],
   "source": [
    "search_terms_data['processed_data'] = search_terms_data.search_term\\\n",
    "                                        .apply(lambda text: text.decode('ascii' ,\"ignore\" ).decode('utf-8','ignore'))\\\n",
    "                                        .apply(lambda text: text.lower())"
   ]
  },
  {
   "cell_type": "code",
   "execution_count": 15,
   "metadata": {
    "collapsed": false
   },
   "outputs": [],
   "source": [
    "search_terms_list =  list(set(search_terms_data.processed_data))\n",
    "#print search_terms_list"
   ]
  },
  {
   "cell_type": "markdown",
   "metadata": {},
   "source": [
    "#### We need to generally tag searches in categories of quality\n",
    "\n",
    "Many search terms indicate that users are not informed on what the purpose of the website is or how to properly use search\n",
    "\n",
    "Search Tags\n",
    "* Good Quality Search\n",
    "    * complete words or phrases\n",
    "    * minor typos\n",
    "* Bad Quality\n",
    "    * Addresses\n",
    "    * Dates\n",
    "    * Zipcodes or just a string of numbers\n",
    "    * General nonsenses eg. ('></script><script>alert(1)</script>', '///', '16exc-3031') "
   ]
  },
  {
   "cell_type": "code",
   "execution_count": 16,
   "metadata": {
    "collapsed": false
   },
   "outputs": [],
   "source": [
    "dates_r = re.compile('[0-9]/[0-9]/[0-9]')\n",
    "numbers_r = re.compile('^[0-9][0-9]*[0-9]$')\n",
    "html_r = re.compile('^<.*>$')\n"
   ]
  },
  {
   "cell_type": "code",
   "execution_count": 17,
   "metadata": {
    "collapsed": false
   },
   "outputs": [
    {
     "data": {
      "text/plain": [
       "[u'9/1/01', u'3/1/01']"
      ]
     },
     "execution_count": 17,
     "metadata": {},
     "output_type": "execute_result"
    }
   ],
   "source": [
    "filter(dates_r.match, search_terms_list)"
   ]
  },
  {
   "cell_type": "code",
   "execution_count": 18,
   "metadata": {
    "collapsed": false
   },
   "outputs": [
    {
     "name": "stdout",
     "output_type": "stream",
     "text": [
      "[u'</script><script>alert(1)</script>']\n"
     ]
    }
   ],
   "source": [
    "print filter(html_r.match, search_terms_list)"
   ]
  },
  {
   "cell_type": "code",
   "execution_count": 19,
   "metadata": {
    "collapsed": true
   },
   "outputs": [],
   "source": [
    "# removing punctuation\n",
    "\n",
    "def removePunctuation(text):\n",
    "\n",
    "    for c in string.punctuation:\n",
    "        text = text.replace(c,\"\").strip().lower()\n",
    "    return text"
   ]
  },
  {
   "cell_type": "code",
   "execution_count": 20,
   "metadata": {
    "collapsed": false
   },
   "outputs": [],
   "source": [
    "# iterative process\n",
    "\n",
    "def text_processing(search):\n",
    "    \n",
    "    return [removePunctuation(i) for i in search]\n",
    "        \n",
    "        "
   ]
  },
  {
   "cell_type": "code",
   "execution_count": 21,
   "metadata": {
    "collapsed": false
   },
   "outputs": [],
   "source": [
    "search = text_processing(search_terms_list)\n",
    "#search"
   ]
  },
  {
   "cell_type": "code",
   "execution_count": 22,
   "metadata": {
    "collapsed": false
   },
   "outputs": [],
   "source": [
    "regex = \"\\d{1,4}.?\\d{0,4}\\s[a-zA-Z|\\d+]{2,30}\\s[a-zA-Z]{2,15}\"\n",
    "\n",
    "f = [re.findall(regex, i) for i in search\n",
    "     if re.findall(regex, i)!= [] \n",
    "     if re.findall(regex, i)[0][:3] != '311'\n",
    "     ]\n",
    "\n",
    "# http://regexlib.com/REDetails.aspx?regexp_id=430"
   ]
  },
  {
   "cell_type": "code",
   "execution_count": 23,
   "metadata": {
    "collapsed": false
   },
   "outputs": [
    {
     "data": {
      "text/plain": [
       "409"
      ]
     },
     "execution_count": 23,
     "metadata": {},
     "output_type": "execute_result"
    }
   ],
   "source": [
    "len(f)"
   ]
  },
  {
   "cell_type": "code",
   "execution_count": 24,
   "metadata": {
    "collapsed": false
   },
   "outputs": [],
   "source": [
    "year = [str(j) for j in range(2000,2017)]\n",
    "\n",
    "addresses = [i for i in f if i[0][:4] not in year ]\n",
    "#addresses"
   ]
  }
 ],
 "metadata": {
  "kernelspec": {
   "display_name": "Python 2",
   "language": "python",
   "name": "python2"
  },
  "language_info": {
   "codemirror_mode": {
    "name": "ipython",
    "version": 2
   },
   "file_extension": ".py",
   "mimetype": "text/x-python",
   "name": "python",
   "nbconvert_exporter": "python",
   "pygments_lexer": "ipython2",
   "version": "2.7.11"
  }
 },
 "nbformat": 4,
 "nbformat_minor": 0
}
