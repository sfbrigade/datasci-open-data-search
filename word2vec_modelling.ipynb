{
 "cells": [
  {
   "cell_type": "code",
   "execution_count": 1,
   "metadata": {
    "collapsed": false
   },
   "outputs": [
    {
     "ename": "ImportError",
     "evalue": "No module named pandas",
     "output_type": "error",
     "traceback": [
      "\u001b[0;31m---------------------------------------------------------------------------\u001b[0m",
      "\u001b[0;31mImportError\u001b[0m                               Traceback (most recent call last)",
      "\u001b[0;32m<ipython-input-1-b6de5c6bbd2f>\u001b[0m in \u001b[0;36m<module>\u001b[0;34m()\u001b[0m\n\u001b[1;32m      1\u001b[0m \u001b[0;32mimport\u001b[0m \u001b[0mgensim\u001b[0m\u001b[0;34m\u001b[0m\u001b[0m\n\u001b[1;32m      2\u001b[0m \u001b[0;32mimport\u001b[0m \u001b[0mpickle\u001b[0m\u001b[0;34m\u001b[0m\u001b[0m\n\u001b[0;32m----> 3\u001b[0;31m \u001b[0;32mimport\u001b[0m \u001b[0mpandas\u001b[0m \u001b[0;32mas\u001b[0m \u001b[0mpd\u001b[0m\u001b[0;34m\u001b[0m\u001b[0m\n\u001b[0m\u001b[1;32m      4\u001b[0m \u001b[0;32mfrom\u001b[0m \u001b[0mscipy\u001b[0m \u001b[0;32mimport\u001b[0m \u001b[0mspatial\u001b[0m\u001b[0;34m\u001b[0m\u001b[0m\n",
      "\u001b[0;31mImportError\u001b[0m: No module named pandas"
     ]
    }
   ],
   "source": [
    "import gensim\n",
    "import pickle\n",
    "import pandas as pd\n",
    "from scipy import spatial "
   ]
  },
  {
   "cell_type": "code",
   "execution_count": 2,
   "metadata": {
    "collapsed": true
   },
   "outputs": [],
   "source": [
    "path_to_model = \"../../../3-Schoold_Projects/Schoold_Search/data/word2vec_models/GoogleNews-vectors-negative300.bin.gz\""
   ]
  },
  {
   "cell_type": "code",
   "execution_count": 3,
   "metadata": {
    "collapsed": false
   },
   "outputs": [],
   "source": [
    "search_terms = pd.read_csv(\"./processed_search_term_data/common_searches.csv\")"
   ]
  },
  {
   "cell_type": "code",
   "execution_count": 4,
   "metadata": {
    "collapsed": true
   },
   "outputs": [],
   "source": [
    "import numpy"
   ]
  },
  {
   "cell_type": "code",
   "execution_count": 5,
   "metadata": {
    "collapsed": false
   },
   "outputs": [],
   "source": [
    "search_terms_list = list(search_terms['processed_search_term'])"
   ]
  },
  {
   "cell_type": "code",
   "execution_count": 6,
   "metadata": {
    "collapsed": false
   },
   "outputs": [
    {
     "data": {
      "text/plain": [
       "1681"
      ]
     },
     "execution_count": 6,
     "metadata": {},
     "output_type": "execute_result"
    }
   ],
   "source": [
    "len(search_terms_list)"
   ]
  },
  {
   "cell_type": "code",
   "execution_count": 7,
   "metadata": {
    "collapsed": false
   },
   "outputs": [],
   "source": [
    "word2vec_model = gensim.models.Word2Vec.load_word2vec_format(path_to_model, binary=True)"
   ]
  },
  {
   "cell_type": "code",
   "execution_count": 8,
   "metadata": {
    "collapsed": false
   },
   "outputs": [
    {
     "data": {
      "text/plain": [
       "array([ -3.09570312e-01,  -1.31347656e-01,   1.05468750e-01,\n",
       "        -6.98242188e-02,  -1.55273438e-01,  -5.76171875e-02,\n",
       "        -1.56250000e-02,   4.02832031e-02,   1.39526367e-01,\n",
       "        -8.93554688e-02,   1.83593750e-01,  -7.32421875e-03,\n",
       "        -3.29101562e-01,   1.43554688e-01,  -1.43554688e-01,\n",
       "         8.31298828e-02,  -1.31713867e-01,   1.49230957e-01,\n",
       "        -8.88671875e-02,  -6.49414062e-01,  -1.95312500e-02,\n",
       "        -3.84521484e-01,  -2.05078125e-02,  -8.30078125e-03,\n",
       "        -7.03125000e-02,  -2.29980469e-01,   7.37304688e-02,\n",
       "         2.60253906e-01,  -1.33789062e-01,   4.78515625e-02,\n",
       "         1.07421875e-01,  -5.05859375e-01,   1.72851562e-01,\n",
       "        -1.95312500e-03,  -4.37011719e-01,  -7.71484375e-02,\n",
       "        -3.99169922e-01,  -1.27197266e-01,   6.83593750e-02,\n",
       "         4.48486328e-01,   6.44531250e-02,   4.88281250e-03,\n",
       "         2.96386719e-01,   1.95312500e-02,  -1.96166992e-01,\n",
       "        -8.30078125e-03,   9.52148438e-03,   1.66259766e-01,\n",
       "         4.19921875e-02,   5.28320312e-01,   3.31054688e-01,\n",
       "         2.19726562e-02,  -1.40747070e-01,  -2.67822266e-01,\n",
       "         3.75976562e-02,  -2.48168945e-01,  -4.34570312e-01,\n",
       "         3.44238281e-02,  -1.61132812e-01,  -1.56250000e-02,\n",
       "         2.06176758e-01,   2.00866699e-01,  -4.12109375e-01,\n",
       "         5.49316406e-03,   1.26953125e-02,   1.25488281e-01,\n",
       "        -3.95996094e-01,   1.07910156e-01,  -1.30859375e-01,\n",
       "        -9.37500000e-02,  -1.19873047e-01,   1.95312500e-03,\n",
       "         5.37109375e-01,  -3.40820312e-01,  -1.33666992e-01,\n",
       "         2.44140625e-02,   4.50683594e-01,   4.00390625e-02,\n",
       "         4.27734375e-01,  -2.92114258e-01,   2.28515625e-01,\n",
       "         1.76269531e-01,   2.20703125e-01,  -4.65820312e-01,\n",
       "         2.17529297e-01,  -1.24023438e-01,  -4.37500000e-01,\n",
       "         3.23242188e-01,   2.44140625e-02,   2.72705078e-01,\n",
       "         3.48632812e-01,  -2.94555664e-01,  -1.26098633e-01,\n",
       "        -2.01171875e-01,  -1.22558594e-01,  -4.00390625e-02,\n",
       "         3.38378906e-01,  -1.09375000e-01,   3.17382812e-01,\n",
       "         7.45849609e-02,   3.01269531e-01,  -1.60034180e-01,\n",
       "         3.32519531e-01,  -1.42089844e-01,   4.29687500e-02,\n",
       "         1.16455078e-01,  -2.39013672e-01,   8.74023438e-02,\n",
       "         1.64794922e-01,  -2.74414062e-01,  -1.46484375e-01,\n",
       "        -1.19628906e-01,   1.87255859e-01,   8.59375000e-02,\n",
       "         2.69775391e-02,   1.91406250e-01,   8.79387856e-02,\n",
       "        -2.25585938e-01,   5.20019531e-01,   3.43750000e-01,\n",
       "        -5.58593750e-01,   4.38964844e-01,  -3.37890625e-01,\n",
       "         2.82714844e-01,   2.25097656e-01,  -3.41796875e-01,\n",
       "        -3.40820312e-01,  -2.03430176e-01,   1.35864258e-01,\n",
       "         1.42822266e-02,  -8.00781250e-02,  -4.07714844e-01,\n",
       "         1.01562500e-01,   2.38159180e-01,  -1.48925781e-01,\n",
       "        -3.27270508e-01,   1.99951172e-01,   8.40454102e-02,\n",
       "        -2.07519531e-01,   2.92434692e-02,   2.71484375e-01,\n",
       "        -1.33300781e-01,  -5.66406250e-02,   4.90234375e-01,\n",
       "        -4.87304688e-01,  -1.27319336e-01,   3.26171875e-01,\n",
       "         1.98242188e-01,  -8.25195312e-02,  -3.87695312e-01,\n",
       "         3.69873047e-01,  -2.41699219e-02,  -1.52954102e-01,\n",
       "         4.80957031e-01,  -1.95312500e-03,  -6.12792969e-02,\n",
       "        -3.48632812e-01,   6.76269531e-02,  -3.13476562e-01,\n",
       "        -5.09277344e-01,  -1.32324219e-01,  -1.37451172e-01,\n",
       "        -1.94335938e-01,   8.78906250e-03,  -4.07714844e-01,\n",
       "         4.36523438e-01,   1.75292969e-01,  -6.34765625e-02,\n",
       "        -7.27539062e-02,  -9.74121094e-02,   2.49145508e-01,\n",
       "        -2.38769531e-01,  -3.52539062e-01,   8.30078125e-02,\n",
       "         1.47827148e-01,  -2.19726562e-02,  -1.50512695e-01,\n",
       "        -2.09716797e-01,   1.42883301e-01,  -2.84423828e-01,\n",
       "         2.79296875e-01,  -2.89062500e-01,  -9.94873047e-02,\n",
       "        -4.93164062e-01,   2.22167969e-01,   4.29687500e-02,\n",
       "        -3.06640625e-01,   3.02734375e-01,   3.39355469e-02,\n",
       "         2.79296875e-01,  -2.46093750e-01,  -4.16503906e-01,\n",
       "        -2.04101562e-01,  -3.03710938e-01,   6.87255859e-02,\n",
       "         1.77246094e-01,   4.24804688e-01,  -2.10693359e-01,\n",
       "         4.40917969e-01,  -3.61328125e-02,  -3.53027344e-01,\n",
       "         4.73632812e-02,   1.46301270e-01,  -2.21069336e-01,\n",
       "         7.01904297e-02,   3.28125000e-01,  -1.89697266e-01,\n",
       "        -2.27783203e-01,   1.63452148e-01,   2.92968750e-03,\n",
       "        -4.88281250e-04,   3.57421875e-01,  -1.66015625e-02,\n",
       "         1.89453125e-01,  -4.75585938e-01,   4.42382812e-01,\n",
       "        -4.33349609e-02,   2.72949219e-01,  -3.27636719e-01,\n",
       "         2.04650879e-01,  -5.08789062e-01,  -9.25292969e-02,\n",
       "        -6.23779297e-02,  -3.75732422e-01,  -4.38476562e-01,\n",
       "        -9.52148438e-03,   4.07653809e-01,   2.36328125e-01,\n",
       "         1.84570312e-01,  -2.02636719e-02,  -1.19506836e-01,\n",
       "        -3.06640625e-01,  -7.51953125e-02,  -2.89550781e-01,\n",
       "        -1.28784180e-01,  -2.47558594e-01,   1.40136719e-01,\n",
       "        -3.61328125e-02,   5.20507812e-01,  -3.06152344e-01,\n",
       "         5.16601562e-01,  -2.44628906e-01,  -6.83593750e-03,\n",
       "         1.17187500e-02,  -3.50097656e-01,   1.42700195e-01,\n",
       "         3.74023438e-01,   9.96093750e-02,  -8.30078125e-03,\n",
       "        -1.18873596e-01,  -4.26757812e-01,   8.22753906e-02,\n",
       "        -4.13574219e-01,  -2.73437500e-02,  -3.22265625e-02,\n",
       "         1.79687500e-01,   2.83691406e-01,  -4.39453125e-01,\n",
       "         6.09130859e-02,  -3.50341797e-02,   1.95312500e-02,\n",
       "        -1.68945312e-01,  -3.38867188e-01,   1.07055664e-01,\n",
       "        -1.28906250e-01,   3.56872559e-01,  -2.28881836e-01,\n",
       "        -2.20336914e-02,  -3.37402344e-01,  -1.79199219e-01,\n",
       "         4.44869995e-02,   4.64843750e-01,   4.88281250e-03,\n",
       "         7.38525391e-02,   2.78320312e-02,  -1.00097656e-02,\n",
       "         3.22265625e-01,  -1.46484375e-03,   1.89453125e-01,\n",
       "        -1.56982422e-01,  -5.41015625e-01,   2.76336670e-01,\n",
       "         2.56835938e-01,  -5.50537109e-02,  -1.32812500e-01,\n",
       "        -2.81250000e-01,   1.11816406e-01,  -1.59179688e-01,\n",
       "        -1.03515625e-01,   3.13476562e-01,  -1.72363281e-01,\n",
       "         3.12500000e-02,   6.07757568e-02,   3.47290039e-01,\n",
       "        -2.38281250e-01,   1.79748535e-01,   2.33642578e-01,\n",
       "        -5.87890625e-01,   2.45605469e-01,  -2.74902344e-01], dtype=float32)"
      ]
     },
     "execution_count": 8,
     "metadata": {},
     "output_type": "execute_result"
    }
   ],
   "source": [
    "word2vec_model['crime'] + word2vec_model['data']"
   ]
  },
  {
   "cell_type": "markdown",
   "metadata": {},
   "source": [
    "## vectorize words"
   ]
  },
  {
   "cell_type": "code",
   "execution_count": 9,
   "metadata": {
    "collapsed": false
   },
   "outputs": [],
   "source": [
    "pre_trained = [word for word in search_terms_list if word in word2vec_model]"
   ]
  },
  {
   "cell_type": "code",
   "execution_count": 10,
   "metadata": {
    "collapsed": false
   },
   "outputs": [
    {
     "data": {
      "text/plain": [
       "815"
      ]
     },
     "execution_count": 10,
     "metadata": {},
     "output_type": "execute_result"
    }
   ],
   "source": [
    "len(pre_trained)"
   ]
  },
  {
   "cell_type": "code",
   "execution_count": 11,
   "metadata": {
    "collapsed": false
   },
   "outputs": [],
   "source": [
    "def calculate_vector(text, word2vec_model):\n",
    "    text = str(text)\n",
    "    text_split = text.split(\" \")\n",
    "    vector = []\n",
    "    for word in text_split:\n",
    "        if word in word2vec_model:\n",
    "            vector.append(word2vec_model[word])\n",
    "        else:\n",
    "            pass\n",
    "    vector_total = sum(vector)\n",
    "    \n",
    "    if len(vector) <1:\n",
    "        return None\n",
    "    else:\n",
    "        return vector_total"
   ]
  },
  {
   "cell_type": "code",
   "execution_count": 12,
   "metadata": {
    "collapsed": false
   },
   "outputs": [
    {
     "name": "stdout",
     "output_type": "stream",
     "text": [
      "None\n"
     ]
    }
   ],
   "source": [
    "print calculate_vector('lfhffhhfhf', word2vec_model)"
   ]
  },
  {
   "cell_type": "code",
   "execution_count": 13,
   "metadata": {
    "collapsed": false
   },
   "outputs": [
    {
     "data": {
      "text/plain": [
       "0.25709755757982511"
      ]
     },
     "execution_count": 13,
     "metadata": {},
     "output_type": "execute_result"
    }
   ],
   "source": [
    "spatial.distance.cosine(calculate_vector('crime', word2vec_model),calculate_vector('crime data', word2vec_model))"
   ]
  },
  {
   "cell_type": "code",
   "execution_count": 14,
   "metadata": {
    "collapsed": false
   },
   "outputs": [],
   "source": [
    "def calculate_distance(text_a, text_b):\n",
    "    text_vector_a = calculate_vector(text_a, word2vec_model)\n",
    "    text_vector_b = calculate_vector(text_b, word2vec_model)\n",
    "    \n",
    "    if text_vector_a is not None and text_vector_b is not None:\n",
    "        distance = spatial.distance.cosine(text_vector_a, text_vector_b)\n",
    "    else:\n",
    "        return None \n",
    "    return distance"
   ]
  },
  {
   "cell_type": "code",
   "execution_count": 15,
   "metadata": {
    "collapsed": false
   },
   "outputs": [],
   "source": [
    "calculate_distance('crime', \"sdgdo\")"
   ]
  },
  {
   "cell_type": "code",
   "execution_count": 16,
   "metadata": {
    "collapsed": false
   },
   "outputs": [
    {
     "data": {
      "text/plain": [
       "0.97659936389321966"
      ]
     },
     "execution_count": 16,
     "metadata": {},
     "output_type": "execute_result"
    }
   ],
   "source": [
    "spatial.distance.cosine(calculate_vector('crime', word2vec_model),calculate_vector('test', word2vec_model))"
   ]
  },
  {
   "cell_type": "code",
   "execution_count": 17,
   "metadata": {
    "collapsed": false
   },
   "outputs": [
    {
     "data": {
      "text/html": [
       "<div>\n",
       "<table border=\"1\" class=\"dataframe\">\n",
       "  <thead>\n",
       "    <tr style=\"text-align: right;\">\n",
       "      <th></th>\n",
       "      <th>processed_search_term</th>\n",
       "      <th>count</th>\n",
       "    </tr>\n",
       "  </thead>\n",
       "  <tbody>\n",
       "    <tr>\n",
       "      <th>0</th>\n",
       "      <td>crime</td>\n",
       "      <td>1118</td>\n",
       "    </tr>\n",
       "    <tr>\n",
       "      <th>1</th>\n",
       "      <td>streets</td>\n",
       "      <td>851</td>\n",
       "    </tr>\n",
       "    <tr>\n",
       "      <th>2</th>\n",
       "      <td>shapefile</td>\n",
       "      <td>744</td>\n",
       "    </tr>\n",
       "    <tr>\n",
       "      <th>3</th>\n",
       "      <td>street</td>\n",
       "      <td>697</td>\n",
       "    </tr>\n",
       "    <tr>\n",
       "      <th>4</th>\n",
       "      <td>parking</td>\n",
       "      <td>693</td>\n",
       "    </tr>\n",
       "  </tbody>\n",
       "</table>\n",
       "</div>"
      ],
      "text/plain": [
       "  processed_search_term  count\n",
       "0                 crime   1118\n",
       "1               streets    851\n",
       "2             shapefile    744\n",
       "3                street    697\n",
       "4               parking    693"
      ]
     },
     "execution_count": 17,
     "metadata": {},
     "output_type": "execute_result"
    }
   ],
   "source": [
    "search_terms.head()"
   ]
  },
  {
   "cell_type": "code",
   "execution_count": 29,
   "metadata": {
    "collapsed": false
   },
   "outputs": [
    {
     "data": {
      "text/html": [
       "<div>\n",
       "<table border=\"1\" class=\"dataframe\">\n",
       "  <thead>\n",
       "    <tr style=\"text-align: right;\">\n",
       "      <th></th>\n",
       "      <th>processed_search_term</th>\n",
       "      <th>count</th>\n",
       "      <th>distance</th>\n",
       "    </tr>\n",
       "  </thead>\n",
       "  <tbody>\n",
       "    <tr>\n",
       "      <th>142</th>\n",
       "      <td>coffee</td>\n",
       "      <td>94</td>\n",
       "      <td>4.309776e-08</td>\n",
       "    </tr>\n",
       "    <tr>\n",
       "      <th>1041</th>\n",
       "      <td>beer</td>\n",
       "      <td>16</td>\n",
       "      <td>4.858279e-01</td>\n",
       "    </tr>\n",
       "    <tr>\n",
       "      <th>600</th>\n",
       "      <td>cafe bakery</td>\n",
       "      <td>28</td>\n",
       "      <td>5.056731e-01</td>\n",
       "    </tr>\n",
       "    <tr>\n",
       "      <th>442</th>\n",
       "      <td>cafe</td>\n",
       "      <td>37</td>\n",
       "      <td>5.359108e-01</td>\n",
       "    </tr>\n",
       "    <tr>\n",
       "      <th>531</th>\n",
       "      <td>wine</td>\n",
       "      <td>32</td>\n",
       "      <td>5.576695e-01</td>\n",
       "    </tr>\n",
       "    <tr>\n",
       "      <th>1474</th>\n",
       "      <td>starbucks</td>\n",
       "      <td>12</td>\n",
       "      <td>5.784863e-01</td>\n",
       "    </tr>\n",
       "    <tr>\n",
       "      <th>32</th>\n",
       "      <td>food</td>\n",
       "      <td>287</td>\n",
       "      <td>6.022146e-01</td>\n",
       "    </tr>\n",
       "    <tr>\n",
       "      <th>207</th>\n",
       "      <td>food truck</td>\n",
       "      <td>72</td>\n",
       "      <td>6.298617e-01</td>\n",
       "    </tr>\n",
       "    <tr>\n",
       "      <th>1629</th>\n",
       "      <td>ramen yamadaya</td>\n",
       "      <td>11</td>\n",
       "      <td>6.370219e-01</td>\n",
       "    </tr>\n",
       "    <tr>\n",
       "      <th>1379</th>\n",
       "      <td>drinking water</td>\n",
       "      <td>13</td>\n",
       "      <td>6.378646e-01</td>\n",
       "    </tr>\n",
       "    <tr>\n",
       "      <th>263</th>\n",
       "      <td>mobile food</td>\n",
       "      <td>59</td>\n",
       "      <td>6.398947e-01</td>\n",
       "    </tr>\n",
       "    <tr>\n",
       "      <th>1638</th>\n",
       "      <td>mobile food truck</td>\n",
       "      <td>11</td>\n",
       "      <td>6.410702e-01</td>\n",
       "    </tr>\n",
       "    <tr>\n",
       "      <th>246</th>\n",
       "      <td>liquor</td>\n",
       "      <td>62</td>\n",
       "      <td>6.534466e-01</td>\n",
       "    </tr>\n",
       "    <tr>\n",
       "      <th>1522</th>\n",
       "      <td>restuarant</td>\n",
       "      <td>11</td>\n",
       "      <td>6.562586e-01</td>\n",
       "    </tr>\n",
       "    <tr>\n",
       "      <th>656</th>\n",
       "      <td>liquor store</td>\n",
       "      <td>26</td>\n",
       "      <td>6.622831e-01</td>\n",
       "    </tr>\n",
       "    <tr>\n",
       "      <th>308</th>\n",
       "      <td>grocery</td>\n",
       "      <td>51</td>\n",
       "      <td>6.640714e-01</td>\n",
       "    </tr>\n",
       "    <tr>\n",
       "      <th>1099</th>\n",
       "      <td>yerba buena gardens</td>\n",
       "      <td>16</td>\n",
       "      <td>6.652676e-01</td>\n",
       "    </tr>\n",
       "    <tr>\n",
       "      <th>30</th>\n",
       "      <td>restaurant</td>\n",
       "      <td>293</td>\n",
       "      <td>6.723598e-01</td>\n",
       "    </tr>\n",
       "    <tr>\n",
       "      <th>252</th>\n",
       "      <td>food trucks</td>\n",
       "      <td>61</td>\n",
       "      <td>6.838396e-01</td>\n",
       "    </tr>\n",
       "    <tr>\n",
       "      <th>1590</th>\n",
       "      <td>liquor stores</td>\n",
       "      <td>11</td>\n",
       "      <td>6.851012e-01</td>\n",
       "    </tr>\n",
       "    <tr>\n",
       "      <th>680</th>\n",
       "      <td>baker places</td>\n",
       "      <td>25</td>\n",
       "      <td>6.909887e-01</td>\n",
       "    </tr>\n",
       "    <tr>\n",
       "      <th>831</th>\n",
       "      <td>grocery store</td>\n",
       "      <td>21</td>\n",
       "      <td>6.952941e-01</td>\n",
       "    </tr>\n",
       "    <tr>\n",
       "      <th>1125</th>\n",
       "      <td>chinese food</td>\n",
       "      <td>15</td>\n",
       "      <td>7.025256e-01</td>\n",
       "    </tr>\n",
       "    <tr>\n",
       "      <th>49</th>\n",
       "      <td>restaurants</td>\n",
       "      <td>206</td>\n",
       "      <td>7.047004e-01</td>\n",
       "    </tr>\n",
       "    <tr>\n",
       "      <th>1483</th>\n",
       "      <td>compost</td>\n",
       "      <td>12</td>\n",
       "      <td>7.051361e-01</td>\n",
       "    </tr>\n",
       "    <tr>\n",
       "      <th>850</th>\n",
       "      <td>resturant</td>\n",
       "      <td>20</td>\n",
       "      <td>7.058832e-01</td>\n",
       "    </tr>\n",
       "    <tr>\n",
       "      <th>558</th>\n",
       "      <td>tobacco</td>\n",
       "      <td>30</td>\n",
       "      <td>7.060034e-01</td>\n",
       "    </tr>\n",
       "    <tr>\n",
       "      <th>1444</th>\n",
       "      <td>americas cup</td>\n",
       "      <td>12</td>\n",
       "      <td>7.062184e-01</td>\n",
       "    </tr>\n",
       "    <tr>\n",
       "      <th>1050</th>\n",
       "      <td>street furniture</td>\n",
       "      <td>16</td>\n",
       "      <td>7.092690e-01</td>\n",
       "    </tr>\n",
       "    <tr>\n",
       "      <th>284</th>\n",
       "      <td>wifi</td>\n",
       "      <td>54</td>\n",
       "      <td>7.139413e-01</td>\n",
       "    </tr>\n",
       "    <tr>\n",
       "      <th>...</th>\n",
       "      <td>...</td>\n",
       "      <td>...</td>\n",
       "      <td>...</td>\n",
       "    </tr>\n",
       "    <tr>\n",
       "      <th>1246</th>\n",
       "      <td>fillmore</td>\n",
       "      <td>14</td>\n",
       "      <td>NaN</td>\n",
       "    </tr>\n",
       "    <tr>\n",
       "      <th>1248</th>\n",
       "      <td>grafiti</td>\n",
       "      <td>14</td>\n",
       "      <td>NaN</td>\n",
       "    </tr>\n",
       "    <tr>\n",
       "      <th>1256</th>\n",
       "      <td>citylot</td>\n",
       "      <td>14</td>\n",
       "      <td>NaN</td>\n",
       "    </tr>\n",
       "    <tr>\n",
       "      <th>1277</th>\n",
       "      <td>caltrans</td>\n",
       "      <td>13</td>\n",
       "      <td>NaN</td>\n",
       "    </tr>\n",
       "    <tr>\n",
       "      <th>1291</th>\n",
       "      <td>smf</td>\n",
       "      <td>13</td>\n",
       "      <td>NaN</td>\n",
       "    </tr>\n",
       "    <tr>\n",
       "      <th>1308</th>\n",
       "      <td>dogpatch</td>\n",
       "      <td>13</td>\n",
       "      <td>NaN</td>\n",
       "    </tr>\n",
       "    <tr>\n",
       "      <th>1326</th>\n",
       "      <td>demograph</td>\n",
       "      <td>13</td>\n",
       "      <td>NaN</td>\n",
       "    </tr>\n",
       "    <tr>\n",
       "      <th>1331</th>\n",
       "      <td>bayareabridges</td>\n",
       "      <td>13</td>\n",
       "      <td>NaN</td>\n",
       "    </tr>\n",
       "    <tr>\n",
       "      <th>1347</th>\n",
       "      <td>lbe</td>\n",
       "      <td>13</td>\n",
       "      <td>NaN</td>\n",
       "    </tr>\n",
       "    <tr>\n",
       "      <th>1348</th>\n",
       "      <td>ceqa</td>\n",
       "      <td>13</td>\n",
       "      <td>NaN</td>\n",
       "    </tr>\n",
       "    <tr>\n",
       "      <th>1383</th>\n",
       "      <td>neighbourhoods</td>\n",
       "      <td>13</td>\n",
       "      <td>NaN</td>\n",
       "    </tr>\n",
       "    <tr>\n",
       "      <th>1386</th>\n",
       "      <td>awss</td>\n",
       "      <td>12</td>\n",
       "      <td>NaN</td>\n",
       "    </tr>\n",
       "    <tr>\n",
       "      <th>1415</th>\n",
       "      <td>fppc</td>\n",
       "      <td>12</td>\n",
       "      <td>NaN</td>\n",
       "    </tr>\n",
       "    <tr>\n",
       "      <th>1418</th>\n",
       "      <td>tnc</td>\n",
       "      <td>12</td>\n",
       "      <td>NaN</td>\n",
       "    </tr>\n",
       "    <tr>\n",
       "      <th>1423</th>\n",
       "      <td>aupair</td>\n",
       "      <td>12</td>\n",
       "      <td>NaN</td>\n",
       "    </tr>\n",
       "    <tr>\n",
       "      <th>1425</th>\n",
       "      <td>mrsid</td>\n",
       "      <td>12</td>\n",
       "      <td>NaN</td>\n",
       "    </tr>\n",
       "    <tr>\n",
       "      <th>1445</th>\n",
       "      <td>hillshade</td>\n",
       "      <td>12</td>\n",
       "      <td>NaN</td>\n",
       "    </tr>\n",
       "    <tr>\n",
       "      <th>1478</th>\n",
       "      <td>stclinesstreets</td>\n",
       "      <td>12</td>\n",
       "      <td>NaN</td>\n",
       "    </tr>\n",
       "    <tr>\n",
       "      <th>1503</th>\n",
       "      <td>scriptscriptalert1script</td>\n",
       "      <td>12</td>\n",
       "      <td>NaN</td>\n",
       "    </tr>\n",
       "    <tr>\n",
       "      <th>1514</th>\n",
       "      <td>yamadaya</td>\n",
       "      <td>12</td>\n",
       "      <td>NaN</td>\n",
       "    </tr>\n",
       "    <tr>\n",
       "      <th>1530</th>\n",
       "      <td>sfpdincidents2013</td>\n",
       "      <td>11</td>\n",
       "      <td>NaN</td>\n",
       "    </tr>\n",
       "    <tr>\n",
       "      <th>1540</th>\n",
       "      <td>canarias</td>\n",
       "      <td>11</td>\n",
       "      <td>NaN</td>\n",
       "    </tr>\n",
       "    <tr>\n",
       "      <th>1551</th>\n",
       "      <td>socrata</td>\n",
       "      <td>11</td>\n",
       "      <td>NaN</td>\n",
       "    </tr>\n",
       "    <tr>\n",
       "      <th>1583</th>\n",
       "      <td>census2010blknowater</td>\n",
       "      <td>11</td>\n",
       "      <td>NaN</td>\n",
       "    </tr>\n",
       "    <tr>\n",
       "      <th>1592</th>\n",
       "      <td>hetch hetchy</td>\n",
       "      <td>11</td>\n",
       "      <td>NaN</td>\n",
       "    </tr>\n",
       "    <tr>\n",
       "      <th>1621</th>\n",
       "      <td>padmapper</td>\n",
       "      <td>11</td>\n",
       "      <td>NaN</td>\n",
       "    </tr>\n",
       "    <tr>\n",
       "      <th>1655</th>\n",
       "      <td>311abandoned</td>\n",
       "      <td>11</td>\n",
       "      <td>NaN</td>\n",
       "    </tr>\n",
       "    <tr>\n",
       "      <th>1669</th>\n",
       "      <td>ucsf</td>\n",
       "      <td>11</td>\n",
       "      <td>NaN</td>\n",
       "    </tr>\n",
       "    <tr>\n",
       "      <th>1673</th>\n",
       "      <td>assesor</td>\n",
       "      <td>11</td>\n",
       "      <td>NaN</td>\n",
       "    </tr>\n",
       "    <tr>\n",
       "      <th>1676</th>\n",
       "      <td>alain gervais</td>\n",
       "      <td>11</td>\n",
       "      <td>NaN</td>\n",
       "    </tr>\n",
       "  </tbody>\n",
       "</table>\n",
       "<p>1681 rows × 3 columns</p>\n",
       "</div>"
      ],
      "text/plain": [
       "         processed_search_term  count      distance\n",
       "142                     coffee     94  4.309776e-08\n",
       "1041                      beer     16  4.858279e-01\n",
       "600                cafe bakery     28  5.056731e-01\n",
       "442                       cafe     37  5.359108e-01\n",
       "531                       wine     32  5.576695e-01\n",
       "1474                 starbucks     12  5.784863e-01\n",
       "32                        food    287  6.022146e-01\n",
       "207                 food truck     72  6.298617e-01\n",
       "1629            ramen yamadaya     11  6.370219e-01\n",
       "1379            drinking water     13  6.378646e-01\n",
       "263                mobile food     59  6.398947e-01\n",
       "1638         mobile food truck     11  6.410702e-01\n",
       "246                     liquor     62  6.534466e-01\n",
       "1522                restuarant     11  6.562586e-01\n",
       "656               liquor store     26  6.622831e-01\n",
       "308                    grocery     51  6.640714e-01\n",
       "1099       yerba buena gardens     16  6.652676e-01\n",
       "30                  restaurant    293  6.723598e-01\n",
       "252                food trucks     61  6.838396e-01\n",
       "1590             liquor stores     11  6.851012e-01\n",
       "680               baker places     25  6.909887e-01\n",
       "831              grocery store     21  6.952941e-01\n",
       "1125              chinese food     15  7.025256e-01\n",
       "49                 restaurants    206  7.047004e-01\n",
       "1483                   compost     12  7.051361e-01\n",
       "850                  resturant     20  7.058832e-01\n",
       "558                    tobacco     30  7.060034e-01\n",
       "1444              americas cup     12  7.062184e-01\n",
       "1050          street furniture     16  7.092690e-01\n",
       "284                       wifi     54  7.139413e-01\n",
       "...                        ...    ...           ...\n",
       "1246                  fillmore     14           NaN\n",
       "1248                   grafiti     14           NaN\n",
       "1256                   citylot     14           NaN\n",
       "1277                  caltrans     13           NaN\n",
       "1291                       smf     13           NaN\n",
       "1308                  dogpatch     13           NaN\n",
       "1326                 demograph     13           NaN\n",
       "1331            bayareabridges     13           NaN\n",
       "1347                       lbe     13           NaN\n",
       "1348                      ceqa     13           NaN\n",
       "1383            neighbourhoods     13           NaN\n",
       "1386                      awss     12           NaN\n",
       "1415                      fppc     12           NaN\n",
       "1418                       tnc     12           NaN\n",
       "1423                    aupair     12           NaN\n",
       "1425                     mrsid     12           NaN\n",
       "1445                 hillshade     12           NaN\n",
       "1478           stclinesstreets     12           NaN\n",
       "1503  scriptscriptalert1script     12           NaN\n",
       "1514                  yamadaya     12           NaN\n",
       "1530         sfpdincidents2013     11           NaN\n",
       "1540                  canarias     11           NaN\n",
       "1551                   socrata     11           NaN\n",
       "1583      census2010blknowater     11           NaN\n",
       "1592              hetch hetchy     11           NaN\n",
       "1621                 padmapper     11           NaN\n",
       "1655              311abandoned     11           NaN\n",
       "1669                      ucsf     11           NaN\n",
       "1673                   assesor     11           NaN\n",
       "1676             alain gervais     11           NaN\n",
       "\n",
       "[1681 rows x 3 columns]"
      ]
     },
     "execution_count": 29,
     "metadata": {},
     "output_type": "execute_result"
    }
   ],
   "source": [
    "search_terms['distance']=search_terms['processed_search_term']\\\n",
    "        .apply(lambda x: calculate_distance(x,\"coffee\"))\n",
    "search_terms.sort_values('distance')"
   ]
  },
  {
   "cell_type": "code",
   "execution_count": 19,
   "metadata": {
    "collapsed": false
   },
   "outputs": [
    {
     "data": {
      "text/html": [
       "<div>\n",
       "<table border=\"1\" class=\"dataframe\">\n",
       "  <thead>\n",
       "    <tr style=\"text-align: right;\">\n",
       "      <th></th>\n",
       "      <th>processed_search_term</th>\n",
       "      <th>count</th>\n",
       "      <th>distance</th>\n",
       "    </tr>\n",
       "  </thead>\n",
       "  <tbody>\n",
       "    <tr>\n",
       "      <th>0</th>\n",
       "      <td>crime</td>\n",
       "      <td>1118</td>\n",
       "      <td>0.773746</td>\n",
       "    </tr>\n",
       "    <tr>\n",
       "      <th>1</th>\n",
       "      <td>streets</td>\n",
       "      <td>851</td>\n",
       "      <td>0.850073</td>\n",
       "    </tr>\n",
       "    <tr>\n",
       "      <th>2</th>\n",
       "      <td>shapefile</td>\n",
       "      <td>744</td>\n",
       "      <td>0.910652</td>\n",
       "    </tr>\n",
       "    <tr>\n",
       "      <th>3</th>\n",
       "      <td>street</td>\n",
       "      <td>697</td>\n",
       "      <td>0.863919</td>\n",
       "    </tr>\n",
       "    <tr>\n",
       "      <th>4</th>\n",
       "      <td>parking</td>\n",
       "      <td>693</td>\n",
       "      <td>0.913093</td>\n",
       "    </tr>\n",
       "  </tbody>\n",
       "</table>\n",
       "</div>"
      ],
      "text/plain": [
       "  processed_search_term  count  distance\n",
       "0                 crime   1118  0.773746\n",
       "1               streets    851  0.850073\n",
       "2             shapefile    744  0.910652\n",
       "3                street    697  0.863919\n",
       "4               parking    693  0.913093"
      ]
     },
     "execution_count": 19,
     "metadata": {},
     "output_type": "execute_result"
    }
   ],
   "source": [
    "search_terms.head()"
   ]
  },
  {
   "cell_type": "code",
   "execution_count": null,
   "metadata": {
    "collapsed": true
   },
   "outputs": [],
   "source": []
  }
 ],
 "metadata": {
  "kernelspec": {
   "display_name": "Python 2",
   "language": "python",
   "name": "python2"
  },
  "language_info": {
   "codemirror_mode": {
    "name": "ipython",
    "version": 2
   },
   "file_extension": ".py",
   "mimetype": "text/x-python",
   "name": "python",
   "nbconvert_exporter": "python",
   "pygments_lexer": "ipython2",
   "version": "2.7.13"
  }
 },
 "nbformat": 4,
 "nbformat_minor": 0
}
